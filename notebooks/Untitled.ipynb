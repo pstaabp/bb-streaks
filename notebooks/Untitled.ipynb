{
 "cells": [
  {
   "cell_type": "code",
   "execution_count": 74,
   "id": "f6c100f0-b161-4b2f-ab93-8df08077d30e",
   "metadata": {
    "tags": []
   },
   "outputs": [
    {
     "data": {
      "text/plain": [
       "Tuple{Float64, Float64}[]"
      ]
     },
     "execution_count": 74,
     "metadata": {},
     "output_type": "execute_result"
    }
   ],
   "source": [
    "f(x,y)=exp.(-x).*y\n",
    "g(x,y)=x.-y\n",
    "h = 0.25\n",
    "x=Float64[2]\n",
    "y=Float64[0.5]\n",
    "k1=Tuple{Float64,Float64}[]\n",
    "k2=Tuple{Float64,Float64}[]\n",
    "k3=Tuple{Float64,Float64}[]\n",
    "k4=Tuple{Float64,Float64}[]"
   ]
  },
  {
   "cell_type": "code",
   "execution_count": 75,
   "id": "47db9556-44d1-453f-af1d-1b736c8de15f",
   "metadata": {
    "tags": []
   },
   "outputs": [],
   "source": [
    "for i=1:4\n",
    "  push!(k1,(f(x[i],y[i]),g(x[i],y[i])))\n",
    "  push!(k2,(f(x[i].+0.5*h.*k1[i][1],y[i].+0.5*h.*k1[i][2]),g(x[i].+0.5*h.*k1[i][1],y[i].+0.5*h.*k1[i][2])))\n",
    "  push!(k3,(f(x[i].+0.5*h.*k2[i][1],y[i].+0.5*h.*k2[i][2]),g(x[i].+0.5*h.*k2[i][1],y[i].+0.5*h.*k2[i][2])))\n",
    "  push!(k4,(f(x[i].+h.*k3[i][1],y[i].+h.*k3[i][2]),g(x[i].+h.*k3[i][1],y[i].+h.*k3[i][2])))\n",
    "  push!(x,x[i]+h/6*(k1[i][1]+2*k2[i][1]+2*k3[i][1]+k4[i][1]))\n",
    "  push!(y,y[i]+h/6*(k1[i][2]+2*k2[i][2]+2*k3[i][2]+k4[i][2]))\n",
    "end"
   ]
  },
  {
   "cell_type": "code",
   "execution_count": 76,
   "id": "cd08ed53-7779-429a-896e-482a1dfe0ca3",
   "metadata": {
    "tags": []
   },
   "outputs": [
    {
     "data": {
      "text/plain": [
       "4-element Vector{Tuple{Float64, Float64}}:\n",
       " (0.06766764161830635, 1.5)\n",
       " (0.11037853658466575, 1.1883540406066189)\n",
       " (0.1410848889356056, 0.953654534459417)\n",
       " (0.1623702046339077, 0.7765283603478652)"
      ]
     },
     "execution_count": 76,
     "metadata": {},
     "output_type": "execute_result"
    }
   ],
   "source": [
    "k1"
   ]
  },
  {
   "cell_type": "code",
   "execution_count": 77,
   "id": "71845b19-a367-48a4-8dbd-be2d890d5546",
   "metadata": {
    "tags": []
   },
   "outputs": [
    {
     "data": {
      "text/plain": [
       "4-element Vector{Tuple{Float64, Float64}}:\n",
       " (0.09225932615468134, 1.3209584552022884)\n",
       " (0.12825202285744253, 1.0536071026038747)\n",
       " (0.1536332906189692, 0.8520833287689404)\n",
       " (0.17084550688144615, 0.6997585908836208)"
      ]
     },
     "execution_count": 77,
     "metadata": {},
     "output_type": "execute_result"
    }
   ],
   "source": [
    "k2"
   ]
  },
  {
   "cell_type": "code",
   "execution_count": 78,
   "id": "6a9ad0ac-a6a5-4a15-a7aa-2d27195b6962",
   "metadata": {
    "tags": []
   },
   "outputs": [
    {
     "data": {
      "text/plain": [
       "4-element Vector{Tuple{Float64, Float64}}:\n",
       " (0.0889820593799705, 1.3464126088690493)\n",
       " (0.1257725445383847, 1.072684655638315)\n",
       " (0.15179582776855124, 0.8663482796906705)\n",
       " (0.1695054240338332, 0.7104142248475933)"
      ]
     },
     "execution_count": 78,
     "metadata": {},
     "output_type": "execute_result"
    }
   ],
   "source": [
    "k3"
   ]
  },
  {
   "cell_type": "code",
   "execution_count": 79,
   "id": "63972a24-9c2c-431d-89c5-f411e1a04c90",
   "metadata": {
    "tags": []
   },
   "outputs": [
    {
     "data": {
      "text/plain": [
       "4-element Vector{Tuple{Float64, Float64}}:\n",
       " (0.11073105264165219, 1.1856423626277304)\n",
       " (0.14134775101347002, 0.9516260128316367)\n",
       " (0.1625628684696345, 0.7750164214788868)\n",
       " (0.17664078801933156, 0.6413011601444252)"
      ]
     },
     "execution_count": 79,
     "metadata": {},
     "output_type": "execute_result"
    }
   ],
   "source": [
    "k4"
   ]
  },
  {
   "cell_type": "code",
   "execution_count": 80,
   "id": "076fe558-4e78-427f-9bba-99d42f3273ae",
   "metadata": {
    "tags": []
   },
   "outputs": [
    {
     "data": {
      "text/plain": [
       "5-element Vector{Float64}:\n",
       " 2.0\n",
       " 2.0225367277220525\n",
       " 2.0541940369882936\n",
       " 2.092298453412472\n",
       " 2.134786489015964"
      ]
     },
     "execution_count": 80,
     "metadata": {},
     "output_type": "execute_result"
    }
   ],
   "source": [
    "x"
   ]
  },
  {
   "cell_type": "code",
   "execution_count": 81,
   "id": "dc0b52e2-105f-4efd-aa23-f9cde343d79f",
   "metadata": {
    "tags": []
   },
   "outputs": [
    {
     "data": {
      "text/plain": [
       "5-element Vector{Float64}:\n",
       " 0.5\n",
       " 0.8341826871154335\n",
       " 1.1005395025288767\n",
       " 1.3157700930646068\n",
       " 1.4923607243960535"
      ]
     },
     "execution_count": 81,
     "metadata": {},
     "output_type": "execute_result"
    }
   ],
   "source": [
    "y"
   ]
  },
  {
   "cell_type": "code",
   "execution_count": null,
   "id": "316ec262-c65d-44ce-96c4-c2f5f08ddfed",
   "metadata": {},
   "outputs": [],
   "source": []
  }
 ],
 "metadata": {
  "kernelspec": {
   "display_name": "Julia 1.9.0-beta4",
   "language": "julia",
   "name": "julia-1.9"
  },
  "language_info": {
   "file_extension": ".jl",
   "mimetype": "application/julia",
   "name": "julia",
   "version": "1.9.0"
  }
 },
 "nbformat": 4,
 "nbformat_minor": 5
}
