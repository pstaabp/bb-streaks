{
 "cells": [
  {
   "cell_type": "markdown",
   "metadata": {},
   "source": [
    "## Getting started with Julia, Jupyter and Dataframes\n",
    "\n",
    "This project was completed using the [Julia language](https://julialang.org) using [Jupyter notebooks](https://docs.jupyter.org/en/latest/start/index.html).  \n",
    "\n",
    "Julia is a relatively new (started in 2013) programming language that was designed for scientific computing and uses modern language features.  It has become also a well-used language for data analysis and data science.  There are many packages available for Julia, and one that we will use throughout this is the [DataFrames](https://dataframes.juliadata.org/stable/) package, which is fast and flexible.\n",
    "\n",
    "This document is a getting started with these tools and just enough to run and understand.  We first start with some basics of a DataFrame, which we load with:"
   ]
  },
  {
   "cell_type": "code",
   "execution_count": 1,
   "metadata": {},
   "outputs": [],
   "source": [
    "using DataFrames"
   ]
  },
  {
   "cell_type": "markdown",
   "metadata": {},
   "source": [
    "Note: to evaluate (run) the cell, use SHIFT-ENTER and if there was an error, you may need to install the package.  There is usually information on how to do that upon the error.\n",
    "\n",
    "Although we will typically get data from an external file, we start with a DataFrame that is created by entering in the data. This happens to be the final standings of the NBA in the 1959-60 season."
   ]
  },
  {
   "cell_type": "code",
   "execution_count": 2,
   "metadata": {},
   "outputs": [
    {
     "data": {
      "text/html": [
       "<div><div style = \"float: left;\"><span>8×3 DataFrame</span></div><div style = \"clear: both;\"></div></div><div class = \"data-frame\" style = \"overflow-x: scroll;\"><table class = \"data-frame\" style = \"margin-bottom: 6px;\"><thead><tr class = \"header\"><th class = \"rowNumber\" style = \"font-weight: bold; text-align: right;\">Row</th><th style = \"text-align: left;\">team</th><th style = \"text-align: left;\">W</th><th style = \"text-align: left;\">L</th></tr><tr class = \"subheader headerLastRow\"><th class = \"rowNumber\" style = \"font-weight: bold; text-align: right;\"></th><th title = \"String\" style = \"text-align: left;\">String</th><th title = \"Int64\" style = \"text-align: left;\">Int64</th><th title = \"Int64\" style = \"text-align: left;\">Int64</th></tr></thead><tbody><tr><td class = \"rowNumber\" style = \"font-weight: bold; text-align: right;\">1</td><td style = \"text-align: left;\">Boston Celtics</td><td style = \"text-align: right;\">59</td><td style = \"text-align: right;\">16</td></tr><tr><td class = \"rowNumber\" style = \"font-weight: bold; text-align: right;\">2</td><td style = \"text-align: left;\">Cincinnati Royals</td><td style = \"text-align: right;\">19</td><td style = \"text-align: right;\">56</td></tr><tr><td class = \"rowNumber\" style = \"font-weight: bold; text-align: right;\">3</td><td style = \"text-align: left;\">Detroit Pistons</td><td style = \"text-align: right;\">29</td><td style = \"text-align: right;\">46</td></tr><tr><td class = \"rowNumber\" style = \"font-weight: bold; text-align: right;\">4</td><td style = \"text-align: left;\">Minneapolis Lakers</td><td style = \"text-align: right;\">26</td><td style = \"text-align: right;\">49</td></tr><tr><td class = \"rowNumber\" style = \"font-weight: bold; text-align: right;\">5</td><td style = \"text-align: left;\">New York Knicks</td><td style = \"text-align: right;\">27</td><td style = \"text-align: right;\">48</td></tr><tr><td class = \"rowNumber\" style = \"font-weight: bold; text-align: right;\">6</td><td style = \"text-align: left;\">Philadelphia Warriors</td><td style = \"text-align: right;\">49</td><td style = \"text-align: right;\">26</td></tr><tr><td class = \"rowNumber\" style = \"font-weight: bold; text-align: right;\">7</td><td style = \"text-align: left;\">St. Louis Hawks</td><td style = \"text-align: right;\">46</td><td style = \"text-align: right;\">29</td></tr><tr><td class = \"rowNumber\" style = \"font-weight: bold; text-align: right;\">8</td><td style = \"text-align: left;\">Syracuse Nationals</td><td style = \"text-align: right;\">45</td><td style = \"text-align: right;\">30</td></tr></tbody></table></div>"
      ],
      "text/latex": [
       "\\begin{tabular}{r|ccc}\n",
       "\t& team & W & L\\\\\n",
       "\t\\hline\n",
       "\t& String & Int64 & Int64\\\\\n",
       "\t\\hline\n",
       "\t1 & Boston Celtics & 59 & 16 \\\\\n",
       "\t2 & Cincinnati Royals & 19 & 56 \\\\\n",
       "\t3 & Detroit Pistons & 29 & 46 \\\\\n",
       "\t4 & Minneapolis Lakers & 26 & 49 \\\\\n",
       "\t5 & New York Knicks & 27 & 48 \\\\\n",
       "\t6 & Philadelphia Warriors & 49 & 26 \\\\\n",
       "\t7 & St. Louis Hawks & 46 & 29 \\\\\n",
       "\t8 & Syracuse Nationals & 45 & 30 \\\\\n",
       "\\end{tabular}\n"
      ],
      "text/plain": [
       "\u001b[1m8×3 DataFrame\u001b[0m\n",
       "\u001b[1m Row \u001b[0m│\u001b[1m team                  \u001b[0m\u001b[1m W     \u001b[0m\u001b[1m L     \u001b[0m\n",
       "     │\u001b[90m String                \u001b[0m\u001b[90m Int64 \u001b[0m\u001b[90m Int64 \u001b[0m\n",
       "─────┼─────────────────────────────────────\n",
       "   1 │ Boston Celtics            59     16\n",
       "   2 │ Cincinnati Royals         19     56\n",
       "   3 │ Detroit Pistons           29     46\n",
       "   4 │ Minneapolis Lakers        26     49\n",
       "   5 │ New York Knicks           27     48\n",
       "   6 │ Philadelphia Warriors     49     26\n",
       "   7 │ St. Louis Hawks           46     29\n",
       "   8 │ Syracuse Nationals        45     30"
      ]
     },
     "execution_count": 2,
     "metadata": {},
     "output_type": "execute_result"
    }
   ],
   "source": [
    "nba1960 = DataFrame(team=[\"Boston Celtics\", \"Cincinnati Royals\", \"Detroit Pistons\", \"Minneapolis Lakers\",\n",
    " \"New York Knicks\", \"Philadelphia Warriors\", \"St. Louis Hawks\", \"Syracuse Nationals\"],\n",
    "W = [59, 19, 29, 26, 27, 49, 46, 45],\n",
    "L = [16, 56, 46, 49, 48, 26, 29, 30])"
   ]
  },
  {
   "cell_type": "markdown",
   "metadata": {},
   "source": [
    "Which is the final standings of the 1960 season in the NBA.  (We will show how to pull this together from files all games)\n",
    "\n",
    "This DataFrame has 3 columns and we create it by putting in the 3 columns as Vectors (1D array) using []. Note, you will get an error, if these are not the same length. \n",
    "\n",
    "Also, each of the three columns have types--the first being a String, the other two `Int64`, which is short for a 64-bit integer (the standard integer type on most current computers).  The DataFrames package automatically determines the type and this is important for speed. "
   ]
  },
  {
   "cell_type": "markdown",
   "metadata": {},
   "source": [
    "## Chaining operation on Dataframes\n",
    "\n",
    "As we will see working with Dataframes often includes multiple steps that are chained together.  The steps including subsetting by columns or rows, transforming a dataframe to make new columns as well as sorting. \n",
    "\n",
    "First, we will just do a single operations, but still use the `Chain.jl` package, which will help as the operations get more complex.  To use the `Chain` package, "
   ]
  },
  {
   "cell_type": "code",
   "execution_count": 3,
   "metadata": {},
   "outputs": [],
   "source": [
    "using Chain"
   ]
  },
  {
   "cell_type": "markdown",
   "metadata": {},
   "source": [
    "and again, if this is not downloaded and available, you will be instructed how to obtain it. \n",
    "\n",
    "The following will take the DataFrame above and sort it by wins:"
   ]
  },
  {
   "cell_type": "code",
   "execution_count": 4,
   "metadata": {},
   "outputs": [
    {
     "data": {
      "text/html": [
       "<div><div style = \"float: left;\"><span>8×3 DataFrame</span></div><div style = \"clear: both;\"></div></div><div class = \"data-frame\" style = \"overflow-x: scroll;\"><table class = \"data-frame\" style = \"margin-bottom: 6px;\"><thead><tr class = \"header\"><th class = \"rowNumber\" style = \"font-weight: bold; text-align: right;\">Row</th><th style = \"text-align: left;\">team</th><th style = \"text-align: left;\">W</th><th style = \"text-align: left;\">L</th></tr><tr class = \"subheader headerLastRow\"><th class = \"rowNumber\" style = \"font-weight: bold; text-align: right;\"></th><th title = \"String\" style = \"text-align: left;\">String</th><th title = \"Int64\" style = \"text-align: left;\">Int64</th><th title = \"Int64\" style = \"text-align: left;\">Int64</th></tr></thead><tbody><tr><td class = \"rowNumber\" style = \"font-weight: bold; text-align: right;\">1</td><td style = \"text-align: left;\">Cincinnati Royals</td><td style = \"text-align: right;\">19</td><td style = \"text-align: right;\">56</td></tr><tr><td class = \"rowNumber\" style = \"font-weight: bold; text-align: right;\">2</td><td style = \"text-align: left;\">Minneapolis Lakers</td><td style = \"text-align: right;\">26</td><td style = \"text-align: right;\">49</td></tr><tr><td class = \"rowNumber\" style = \"font-weight: bold; text-align: right;\">3</td><td style = \"text-align: left;\">New York Knicks</td><td style = \"text-align: right;\">27</td><td style = \"text-align: right;\">48</td></tr><tr><td class = \"rowNumber\" style = \"font-weight: bold; text-align: right;\">4</td><td style = \"text-align: left;\">Detroit Pistons</td><td style = \"text-align: right;\">29</td><td style = \"text-align: right;\">46</td></tr><tr><td class = \"rowNumber\" style = \"font-weight: bold; text-align: right;\">5</td><td style = \"text-align: left;\">Syracuse Nationals</td><td style = \"text-align: right;\">45</td><td style = \"text-align: right;\">30</td></tr><tr><td class = \"rowNumber\" style = \"font-weight: bold; text-align: right;\">6</td><td style = \"text-align: left;\">St. Louis Hawks</td><td style = \"text-align: right;\">46</td><td style = \"text-align: right;\">29</td></tr><tr><td class = \"rowNumber\" style = \"font-weight: bold; text-align: right;\">7</td><td style = \"text-align: left;\">Philadelphia Warriors</td><td style = \"text-align: right;\">49</td><td style = \"text-align: right;\">26</td></tr><tr><td class = \"rowNumber\" style = \"font-weight: bold; text-align: right;\">8</td><td style = \"text-align: left;\">Boston Celtics</td><td style = \"text-align: right;\">59</td><td style = \"text-align: right;\">16</td></tr></tbody></table></div>"
      ],
      "text/latex": [
       "\\begin{tabular}{r|ccc}\n",
       "\t& team & W & L\\\\\n",
       "\t\\hline\n",
       "\t& String & Int64 & Int64\\\\\n",
       "\t\\hline\n",
       "\t1 & Cincinnati Royals & 19 & 56 \\\\\n",
       "\t2 & Minneapolis Lakers & 26 & 49 \\\\\n",
       "\t3 & New York Knicks & 27 & 48 \\\\\n",
       "\t4 & Detroit Pistons & 29 & 46 \\\\\n",
       "\t5 & Syracuse Nationals & 45 & 30 \\\\\n",
       "\t6 & St. Louis Hawks & 46 & 29 \\\\\n",
       "\t7 & Philadelphia Warriors & 49 & 26 \\\\\n",
       "\t8 & Boston Celtics & 59 & 16 \\\\\n",
       "\\end{tabular}\n"
      ],
      "text/plain": [
       "\u001b[1m8×3 DataFrame\u001b[0m\n",
       "\u001b[1m Row \u001b[0m│\u001b[1m team                  \u001b[0m\u001b[1m W     \u001b[0m\u001b[1m L     \u001b[0m\n",
       "     │\u001b[90m String                \u001b[0m\u001b[90m Int64 \u001b[0m\u001b[90m Int64 \u001b[0m\n",
       "─────┼─────────────────────────────────────\n",
       "   1 │ Cincinnati Royals         19     56\n",
       "   2 │ Minneapolis Lakers        26     49\n",
       "   3 │ New York Knicks           27     48\n",
       "   4 │ Detroit Pistons           29     46\n",
       "   5 │ Syracuse Nationals        45     30\n",
       "   6 │ St. Louis Hawks           46     29\n",
       "   7 │ Philadelphia Warriors     49     26\n",
       "   8 │ Boston Celtics            59     16"
      ]
     },
     "execution_count": 4,
     "metadata": {},
     "output_type": "execute_result"
    }
   ],
   "source": [
    "@chain nba1960 begin\n",
    "  sort(:W)\n",
    "end"
   ]
  },
  {
   "cell_type": "markdown",
   "metadata": {},
   "source": [
    "A note about the syntax.  The general way that you set up some steps on a dataframe `df` is \n",
    "```julia\n",
    "@chain df begin\n",
    "\n",
    "end\n",
    "```\n",
    "\n",
    "And then the operations go between the `begin` and `end`.  The `sort` function is one such function, but just an example.  We will see many others here. \n",
    "\n",
    "The following will sort the dataframe from high to low:"
   ]
  },
  {
   "cell_type": "code",
   "execution_count": 5,
   "metadata": {},
   "outputs": [
    {
     "data": {
      "text/html": [
       "<div><div style = \"float: left;\"><span>8×3 DataFrame</span></div><div style = \"clear: both;\"></div></div><div class = \"data-frame\" style = \"overflow-x: scroll;\"><table class = \"data-frame\" style = \"margin-bottom: 6px;\"><thead><tr class = \"header\"><th class = \"rowNumber\" style = \"font-weight: bold; text-align: right;\">Row</th><th style = \"text-align: left;\">team</th><th style = \"text-align: left;\">W</th><th style = \"text-align: left;\">L</th></tr><tr class = \"subheader headerLastRow\"><th class = \"rowNumber\" style = \"font-weight: bold; text-align: right;\"></th><th title = \"String\" style = \"text-align: left;\">String</th><th title = \"Int64\" style = \"text-align: left;\">Int64</th><th title = \"Int64\" style = \"text-align: left;\">Int64</th></tr></thead><tbody><tr><td class = \"rowNumber\" style = \"font-weight: bold; text-align: right;\">1</td><td style = \"text-align: left;\">Boston Celtics</td><td style = \"text-align: right;\">59</td><td style = \"text-align: right;\">16</td></tr><tr><td class = \"rowNumber\" style = \"font-weight: bold; text-align: right;\">2</td><td style = \"text-align: left;\">Philadelphia Warriors</td><td style = \"text-align: right;\">49</td><td style = \"text-align: right;\">26</td></tr><tr><td class = \"rowNumber\" style = \"font-weight: bold; text-align: right;\">3</td><td style = \"text-align: left;\">St. Louis Hawks</td><td style = \"text-align: right;\">46</td><td style = \"text-align: right;\">29</td></tr><tr><td class = \"rowNumber\" style = \"font-weight: bold; text-align: right;\">4</td><td style = \"text-align: left;\">Syracuse Nationals</td><td style = \"text-align: right;\">45</td><td style = \"text-align: right;\">30</td></tr><tr><td class = \"rowNumber\" style = \"font-weight: bold; text-align: right;\">5</td><td style = \"text-align: left;\">Detroit Pistons</td><td style = \"text-align: right;\">29</td><td style = \"text-align: right;\">46</td></tr><tr><td class = \"rowNumber\" style = \"font-weight: bold; text-align: right;\">6</td><td style = \"text-align: left;\">New York Knicks</td><td style = \"text-align: right;\">27</td><td style = \"text-align: right;\">48</td></tr><tr><td class = \"rowNumber\" style = \"font-weight: bold; text-align: right;\">7</td><td style = \"text-align: left;\">Minneapolis Lakers</td><td style = \"text-align: right;\">26</td><td style = \"text-align: right;\">49</td></tr><tr><td class = \"rowNumber\" style = \"font-weight: bold; text-align: right;\">8</td><td style = \"text-align: left;\">Cincinnati Royals</td><td style = \"text-align: right;\">19</td><td style = \"text-align: right;\">56</td></tr></tbody></table></div>"
      ],
      "text/latex": [
       "\\begin{tabular}{r|ccc}\n",
       "\t& team & W & L\\\\\n",
       "\t\\hline\n",
       "\t& String & Int64 & Int64\\\\\n",
       "\t\\hline\n",
       "\t1 & Boston Celtics & 59 & 16 \\\\\n",
       "\t2 & Philadelphia Warriors & 49 & 26 \\\\\n",
       "\t3 & St. Louis Hawks & 46 & 29 \\\\\n",
       "\t4 & Syracuse Nationals & 45 & 30 \\\\\n",
       "\t5 & Detroit Pistons & 29 & 46 \\\\\n",
       "\t6 & New York Knicks & 27 & 48 \\\\\n",
       "\t7 & Minneapolis Lakers & 26 & 49 \\\\\n",
       "\t8 & Cincinnati Royals & 19 & 56 \\\\\n",
       "\\end{tabular}\n"
      ],
      "text/plain": [
       "\u001b[1m8×3 DataFrame\u001b[0m\n",
       "\u001b[1m Row \u001b[0m│\u001b[1m team                  \u001b[0m\u001b[1m W     \u001b[0m\u001b[1m L     \u001b[0m\n",
       "     │\u001b[90m String                \u001b[0m\u001b[90m Int64 \u001b[0m\u001b[90m Int64 \u001b[0m\n",
       "─────┼─────────────────────────────────────\n",
       "   1 │ Boston Celtics            59     16\n",
       "   2 │ Philadelphia Warriors     49     26\n",
       "   3 │ St. Louis Hawks           46     29\n",
       "   4 │ Syracuse Nationals        45     30\n",
       "   5 │ Detroit Pistons           29     46\n",
       "   6 │ New York Knicks           27     48\n",
       "   7 │ Minneapolis Lakers        26     49\n",
       "   8 │ Cincinnati Royals         19     56"
      ]
     },
     "execution_count": 5,
     "metadata": {},
     "output_type": "execute_result"
    }
   ],
   "source": [
    "@chain nba1960 begin\n",
    "  sort(:W, rev=true)\n",
    "end"
   ]
  },
  {
   "cell_type": "markdown",
   "metadata": {},
   "source": [
    "And this shows the standings in an expected way in which the leading teams are on the top.\n",
    "\n",
    "Before moving on, it should be pointed out that use of `@chain` is a bit overkill for this and some of the other examples later on.  Instead, we could do"
   ]
  },
  {
   "cell_type": "code",
   "execution_count": 6,
   "metadata": {},
   "outputs": [
    {
     "data": {
      "text/html": [
       "<div><div style = \"float: left;\"><span>8×3 DataFrame</span></div><div style = \"clear: both;\"></div></div><div class = \"data-frame\" style = \"overflow-x: scroll;\"><table class = \"data-frame\" style = \"margin-bottom: 6px;\"><thead><tr class = \"header\"><th class = \"rowNumber\" style = \"font-weight: bold; text-align: right;\">Row</th><th style = \"text-align: left;\">team</th><th style = \"text-align: left;\">W</th><th style = \"text-align: left;\">L</th></tr><tr class = \"subheader headerLastRow\"><th class = \"rowNumber\" style = \"font-weight: bold; text-align: right;\"></th><th title = \"String\" style = \"text-align: left;\">String</th><th title = \"Int64\" style = \"text-align: left;\">Int64</th><th title = \"Int64\" style = \"text-align: left;\">Int64</th></tr></thead><tbody><tr><td class = \"rowNumber\" style = \"font-weight: bold; text-align: right;\">1</td><td style = \"text-align: left;\">Boston Celtics</td><td style = \"text-align: right;\">59</td><td style = \"text-align: right;\">16</td></tr><tr><td class = \"rowNumber\" style = \"font-weight: bold; text-align: right;\">2</td><td style = \"text-align: left;\">Philadelphia Warriors</td><td style = \"text-align: right;\">49</td><td style = \"text-align: right;\">26</td></tr><tr><td class = \"rowNumber\" style = \"font-weight: bold; text-align: right;\">3</td><td style = \"text-align: left;\">St. Louis Hawks</td><td style = \"text-align: right;\">46</td><td style = \"text-align: right;\">29</td></tr><tr><td class = \"rowNumber\" style = \"font-weight: bold; text-align: right;\">4</td><td style = \"text-align: left;\">Syracuse Nationals</td><td style = \"text-align: right;\">45</td><td style = \"text-align: right;\">30</td></tr><tr><td class = \"rowNumber\" style = \"font-weight: bold; text-align: right;\">5</td><td style = \"text-align: left;\">Detroit Pistons</td><td style = \"text-align: right;\">29</td><td style = \"text-align: right;\">46</td></tr><tr><td class = \"rowNumber\" style = \"font-weight: bold; text-align: right;\">6</td><td style = \"text-align: left;\">New York Knicks</td><td style = \"text-align: right;\">27</td><td style = \"text-align: right;\">48</td></tr><tr><td class = \"rowNumber\" style = \"font-weight: bold; text-align: right;\">7</td><td style = \"text-align: left;\">Minneapolis Lakers</td><td style = \"text-align: right;\">26</td><td style = \"text-align: right;\">49</td></tr><tr><td class = \"rowNumber\" style = \"font-weight: bold; text-align: right;\">8</td><td style = \"text-align: left;\">Cincinnati Royals</td><td style = \"text-align: right;\">19</td><td style = \"text-align: right;\">56</td></tr></tbody></table></div>"
      ],
      "text/latex": [
       "\\begin{tabular}{r|ccc}\n",
       "\t& team & W & L\\\\\n",
       "\t\\hline\n",
       "\t& String & Int64 & Int64\\\\\n",
       "\t\\hline\n",
       "\t1 & Boston Celtics & 59 & 16 \\\\\n",
       "\t2 & Philadelphia Warriors & 49 & 26 \\\\\n",
       "\t3 & St. Louis Hawks & 46 & 29 \\\\\n",
       "\t4 & Syracuse Nationals & 45 & 30 \\\\\n",
       "\t5 & Detroit Pistons & 29 & 46 \\\\\n",
       "\t6 & New York Knicks & 27 & 48 \\\\\n",
       "\t7 & Minneapolis Lakers & 26 & 49 \\\\\n",
       "\t8 & Cincinnati Royals & 19 & 56 \\\\\n",
       "\\end{tabular}\n"
      ],
      "text/plain": [
       "\u001b[1m8×3 DataFrame\u001b[0m\n",
       "\u001b[1m Row \u001b[0m│\u001b[1m team                  \u001b[0m\u001b[1m W     \u001b[0m\u001b[1m L     \u001b[0m\n",
       "     │\u001b[90m String                \u001b[0m\u001b[90m Int64 \u001b[0m\u001b[90m Int64 \u001b[0m\n",
       "─────┼─────────────────────────────────────\n",
       "   1 │ Boston Celtics            59     16\n",
       "   2 │ Philadelphia Warriors     49     26\n",
       "   3 │ St. Louis Hawks           46     29\n",
       "   4 │ Syracuse Nationals        45     30\n",
       "   5 │ Detroit Pistons           29     46\n",
       "   6 │ New York Knicks           27     48\n",
       "   7 │ Minneapolis Lakers        26     49\n",
       "   8 │ Cincinnati Royals         19     56"
      ]
     },
     "execution_count": 6,
     "metadata": {},
     "output_type": "execute_result"
    }
   ],
   "source": [
    "sort(nba1960, :W, rev=true)"
   ]
  },
  {
   "cell_type": "markdown",
   "metadata": {},
   "source": [
    "However, the examples here will use the `@chain` command (technically a julia macro) to be consistent as we move to extensive examples. "
   ]
  },
  {
   "cell_type": "markdown",
   "metadata": {},
   "source": [
    "## Filtering a DataFrame by rows\n",
    "\n",
    "Another important operation is to find all rows of a DataFrame that fits some condition.  Let's start with the original `nba1960` DataFrame and find only those rows with at least 35 wins. We will use the `subset` function. (Note: there is also a `filter` function, however it's syntax is not the same as other DataFrame functions, so we will not use that)."
   ]
  },
  {
   "cell_type": "code",
   "execution_count": 7,
   "metadata": {},
   "outputs": [
    {
     "data": {
      "text/html": [
       "<div><div style = \"float: left;\"><span>4×3 DataFrame</span></div><div style = \"clear: both;\"></div></div><div class = \"data-frame\" style = \"overflow-x: scroll;\"><table class = \"data-frame\" style = \"margin-bottom: 6px;\"><thead><tr class = \"header\"><th class = \"rowNumber\" style = \"font-weight: bold; text-align: right;\">Row</th><th style = \"text-align: left;\">team</th><th style = \"text-align: left;\">W</th><th style = \"text-align: left;\">L</th></tr><tr class = \"subheader headerLastRow\"><th class = \"rowNumber\" style = \"font-weight: bold; text-align: right;\"></th><th title = \"String\" style = \"text-align: left;\">String</th><th title = \"Int64\" style = \"text-align: left;\">Int64</th><th title = \"Int64\" style = \"text-align: left;\">Int64</th></tr></thead><tbody><tr><td class = \"rowNumber\" style = \"font-weight: bold; text-align: right;\">1</td><td style = \"text-align: left;\">Boston Celtics</td><td style = \"text-align: right;\">59</td><td style = \"text-align: right;\">16</td></tr><tr><td class = \"rowNumber\" style = \"font-weight: bold; text-align: right;\">2</td><td style = \"text-align: left;\">Philadelphia Warriors</td><td style = \"text-align: right;\">49</td><td style = \"text-align: right;\">26</td></tr><tr><td class = \"rowNumber\" style = \"font-weight: bold; text-align: right;\">3</td><td style = \"text-align: left;\">St. Louis Hawks</td><td style = \"text-align: right;\">46</td><td style = \"text-align: right;\">29</td></tr><tr><td class = \"rowNumber\" style = \"font-weight: bold; text-align: right;\">4</td><td style = \"text-align: left;\">Syracuse Nationals</td><td style = \"text-align: right;\">45</td><td style = \"text-align: right;\">30</td></tr></tbody></table></div>"
      ],
      "text/latex": [
       "\\begin{tabular}{r|ccc}\n",
       "\t& team & W & L\\\\\n",
       "\t\\hline\n",
       "\t& String & Int64 & Int64\\\\\n",
       "\t\\hline\n",
       "\t1 & Boston Celtics & 59 & 16 \\\\\n",
       "\t2 & Philadelphia Warriors & 49 & 26 \\\\\n",
       "\t3 & St. Louis Hawks & 46 & 29 \\\\\n",
       "\t4 & Syracuse Nationals & 45 & 30 \\\\\n",
       "\\end{tabular}\n"
      ],
      "text/plain": [
       "\u001b[1m4×3 DataFrame\u001b[0m\n",
       "\u001b[1m Row \u001b[0m│\u001b[1m team                  \u001b[0m\u001b[1m W     \u001b[0m\u001b[1m L     \u001b[0m\n",
       "     │\u001b[90m String                \u001b[0m\u001b[90m Int64 \u001b[0m\u001b[90m Int64 \u001b[0m\n",
       "─────┼─────────────────────────────────────\n",
       "   1 │ Boston Celtics            59     16\n",
       "   2 │ Philadelphia Warriors     49     26\n",
       "   3 │ St. Louis Hawks           46     29\n",
       "   4 │ Syracuse Nationals        45     30"
      ]
     },
     "execution_count": 7,
     "metadata": {},
     "output_type": "execute_result"
    }
   ],
   "source": [
    "@chain nba1960 begin\n",
    "  subset(:W => w-> w .> 35)\n",
    "end"
   ]
  },
  {
   "cell_type": "markdown",
   "metadata": {},
   "source": [
    "A note about the syntax with `subset` and other operations.  The `:W` refers to the W column so we are filtering based on that.  The right side of the `=>` is a boolean function of a vector.  That is, the `w` variable is the entire `:W` column.  The function `w -> w .> 35` is called an anonymous function because it doesn't have a name, but this is common for relatively simple functions. \n",
    "\n",
    "The function has input variable `w` (it doesn't matter this variable's name) and then compares it to 35 and the `.` in the `.>` broadcasts the `>` function to the vector.  Then only rows that return `true` are left in the resultant DataFrame. The operation `w .>35` returns a vector of true/false, that is true if the element of `w` is greater than 35. "
   ]
  },
  {
   "cell_type": "markdown",
   "metadata": {},
   "source": [
    "Another example is to take all rows of the DataFrame in which the L column ends in a 6.  "
   ]
  },
  {
   "cell_type": "code",
   "execution_count": 8,
   "metadata": {},
   "outputs": [
    {
     "data": {
      "text/html": [
       "<div><div style = \"float: left;\"><span>4×3 DataFrame</span></div><div style = \"clear: both;\"></div></div><div class = \"data-frame\" style = \"overflow-x: scroll;\"><table class = \"data-frame\" style = \"margin-bottom: 6px;\"><thead><tr class = \"header\"><th class = \"rowNumber\" style = \"font-weight: bold; text-align: right;\">Row</th><th style = \"text-align: left;\">team</th><th style = \"text-align: left;\">W</th><th style = \"text-align: left;\">L</th></tr><tr class = \"subheader headerLastRow\"><th class = \"rowNumber\" style = \"font-weight: bold; text-align: right;\"></th><th title = \"String\" style = \"text-align: left;\">String</th><th title = \"Int64\" style = \"text-align: left;\">Int64</th><th title = \"Int64\" style = \"text-align: left;\">Int64</th></tr></thead><tbody><tr><td class = \"rowNumber\" style = \"font-weight: bold; text-align: right;\">1</td><td style = \"text-align: left;\">Boston Celtics</td><td style = \"text-align: right;\">59</td><td style = \"text-align: right;\">16</td></tr><tr><td class = \"rowNumber\" style = \"font-weight: bold; text-align: right;\">2</td><td style = \"text-align: left;\">Cincinnati Royals</td><td style = \"text-align: right;\">19</td><td style = \"text-align: right;\">56</td></tr><tr><td class = \"rowNumber\" style = \"font-weight: bold; text-align: right;\">3</td><td style = \"text-align: left;\">Detroit Pistons</td><td style = \"text-align: right;\">29</td><td style = \"text-align: right;\">46</td></tr><tr><td class = \"rowNumber\" style = \"font-weight: bold; text-align: right;\">4</td><td style = \"text-align: left;\">Philadelphia Warriors</td><td style = \"text-align: right;\">49</td><td style = \"text-align: right;\">26</td></tr></tbody></table></div>"
      ],
      "text/latex": [
       "\\begin{tabular}{r|ccc}\n",
       "\t& team & W & L\\\\\n",
       "\t\\hline\n",
       "\t& String & Int64 & Int64\\\\\n",
       "\t\\hline\n",
       "\t1 & Boston Celtics & 59 & 16 \\\\\n",
       "\t2 & Cincinnati Royals & 19 & 56 \\\\\n",
       "\t3 & Detroit Pistons & 29 & 46 \\\\\n",
       "\t4 & Philadelphia Warriors & 49 & 26 \\\\\n",
       "\\end{tabular}\n"
      ],
      "text/plain": [
       "\u001b[1m4×3 DataFrame\u001b[0m\n",
       "\u001b[1m Row \u001b[0m│\u001b[1m team                  \u001b[0m\u001b[1m W     \u001b[0m\u001b[1m L     \u001b[0m\n",
       "     │\u001b[90m String                \u001b[0m\u001b[90m Int64 \u001b[0m\u001b[90m Int64 \u001b[0m\n",
       "─────┼─────────────────────────────────────\n",
       "   1 │ Boston Celtics            59     16\n",
       "   2 │ Cincinnati Royals         19     56\n",
       "   3 │ Detroit Pistons           29     46\n",
       "   4 │ Philadelphia Warriors     49     26"
      ]
     },
     "execution_count": 8,
     "metadata": {},
     "output_type": "execute_result"
    }
   ],
   "source": [
    "@chain nba1960 begin\n",
    "  subset(:L => l -> mod.(l,10) .== 6)\n",
    "end"
   ]
  },
  {
   "cell_type": "markdown",
   "metadata": {},
   "source": [
    "Notice above that both the `mod` function and the `==` operator need to be broadcast over vectors so a `.` is added (and note that for a named function like `mod`, the `.` goes at the end and for operators like `==` is prepended with the `.`)."
   ]
  },
  {
   "cell_type": "markdown",
   "metadata": {},
   "source": [
    "### Taking a subset of columns\n",
    "\n",
    "If you only want a few columns (or drop some columns) from a DataFrame, the `select` function does this.  Let's take the team name and wins with"
   ]
  },
  {
   "cell_type": "code",
   "execution_count": 9,
   "metadata": {},
   "outputs": [
    {
     "data": {
      "text/html": [
       "<div><div style = \"float: left;\"><span>8×2 DataFrame</span></div><div style = \"clear: both;\"></div></div><div class = \"data-frame\" style = \"overflow-x: scroll;\"><table class = \"data-frame\" style = \"margin-bottom: 6px;\"><thead><tr class = \"header\"><th class = \"rowNumber\" style = \"font-weight: bold; text-align: right;\">Row</th><th style = \"text-align: left;\">team</th><th style = \"text-align: left;\">W</th></tr><tr class = \"subheader headerLastRow\"><th class = \"rowNumber\" style = \"font-weight: bold; text-align: right;\"></th><th title = \"String\" style = \"text-align: left;\">String</th><th title = \"Int64\" style = \"text-align: left;\">Int64</th></tr></thead><tbody><tr><td class = \"rowNumber\" style = \"font-weight: bold; text-align: right;\">1</td><td style = \"text-align: left;\">Boston Celtics</td><td style = \"text-align: right;\">59</td></tr><tr><td class = \"rowNumber\" style = \"font-weight: bold; text-align: right;\">2</td><td style = \"text-align: left;\">Cincinnati Royals</td><td style = \"text-align: right;\">19</td></tr><tr><td class = \"rowNumber\" style = \"font-weight: bold; text-align: right;\">3</td><td style = \"text-align: left;\">Detroit Pistons</td><td style = \"text-align: right;\">29</td></tr><tr><td class = \"rowNumber\" style = \"font-weight: bold; text-align: right;\">4</td><td style = \"text-align: left;\">Minneapolis Lakers</td><td style = \"text-align: right;\">26</td></tr><tr><td class = \"rowNumber\" style = \"font-weight: bold; text-align: right;\">5</td><td style = \"text-align: left;\">New York Knicks</td><td style = \"text-align: right;\">27</td></tr><tr><td class = \"rowNumber\" style = \"font-weight: bold; text-align: right;\">6</td><td style = \"text-align: left;\">Philadelphia Warriors</td><td style = \"text-align: right;\">49</td></tr><tr><td class = \"rowNumber\" style = \"font-weight: bold; text-align: right;\">7</td><td style = \"text-align: left;\">St. Louis Hawks</td><td style = \"text-align: right;\">46</td></tr><tr><td class = \"rowNumber\" style = \"font-weight: bold; text-align: right;\">8</td><td style = \"text-align: left;\">Syracuse Nationals</td><td style = \"text-align: right;\">45</td></tr></tbody></table></div>"
      ],
      "text/latex": [
       "\\begin{tabular}{r|cc}\n",
       "\t& team & W\\\\\n",
       "\t\\hline\n",
       "\t& String & Int64\\\\\n",
       "\t\\hline\n",
       "\t1 & Boston Celtics & 59 \\\\\n",
       "\t2 & Cincinnati Royals & 19 \\\\\n",
       "\t3 & Detroit Pistons & 29 \\\\\n",
       "\t4 & Minneapolis Lakers & 26 \\\\\n",
       "\t5 & New York Knicks & 27 \\\\\n",
       "\t6 & Philadelphia Warriors & 49 \\\\\n",
       "\t7 & St. Louis Hawks & 46 \\\\\n",
       "\t8 & Syracuse Nationals & 45 \\\\\n",
       "\\end{tabular}\n"
      ],
      "text/plain": [
       "\u001b[1m8×2 DataFrame\u001b[0m\n",
       "\u001b[1m Row \u001b[0m│\u001b[1m team                  \u001b[0m\u001b[1m W     \u001b[0m\n",
       "     │\u001b[90m String                \u001b[0m\u001b[90m Int64 \u001b[0m\n",
       "─────┼──────────────────────────────\n",
       "   1 │ Boston Celtics            59\n",
       "   2 │ Cincinnati Royals         19\n",
       "   3 │ Detroit Pistons           29\n",
       "   4 │ Minneapolis Lakers        26\n",
       "   5 │ New York Knicks           27\n",
       "   6 │ Philadelphia Warriors     49\n",
       "   7 │ St. Louis Hawks           46\n",
       "   8 │ Syracuse Nationals        45"
      ]
     },
     "execution_count": 9,
     "metadata": {},
     "output_type": "execute_result"
    }
   ],
   "source": [
    "@chain nba1960 begin\n",
    "  select(:team,:W)\n",
    "end"
   ]
  },
  {
   "cell_type": "markdown",
   "metadata": {},
   "source": [
    "And the previous can also be done by `dropping` the L column with"
   ]
  },
  {
   "cell_type": "code",
   "execution_count": 10,
   "metadata": {},
   "outputs": [
    {
     "data": {
      "text/html": [
       "<div><div style = \"float: left;\"><span>8×2 DataFrame</span></div><div style = \"clear: both;\"></div></div><div class = \"data-frame\" style = \"overflow-x: scroll;\"><table class = \"data-frame\" style = \"margin-bottom: 6px;\"><thead><tr class = \"header\"><th class = \"rowNumber\" style = \"font-weight: bold; text-align: right;\">Row</th><th style = \"text-align: left;\">team</th><th style = \"text-align: left;\">W</th></tr><tr class = \"subheader headerLastRow\"><th class = \"rowNumber\" style = \"font-weight: bold; text-align: right;\"></th><th title = \"String\" style = \"text-align: left;\">String</th><th title = \"Int64\" style = \"text-align: left;\">Int64</th></tr></thead><tbody><tr><td class = \"rowNumber\" style = \"font-weight: bold; text-align: right;\">1</td><td style = \"text-align: left;\">Boston Celtics</td><td style = \"text-align: right;\">59</td></tr><tr><td class = \"rowNumber\" style = \"font-weight: bold; text-align: right;\">2</td><td style = \"text-align: left;\">Cincinnati Royals</td><td style = \"text-align: right;\">19</td></tr><tr><td class = \"rowNumber\" style = \"font-weight: bold; text-align: right;\">3</td><td style = \"text-align: left;\">Detroit Pistons</td><td style = \"text-align: right;\">29</td></tr><tr><td class = \"rowNumber\" style = \"font-weight: bold; text-align: right;\">4</td><td style = \"text-align: left;\">Minneapolis Lakers</td><td style = \"text-align: right;\">26</td></tr><tr><td class = \"rowNumber\" style = \"font-weight: bold; text-align: right;\">5</td><td style = \"text-align: left;\">New York Knicks</td><td style = \"text-align: right;\">27</td></tr><tr><td class = \"rowNumber\" style = \"font-weight: bold; text-align: right;\">6</td><td style = \"text-align: left;\">Philadelphia Warriors</td><td style = \"text-align: right;\">49</td></tr><tr><td class = \"rowNumber\" style = \"font-weight: bold; text-align: right;\">7</td><td style = \"text-align: left;\">St. Louis Hawks</td><td style = \"text-align: right;\">46</td></tr><tr><td class = \"rowNumber\" style = \"font-weight: bold; text-align: right;\">8</td><td style = \"text-align: left;\">Syracuse Nationals</td><td style = \"text-align: right;\">45</td></tr></tbody></table></div>"
      ],
      "text/latex": [
       "\\begin{tabular}{r|cc}\n",
       "\t& team & W\\\\\n",
       "\t\\hline\n",
       "\t& String & Int64\\\\\n",
       "\t\\hline\n",
       "\t1 & Boston Celtics & 59 \\\\\n",
       "\t2 & Cincinnati Royals & 19 \\\\\n",
       "\t3 & Detroit Pistons & 29 \\\\\n",
       "\t4 & Minneapolis Lakers & 26 \\\\\n",
       "\t5 & New York Knicks & 27 \\\\\n",
       "\t6 & Philadelphia Warriors & 49 \\\\\n",
       "\t7 & St. Louis Hawks & 46 \\\\\n",
       "\t8 & Syracuse Nationals & 45 \\\\\n",
       "\\end{tabular}\n"
      ],
      "text/plain": [
       "\u001b[1m8×2 DataFrame\u001b[0m\n",
       "\u001b[1m Row \u001b[0m│\u001b[1m team                  \u001b[0m\u001b[1m W     \u001b[0m\n",
       "     │\u001b[90m String                \u001b[0m\u001b[90m Int64 \u001b[0m\n",
       "─────┼──────────────────────────────\n",
       "   1 │ Boston Celtics            59\n",
       "   2 │ Cincinnati Royals         19\n",
       "   3 │ Detroit Pistons           29\n",
       "   4 │ Minneapolis Lakers        26\n",
       "   5 │ New York Knicks           27\n",
       "   6 │ Philadelphia Warriors     49\n",
       "   7 │ St. Louis Hawks           46\n",
       "   8 │ Syracuse Nationals        45"
      ]
     },
     "execution_count": 10,
     "metadata": {},
     "output_type": "execute_result"
    }
   ],
   "source": [
    "@chain nba1960 begin\n",
    "  select(Not(:L))\n",
    "end"
   ]
  },
  {
   "cell_type": "markdown",
   "metadata": {},
   "source": [
    "There is also a `Between` command to select all columns between two or to match columns with a regular expression."
   ]
  },
  {
   "cell_type": "markdown",
   "metadata": {},
   "source": [
    "### Transforming a Dataframe: creating new columns\n",
    "\n",
    "Another important THING to do with Dataframes is to create new columns from existing ones.  There are two ways to do this, 1) using the `select` function, which drops other columns and only keeps the created ones and 2) using the `transform` function, which adds the new column(s).\n",
    "\n",
    "In general either of these have the same syntax in that you pass the following:\n",
    "```\n",
    ":col => FUNCTION on the column => :new_col\n",
    "```\n",
    "\n",
    "We start with an example which takes the number of wins of each team and multiplies by 2 (this is just an example, but not much relevant in games/schedules).  First we will use the `select` function to do this."
   ]
  },
  {
   "cell_type": "code",
   "execution_count": 11,
   "metadata": {},
   "outputs": [
    {
     "data": {
      "text/html": [
       "<div><div style = \"float: left;\"><span>8×1 DataFrame</span></div><div style = \"clear: both;\"></div></div><div class = \"data-frame\" style = \"overflow-x: scroll;\"><table class = \"data-frame\" style = \"margin-bottom: 6px;\"><thead><tr class = \"header\"><th class = \"rowNumber\" style = \"font-weight: bold; text-align: right;\">Row</th><th style = \"text-align: left;\">twice_W</th></tr><tr class = \"subheader headerLastRow\"><th class = \"rowNumber\" style = \"font-weight: bold; text-align: right;\"></th><th title = \"Int64\" style = \"text-align: left;\">Int64</th></tr></thead><tbody><tr><td class = \"rowNumber\" style = \"font-weight: bold; text-align: right;\">1</td><td style = \"text-align: right;\">118</td></tr><tr><td class = \"rowNumber\" style = \"font-weight: bold; text-align: right;\">2</td><td style = \"text-align: right;\">38</td></tr><tr><td class = \"rowNumber\" style = \"font-weight: bold; text-align: right;\">3</td><td style = \"text-align: right;\">58</td></tr><tr><td class = \"rowNumber\" style = \"font-weight: bold; text-align: right;\">4</td><td style = \"text-align: right;\">52</td></tr><tr><td class = \"rowNumber\" style = \"font-weight: bold; text-align: right;\">5</td><td style = \"text-align: right;\">54</td></tr><tr><td class = \"rowNumber\" style = \"font-weight: bold; text-align: right;\">6</td><td style = \"text-align: right;\">98</td></tr><tr><td class = \"rowNumber\" style = \"font-weight: bold; text-align: right;\">7</td><td style = \"text-align: right;\">92</td></tr><tr><td class = \"rowNumber\" style = \"font-weight: bold; text-align: right;\">8</td><td style = \"text-align: right;\">90</td></tr></tbody></table></div>"
      ],
      "text/latex": [
       "\\begin{tabular}{r|c}\n",
       "\t& twice\\_W\\\\\n",
       "\t\\hline\n",
       "\t& Int64\\\\\n",
       "\t\\hline\n",
       "\t1 & 118 \\\\\n",
       "\t2 & 38 \\\\\n",
       "\t3 & 58 \\\\\n",
       "\t4 & 52 \\\\\n",
       "\t5 & 54 \\\\\n",
       "\t6 & 98 \\\\\n",
       "\t7 & 92 \\\\\n",
       "\t8 & 90 \\\\\n",
       "\\end{tabular}\n"
      ],
      "text/plain": [
       "\u001b[1m8×1 DataFrame\u001b[0m\n",
       "\u001b[1m Row \u001b[0m│\u001b[1m twice_W \u001b[0m\n",
       "     │\u001b[90m Int64   \u001b[0m\n",
       "─────┼─────────\n",
       "   1 │     118\n",
       "   2 │      38\n",
       "   3 │      58\n",
       "   4 │      52\n",
       "   5 │      54\n",
       "   6 │      98\n",
       "   7 │      92\n",
       "   8 │      90"
      ]
     },
     "execution_count": 11,
     "metadata": {},
     "output_type": "execute_result"
    }
   ],
   "source": [
    "@chain nba1960 begin\n",
    "  select(:W => (w -> 2*w) => :twice_W)\n",
    "end"
   ]
  },
  {
   "cell_type": "markdown",
   "metadata": {},
   "source": [
    "And note a few things.  \n",
    "\n",
    "1) since `select` was used, the only column is the new one called `twice_W`. We'll see below if we use `transform` instead. \n",
    "2) The function between the thick arrows `=>` need to be surrounded by ().  Without them, an error will occur. This is because of order of operations.  \n",
    "3) The function is an anonymous function (defined with a skinny arrow `->`) just like above in the subset example above. \n",
    "4) The `*` in this example does not need to be broadcast with a `.` because multiplying a vector by a constant is defined and returns a vector.  \n",
    "\n",
    "If we use `transform` instead:"
   ]
  },
  {
   "cell_type": "code",
   "execution_count": 12,
   "metadata": {},
   "outputs": [
    {
     "data": {
      "text/html": [
       "<div><div style = \"float: left;\"><span>8×4 DataFrame</span></div><div style = \"clear: both;\"></div></div><div class = \"data-frame\" style = \"overflow-x: scroll;\"><table class = \"data-frame\" style = \"margin-bottom: 6px;\"><thead><tr class = \"header\"><th class = \"rowNumber\" style = \"font-weight: bold; text-align: right;\">Row</th><th style = \"text-align: left;\">team</th><th style = \"text-align: left;\">W</th><th style = \"text-align: left;\">L</th><th style = \"text-align: left;\">twice_W</th></tr><tr class = \"subheader headerLastRow\"><th class = \"rowNumber\" style = \"font-weight: bold; text-align: right;\"></th><th title = \"String\" style = \"text-align: left;\">String</th><th title = \"Int64\" style = \"text-align: left;\">Int64</th><th title = \"Int64\" style = \"text-align: left;\">Int64</th><th title = \"Int64\" style = \"text-align: left;\">Int64</th></tr></thead><tbody><tr><td class = \"rowNumber\" style = \"font-weight: bold; text-align: right;\">1</td><td style = \"text-align: left;\">Boston Celtics</td><td style = \"text-align: right;\">59</td><td style = \"text-align: right;\">16</td><td style = \"text-align: right;\">118</td></tr><tr><td class = \"rowNumber\" style = \"font-weight: bold; text-align: right;\">2</td><td style = \"text-align: left;\">Cincinnati Royals</td><td style = \"text-align: right;\">19</td><td style = \"text-align: right;\">56</td><td style = \"text-align: right;\">38</td></tr><tr><td class = \"rowNumber\" style = \"font-weight: bold; text-align: right;\">3</td><td style = \"text-align: left;\">Detroit Pistons</td><td style = \"text-align: right;\">29</td><td style = \"text-align: right;\">46</td><td style = \"text-align: right;\">58</td></tr><tr><td class = \"rowNumber\" style = \"font-weight: bold; text-align: right;\">4</td><td style = \"text-align: left;\">Minneapolis Lakers</td><td style = \"text-align: right;\">26</td><td style = \"text-align: right;\">49</td><td style = \"text-align: right;\">52</td></tr><tr><td class = \"rowNumber\" style = \"font-weight: bold; text-align: right;\">5</td><td style = \"text-align: left;\">New York Knicks</td><td style = \"text-align: right;\">27</td><td style = \"text-align: right;\">48</td><td style = \"text-align: right;\">54</td></tr><tr><td class = \"rowNumber\" style = \"font-weight: bold; text-align: right;\">6</td><td style = \"text-align: left;\">Philadelphia Warriors</td><td style = \"text-align: right;\">49</td><td style = \"text-align: right;\">26</td><td style = \"text-align: right;\">98</td></tr><tr><td class = \"rowNumber\" style = \"font-weight: bold; text-align: right;\">7</td><td style = \"text-align: left;\">St. Louis Hawks</td><td style = \"text-align: right;\">46</td><td style = \"text-align: right;\">29</td><td style = \"text-align: right;\">92</td></tr><tr><td class = \"rowNumber\" style = \"font-weight: bold; text-align: right;\">8</td><td style = \"text-align: left;\">Syracuse Nationals</td><td style = \"text-align: right;\">45</td><td style = \"text-align: right;\">30</td><td style = \"text-align: right;\">90</td></tr></tbody></table></div>"
      ],
      "text/latex": [
       "\\begin{tabular}{r|cccc}\n",
       "\t& team & W & L & twice\\_W\\\\\n",
       "\t\\hline\n",
       "\t& String & Int64 & Int64 & Int64\\\\\n",
       "\t\\hline\n",
       "\t1 & Boston Celtics & 59 & 16 & 118 \\\\\n",
       "\t2 & Cincinnati Royals & 19 & 56 & 38 \\\\\n",
       "\t3 & Detroit Pistons & 29 & 46 & 58 \\\\\n",
       "\t4 & Minneapolis Lakers & 26 & 49 & 52 \\\\\n",
       "\t5 & New York Knicks & 27 & 48 & 54 \\\\\n",
       "\t6 & Philadelphia Warriors & 49 & 26 & 98 \\\\\n",
       "\t7 & St. Louis Hawks & 46 & 29 & 92 \\\\\n",
       "\t8 & Syracuse Nationals & 45 & 30 & 90 \\\\\n",
       "\\end{tabular}\n"
      ],
      "text/plain": [
       "\u001b[1m8×4 DataFrame\u001b[0m\n",
       "\u001b[1m Row \u001b[0m│\u001b[1m team                  \u001b[0m\u001b[1m W     \u001b[0m\u001b[1m L     \u001b[0m\u001b[1m twice_W \u001b[0m\n",
       "     │\u001b[90m String                \u001b[0m\u001b[90m Int64 \u001b[0m\u001b[90m Int64 \u001b[0m\u001b[90m Int64   \u001b[0m\n",
       "─────┼──────────────────────────────────────────────\n",
       "   1 │ Boston Celtics            59     16      118\n",
       "   2 │ Cincinnati Royals         19     56       38\n",
       "   3 │ Detroit Pistons           29     46       58\n",
       "   4 │ Minneapolis Lakers        26     49       52\n",
       "   5 │ New York Knicks           27     48       54\n",
       "   6 │ Philadelphia Warriors     49     26       98\n",
       "   7 │ St. Louis Hawks           46     29       92\n",
       "   8 │ Syracuse Nationals        45     30       90"
      ]
     },
     "execution_count": 12,
     "metadata": {},
     "output_type": "execute_result"
    }
   ],
   "source": [
    "@chain nba1960 begin\n",
    "  transform(:W => (w -> 2*w) => :twice_W)\n",
    "end"
   ]
  },
  {
   "cell_type": "markdown",
   "metadata": {},
   "source": [
    "And notice that the difference is that the new column is added to the DataFrame.  The use of `transform` versus `select` just depends on what one wants the resulting DataFrame.\n",
    "\n",
    "For the next example, we'll add the wins and losses of each row with:"
   ]
  },
  {
   "cell_type": "code",
   "execution_count": 13,
   "metadata": {},
   "outputs": [
    {
     "data": {
      "text/html": [
       "<div><div style = \"float: left;\"><span>8×4 DataFrame</span></div><div style = \"clear: both;\"></div></div><div class = \"data-frame\" style = \"overflow-x: scroll;\"><table class = \"data-frame\" style = \"margin-bottom: 6px;\"><thead><tr class = \"header\"><th class = \"rowNumber\" style = \"font-weight: bold; text-align: right;\">Row</th><th style = \"text-align: left;\">team</th><th style = \"text-align: left;\">W</th><th style = \"text-align: left;\">L</th><th style = \"text-align: left;\">num_games</th></tr><tr class = \"subheader headerLastRow\"><th class = \"rowNumber\" style = \"font-weight: bold; text-align: right;\"></th><th title = \"String\" style = \"text-align: left;\">String</th><th title = \"Int64\" style = \"text-align: left;\">Int64</th><th title = \"Int64\" style = \"text-align: left;\">Int64</th><th title = \"Int64\" style = \"text-align: left;\">Int64</th></tr></thead><tbody><tr><td class = \"rowNumber\" style = \"font-weight: bold; text-align: right;\">1</td><td style = \"text-align: left;\">Boston Celtics</td><td style = \"text-align: right;\">59</td><td style = \"text-align: right;\">16</td><td style = \"text-align: right;\">75</td></tr><tr><td class = \"rowNumber\" style = \"font-weight: bold; text-align: right;\">2</td><td style = \"text-align: left;\">Cincinnati Royals</td><td style = \"text-align: right;\">19</td><td style = \"text-align: right;\">56</td><td style = \"text-align: right;\">75</td></tr><tr><td class = \"rowNumber\" style = \"font-weight: bold; text-align: right;\">3</td><td style = \"text-align: left;\">Detroit Pistons</td><td style = \"text-align: right;\">29</td><td style = \"text-align: right;\">46</td><td style = \"text-align: right;\">75</td></tr><tr><td class = \"rowNumber\" style = \"font-weight: bold; text-align: right;\">4</td><td style = \"text-align: left;\">Minneapolis Lakers</td><td style = \"text-align: right;\">26</td><td style = \"text-align: right;\">49</td><td style = \"text-align: right;\">75</td></tr><tr><td class = \"rowNumber\" style = \"font-weight: bold; text-align: right;\">5</td><td style = \"text-align: left;\">New York Knicks</td><td style = \"text-align: right;\">27</td><td style = \"text-align: right;\">48</td><td style = \"text-align: right;\">75</td></tr><tr><td class = \"rowNumber\" style = \"font-weight: bold; text-align: right;\">6</td><td style = \"text-align: left;\">Philadelphia Warriors</td><td style = \"text-align: right;\">49</td><td style = \"text-align: right;\">26</td><td style = \"text-align: right;\">75</td></tr><tr><td class = \"rowNumber\" style = \"font-weight: bold; text-align: right;\">7</td><td style = \"text-align: left;\">St. Louis Hawks</td><td style = \"text-align: right;\">46</td><td style = \"text-align: right;\">29</td><td style = \"text-align: right;\">75</td></tr><tr><td class = \"rowNumber\" style = \"font-weight: bold; text-align: right;\">8</td><td style = \"text-align: left;\">Syracuse Nationals</td><td style = \"text-align: right;\">45</td><td style = \"text-align: right;\">30</td><td style = \"text-align: right;\">75</td></tr></tbody></table></div>"
      ],
      "text/latex": [
       "\\begin{tabular}{r|cccc}\n",
       "\t& team & W & L & num\\_games\\\\\n",
       "\t\\hline\n",
       "\t& String & Int64 & Int64 & Int64\\\\\n",
       "\t\\hline\n",
       "\t1 & Boston Celtics & 59 & 16 & 75 \\\\\n",
       "\t2 & Cincinnati Royals & 19 & 56 & 75 \\\\\n",
       "\t3 & Detroit Pistons & 29 & 46 & 75 \\\\\n",
       "\t4 & Minneapolis Lakers & 26 & 49 & 75 \\\\\n",
       "\t5 & New York Knicks & 27 & 48 & 75 \\\\\n",
       "\t6 & Philadelphia Warriors & 49 & 26 & 75 \\\\\n",
       "\t7 & St. Louis Hawks & 46 & 29 & 75 \\\\\n",
       "\t8 & Syracuse Nationals & 45 & 30 & 75 \\\\\n",
       "\\end{tabular}\n"
      ],
      "text/plain": [
       "\u001b[1m8×4 DataFrame\u001b[0m\n",
       "\u001b[1m Row \u001b[0m│\u001b[1m team                  \u001b[0m\u001b[1m W     \u001b[0m\u001b[1m L     \u001b[0m\u001b[1m num_games \u001b[0m\n",
       "     │\u001b[90m String                \u001b[0m\u001b[90m Int64 \u001b[0m\u001b[90m Int64 \u001b[0m\u001b[90m Int64     \u001b[0m\n",
       "─────┼────────────────────────────────────────────────\n",
       "   1 │ Boston Celtics            59     16         75\n",
       "   2 │ Cincinnati Royals         19     56         75\n",
       "   3 │ Detroit Pistons           29     46         75\n",
       "   4 │ Minneapolis Lakers        26     49         75\n",
       "   5 │ New York Knicks           27     48         75\n",
       "   6 │ Philadelphia Warriors     49     26         75\n",
       "   7 │ St. Louis Hawks           46     29         75\n",
       "   8 │ Syracuse Nationals        45     30         75"
      ]
     },
     "execution_count": 13,
     "metadata": {},
     "output_type": "execute_result"
    }
   ],
   "source": [
    "@chain nba1960 begin\n",
    "  transform([:W,:L] => ((w,l) -> w+l) => :num_games)\n",
    "end"
   ]
  },
  {
   "cell_type": "markdown",
   "metadata": {},
   "source": [
    "The big difference with this example is that this takes two columns to perform the calculation.  The two columns are created as a vector (array) using [ ] and then the anonymous function is a binary function and we use the variables `w` and `l` and note that these need to be surrounded by ().  "
   ]
  },
  {
   "cell_type": "markdown",
   "metadata": {},
   "source": [
    "The last example here will be to pull the nickname from a team. Below we will use the `split` function within the `transform` function, but before that notice that"
   ]
  },
  {
   "cell_type": "code",
   "execution_count": 14,
   "metadata": {},
   "outputs": [
    {
     "data": {
      "text/plain": [
       "2-element Vector{SubString{String}}:\n",
       " \"Boston\"\n",
       " \"Celtics\""
      ]
     },
     "execution_count": 14,
     "metadata": {},
     "output_type": "execute_result"
    }
   ],
   "source": [
    "split(\"Boston Celtics\",\" \")"
   ]
  },
  {
   "cell_type": "markdown",
   "metadata": {},
   "source": [
    "creates an array of strings (technically a substring) by splitting on a space.  We will pull the last one with: \n",
    "\n",
    "And we will create a function that pulls out the nickname using"
   ]
  },
  {
   "cell_type": "code",
   "execution_count": 15,
   "metadata": {},
   "outputs": [
    {
     "data": {
      "text/plain": [
       "\"Celtics\""
      ]
     },
     "execution_count": 15,
     "metadata": {},
     "output_type": "execute_result"
    }
   ],
   "source": [
    "last(split(\"Boston Celtics\",\" \"))"
   ]
  },
  {
   "cell_type": "markdown",
   "metadata": {},
   "source": [
    "The following then will generate a column with a nickname"
   ]
  },
  {
   "cell_type": "code",
   "execution_count": 16,
   "metadata": {},
   "outputs": [
    {
     "data": {
      "text/html": [
       "<div><div style = \"float: left;\"><span>8×4 DataFrame</span></div><div style = \"clear: both;\"></div></div><div class = \"data-frame\" style = \"overflow-x: scroll;\"><table class = \"data-frame\" style = \"margin-bottom: 6px;\"><thead><tr class = \"header\"><th class = \"rowNumber\" style = \"font-weight: bold; text-align: right;\">Row</th><th style = \"text-align: left;\">team</th><th style = \"text-align: left;\">W</th><th style = \"text-align: left;\">L</th><th style = \"text-align: left;\">nickname</th></tr><tr class = \"subheader headerLastRow\"><th class = \"rowNumber\" style = \"font-weight: bold; text-align: right;\"></th><th title = \"String\" style = \"text-align: left;\">String</th><th title = \"Int64\" style = \"text-align: left;\">Int64</th><th title = \"Int64\" style = \"text-align: left;\">Int64</th><th title = \"String\" style = \"text-align: left;\">String</th></tr></thead><tbody><tr><td class = \"rowNumber\" style = \"font-weight: bold; text-align: right;\">1</td><td style = \"text-align: left;\">Boston Celtics</td><td style = \"text-align: right;\">59</td><td style = \"text-align: right;\">16</td><td style = \"text-align: left;\">Celtics</td></tr><tr><td class = \"rowNumber\" style = \"font-weight: bold; text-align: right;\">2</td><td style = \"text-align: left;\">Cincinnati Royals</td><td style = \"text-align: right;\">19</td><td style = \"text-align: right;\">56</td><td style = \"text-align: left;\">Royals</td></tr><tr><td class = \"rowNumber\" style = \"font-weight: bold; text-align: right;\">3</td><td style = \"text-align: left;\">Detroit Pistons</td><td style = \"text-align: right;\">29</td><td style = \"text-align: right;\">46</td><td style = \"text-align: left;\">Pistons</td></tr><tr><td class = \"rowNumber\" style = \"font-weight: bold; text-align: right;\">4</td><td style = \"text-align: left;\">Minneapolis Lakers</td><td style = \"text-align: right;\">26</td><td style = \"text-align: right;\">49</td><td style = \"text-align: left;\">Lakers</td></tr><tr><td class = \"rowNumber\" style = \"font-weight: bold; text-align: right;\">5</td><td style = \"text-align: left;\">New York Knicks</td><td style = \"text-align: right;\">27</td><td style = \"text-align: right;\">48</td><td style = \"text-align: left;\">Knicks</td></tr><tr><td class = \"rowNumber\" style = \"font-weight: bold; text-align: right;\">6</td><td style = \"text-align: left;\">Philadelphia Warriors</td><td style = \"text-align: right;\">49</td><td style = \"text-align: right;\">26</td><td style = \"text-align: left;\">Warriors</td></tr><tr><td class = \"rowNumber\" style = \"font-weight: bold; text-align: right;\">7</td><td style = \"text-align: left;\">St. Louis Hawks</td><td style = \"text-align: right;\">46</td><td style = \"text-align: right;\">29</td><td style = \"text-align: left;\">Hawks</td></tr><tr><td class = \"rowNumber\" style = \"font-weight: bold; text-align: right;\">8</td><td style = \"text-align: left;\">Syracuse Nationals</td><td style = \"text-align: right;\">45</td><td style = \"text-align: right;\">30</td><td style = \"text-align: left;\">Nationals</td></tr></tbody></table></div>"
      ],
      "text/latex": [
       "\\begin{tabular}{r|cccc}\n",
       "\t& team & W & L & nickname\\\\\n",
       "\t\\hline\n",
       "\t& String & Int64 & Int64 & String\\\\\n",
       "\t\\hline\n",
       "\t1 & Boston Celtics & 59 & 16 & Celtics \\\\\n",
       "\t2 & Cincinnati Royals & 19 & 56 & Royals \\\\\n",
       "\t3 & Detroit Pistons & 29 & 46 & Pistons \\\\\n",
       "\t4 & Minneapolis Lakers & 26 & 49 & Lakers \\\\\n",
       "\t5 & New York Knicks & 27 & 48 & Knicks \\\\\n",
       "\t6 & Philadelphia Warriors & 49 & 26 & Warriors \\\\\n",
       "\t7 & St. Louis Hawks & 46 & 29 & Hawks \\\\\n",
       "\t8 & Syracuse Nationals & 45 & 30 & Nationals \\\\\n",
       "\\end{tabular}\n"
      ],
      "text/plain": [
       "\u001b[1m8×4 DataFrame\u001b[0m\n",
       "\u001b[1m Row \u001b[0m│\u001b[1m team                  \u001b[0m\u001b[1m W     \u001b[0m\u001b[1m L     \u001b[0m\u001b[1m nickname  \u001b[0m\n",
       "     │\u001b[90m String                \u001b[0m\u001b[90m Int64 \u001b[0m\u001b[90m Int64 \u001b[0m\u001b[90m String    \u001b[0m\n",
       "─────┼────────────────────────────────────────────────\n",
       "   1 │ Boston Celtics            59     16  Celtics\n",
       "   2 │ Cincinnati Royals         19     56  Royals\n",
       "   3 │ Detroit Pistons           29     46  Pistons\n",
       "   4 │ Minneapolis Lakers        26     49  Lakers\n",
       "   5 │ New York Knicks           27     48  Knicks\n",
       "   6 │ Philadelphia Warriors     49     26  Warriors\n",
       "   7 │ St. Louis Hawks           46     29  Hawks\n",
       "   8 │ Syracuse Nationals        45     30  Nationals"
      ]
     },
     "execution_count": 16,
     "metadata": {},
     "output_type": "execute_result"
    }
   ],
   "source": [
    "@chain nba1960 begin\n",
    "  transform(:team => (t->string.(last.(split.(t,\" \")))) => :nickname)\n",
    "end"
   ]
  },
  {
   "cell_type": "markdown",
   "metadata": {},
   "source": [
    "Notice that because of broadcasting (applying a function to an entire vector), each of the functions string, last and split need to have a . appended to the end. "
   ]
  },
  {
   "cell_type": "markdown",
   "metadata": {},
   "source": [
    "### Multiple Operations on a DataFrame\n",
    "\n",
    "Next, we can create the same DataFrame using multiple steps and this is the real power of the `@chain` macro. \n",
    "\n",
    "First, we will make a new column that is just the team name split by spaces:"
   ]
  },
  {
   "cell_type": "code",
   "execution_count": 17,
   "metadata": {},
   "outputs": [
    {
     "data": {
      "text/html": [
       "<div><div style = \"float: left;\"><span>8×4 DataFrame</span></div><div style = \"clear: both;\"></div></div><div class = \"data-frame\" style = \"overflow-x: scroll;\"><table class = \"data-frame\" style = \"margin-bottom: 6px;\"><thead><tr class = \"header\"><th class = \"rowNumber\" style = \"font-weight: bold; text-align: right;\">Row</th><th style = \"text-align: left;\">team</th><th style = \"text-align: left;\">W</th><th style = \"text-align: left;\">L</th><th style = \"text-align: left;\">tmp_col</th></tr><tr class = \"subheader headerLastRow\"><th class = \"rowNumber\" style = \"font-weight: bold; text-align: right;\"></th><th title = \"String\" style = \"text-align: left;\">String</th><th title = \"Int64\" style = \"text-align: left;\">Int64</th><th title = \"Int64\" style = \"text-align: left;\">Int64</th><th title = \"Vector{SubString{String}}\" style = \"text-align: left;\">Array…</th></tr></thead><tbody><tr><td class = \"rowNumber\" style = \"font-weight: bold; text-align: right;\">1</td><td style = \"text-align: left;\">Boston Celtics</td><td style = \"text-align: right;\">59</td><td style = \"text-align: right;\">16</td><td style = \"text-align: left;\">SubString{String}[&quot;Boston&quot;, &quot;Celtics&quot;]</td></tr><tr><td class = \"rowNumber\" style = \"font-weight: bold; text-align: right;\">2</td><td style = \"text-align: left;\">Cincinnati Royals</td><td style = \"text-align: right;\">19</td><td style = \"text-align: right;\">56</td><td style = \"text-align: left;\">SubString{String}[&quot;Cincinnati&quot;, &quot;Royals&quot;]</td></tr><tr><td class = \"rowNumber\" style = \"font-weight: bold; text-align: right;\">3</td><td style = \"text-align: left;\">Detroit Pistons</td><td style = \"text-align: right;\">29</td><td style = \"text-align: right;\">46</td><td style = \"text-align: left;\">SubString{String}[&quot;Detroit&quot;, &quot;Pistons&quot;]</td></tr><tr><td class = \"rowNumber\" style = \"font-weight: bold; text-align: right;\">4</td><td style = \"text-align: left;\">Minneapolis Lakers</td><td style = \"text-align: right;\">26</td><td style = \"text-align: right;\">49</td><td style = \"text-align: left;\">SubString{String}[&quot;Minneapolis&quot;, &quot;Lakers&quot;]</td></tr><tr><td class = \"rowNumber\" style = \"font-weight: bold; text-align: right;\">5</td><td style = \"text-align: left;\">New York Knicks</td><td style = \"text-align: right;\">27</td><td style = \"text-align: right;\">48</td><td style = \"text-align: left;\">SubString{String}[&quot;New&quot;, &quot;York&quot;, &quot;Knicks&quot;]</td></tr><tr><td class = \"rowNumber\" style = \"font-weight: bold; text-align: right;\">6</td><td style = \"text-align: left;\">Philadelphia Warriors</td><td style = \"text-align: right;\">49</td><td style = \"text-align: right;\">26</td><td style = \"text-align: left;\">SubString{String}[&quot;Philadelphia&quot;, &quot;Warriors&quot;]</td></tr><tr><td class = \"rowNumber\" style = \"font-weight: bold; text-align: right;\">7</td><td style = \"text-align: left;\">St. Louis Hawks</td><td style = \"text-align: right;\">46</td><td style = \"text-align: right;\">29</td><td style = \"text-align: left;\">SubString{String}[&quot;St.&quot;, &quot;Louis&quot;, &quot;Hawks&quot;]</td></tr><tr><td class = \"rowNumber\" style = \"font-weight: bold; text-align: right;\">8</td><td style = \"text-align: left;\">Syracuse Nationals</td><td style = \"text-align: right;\">45</td><td style = \"text-align: right;\">30</td><td style = \"text-align: left;\">SubString{String}[&quot;Syracuse&quot;, &quot;Nationals&quot;]</td></tr></tbody></table></div>"
      ],
      "text/latex": [
       "\\begin{tabular}{r|cccc}\n",
       "\t& team & W & L & tmp\\_col\\\\\n",
       "\t\\hline\n",
       "\t& String & Int64 & Int64 & Array…\\\\\n",
       "\t\\hline\n",
       "\t1 & Boston Celtics & 59 & 16 & [\"Boston\", \"Celtics\"] \\\\\n",
       "\t2 & Cincinnati Royals & 19 & 56 & [\"Cincinnati\", \"Royals\"] \\\\\n",
       "\t3 & Detroit Pistons & 29 & 46 & [\"Detroit\", \"Pistons\"] \\\\\n",
       "\t4 & Minneapolis Lakers & 26 & 49 & [\"Minneapolis\", \"Lakers\"] \\\\\n",
       "\t5 & New York Knicks & 27 & 48 & [\"New\", \"York\", \"Knicks\"] \\\\\n",
       "\t6 & Philadelphia Warriors & 49 & 26 & [\"Philadelphia\", \"Warriors\"] \\\\\n",
       "\t7 & St. Louis Hawks & 46 & 29 & [\"St.\", \"Louis\", \"Hawks\"] \\\\\n",
       "\t8 & Syracuse Nationals & 45 & 30 & [\"Syracuse\", \"Nationals\"] \\\\\n",
       "\\end{tabular}\n"
      ],
      "text/plain": [
       "\u001b[1m8×4 DataFrame\u001b[0m\n",
       "\u001b[1m Row \u001b[0m│\u001b[1m team                  \u001b[0m\u001b[1m W     \u001b[0m\u001b[1m L     \u001b[0m\u001b[1m tmp_col                           \u001b[0m\n",
       "     │\u001b[90m String                \u001b[0m\u001b[90m Int64 \u001b[0m\u001b[90m Int64 \u001b[0m\u001b[90m Array…                            \u001b[0m\n",
       "─────┼────────────────────────────────────────────────────────────────────────\n",
       "   1 │ Boston Celtics            59     16  SubString{String}[\"Boston\", \"Cel…\n",
       "   2 │ Cincinnati Royals         19     56  SubString{String}[\"Cincinnati\", …\n",
       "   3 │ Detroit Pistons           29     46  SubString{String}[\"Detroit\", \"Pi…\n",
       "   4 │ Minneapolis Lakers        26     49  SubString{String}[\"Minneapolis\",…\n",
       "   5 │ New York Knicks           27     48  SubString{String}[\"New\", \"York\",…\n",
       "   6 │ Philadelphia Warriors     49     26  SubString{String}[\"Philadelphia\"…\n",
       "   7 │ St. Louis Hawks           46     29  SubString{String}[\"St.\", \"Louis\"…\n",
       "   8 │ Syracuse Nationals        45     30  SubString{String}[\"Syracuse\", \"N…"
      ]
     },
     "execution_count": 17,
     "metadata": {},
     "output_type": "execute_result"
    }
   ],
   "source": [
    "@chain nba1960 begin\n",
    "  transform(:team => (t->split.(t, \" \")) => :tmp_col)\n",
    "end"
   ]
  },
  {
   "cell_type": "markdown",
   "metadata": {},
   "source": [
    "And notice that the new column contains the vector.  We can then do the next step by pulling just the last column:"
   ]
  },
  {
   "cell_type": "code",
   "execution_count": 18,
   "metadata": {},
   "outputs": [
    {
     "data": {
      "text/html": [
       "<div><div style = \"float: left;\"><span>8×5 DataFrame</span></div><div style = \"clear: both;\"></div></div><div class = \"data-frame\" style = \"overflow-x: scroll;\"><table class = \"data-frame\" style = \"margin-bottom: 6px;\"><thead><tr class = \"header\"><th class = \"rowNumber\" style = \"font-weight: bold; text-align: right;\">Row</th><th style = \"text-align: left;\">team</th><th style = \"text-align: left;\">W</th><th style = \"text-align: left;\">L</th><th style = \"text-align: left;\">tmp_col</th><th style = \"text-align: left;\">nickname</th></tr><tr class = \"subheader headerLastRow\"><th class = \"rowNumber\" style = \"font-weight: bold; text-align: right;\"></th><th title = \"String\" style = \"text-align: left;\">String</th><th title = \"Int64\" style = \"text-align: left;\">Int64</th><th title = \"Int64\" style = \"text-align: left;\">Int64</th><th title = \"Vector{SubString{String}}\" style = \"text-align: left;\">Array…</th><th title = \"String\" style = \"text-align: left;\">String</th></tr></thead><tbody><tr><td class = \"rowNumber\" style = \"font-weight: bold; text-align: right;\">1</td><td style = \"text-align: left;\">Boston Celtics</td><td style = \"text-align: right;\">59</td><td style = \"text-align: right;\">16</td><td style = \"text-align: left;\">SubString{String}[&quot;Boston&quot;, &quot;Celtics&quot;]</td><td style = \"text-align: left;\">Celtics</td></tr><tr><td class = \"rowNumber\" style = \"font-weight: bold; text-align: right;\">2</td><td style = \"text-align: left;\">Cincinnati Royals</td><td style = \"text-align: right;\">19</td><td style = \"text-align: right;\">56</td><td style = \"text-align: left;\">SubString{String}[&quot;Cincinnati&quot;, &quot;Royals&quot;]</td><td style = \"text-align: left;\">Royals</td></tr><tr><td class = \"rowNumber\" style = \"font-weight: bold; text-align: right;\">3</td><td style = \"text-align: left;\">Detroit Pistons</td><td style = \"text-align: right;\">29</td><td style = \"text-align: right;\">46</td><td style = \"text-align: left;\">SubString{String}[&quot;Detroit&quot;, &quot;Pistons&quot;]</td><td style = \"text-align: left;\">Pistons</td></tr><tr><td class = \"rowNumber\" style = \"font-weight: bold; text-align: right;\">4</td><td style = \"text-align: left;\">Minneapolis Lakers</td><td style = \"text-align: right;\">26</td><td style = \"text-align: right;\">49</td><td style = \"text-align: left;\">SubString{String}[&quot;Minneapolis&quot;, &quot;Lakers&quot;]</td><td style = \"text-align: left;\">Lakers</td></tr><tr><td class = \"rowNumber\" style = \"font-weight: bold; text-align: right;\">5</td><td style = \"text-align: left;\">New York Knicks</td><td style = \"text-align: right;\">27</td><td style = \"text-align: right;\">48</td><td style = \"text-align: left;\">SubString{String}[&quot;New&quot;, &quot;York&quot;, &quot;Knicks&quot;]</td><td style = \"text-align: left;\">Knicks</td></tr><tr><td class = \"rowNumber\" style = \"font-weight: bold; text-align: right;\">6</td><td style = \"text-align: left;\">Philadelphia Warriors</td><td style = \"text-align: right;\">49</td><td style = \"text-align: right;\">26</td><td style = \"text-align: left;\">SubString{String}[&quot;Philadelphia&quot;, &quot;Warriors&quot;]</td><td style = \"text-align: left;\">Warriors</td></tr><tr><td class = \"rowNumber\" style = \"font-weight: bold; text-align: right;\">7</td><td style = \"text-align: left;\">St. Louis Hawks</td><td style = \"text-align: right;\">46</td><td style = \"text-align: right;\">29</td><td style = \"text-align: left;\">SubString{String}[&quot;St.&quot;, &quot;Louis&quot;, &quot;Hawks&quot;]</td><td style = \"text-align: left;\">Hawks</td></tr><tr><td class = \"rowNumber\" style = \"font-weight: bold; text-align: right;\">8</td><td style = \"text-align: left;\">Syracuse Nationals</td><td style = \"text-align: right;\">45</td><td style = \"text-align: right;\">30</td><td style = \"text-align: left;\">SubString{String}[&quot;Syracuse&quot;, &quot;Nationals&quot;]</td><td style = \"text-align: left;\">Nationals</td></tr></tbody></table></div>"
      ],
      "text/latex": [
       "\\begin{tabular}{r|ccccc}\n",
       "\t& team & W & L & tmp\\_col & nickname\\\\\n",
       "\t\\hline\n",
       "\t& String & Int64 & Int64 & Array… & String\\\\\n",
       "\t\\hline\n",
       "\t1 & Boston Celtics & 59 & 16 & [\"Boston\", \"Celtics\"] & Celtics \\\\\n",
       "\t2 & Cincinnati Royals & 19 & 56 & [\"Cincinnati\", \"Royals\"] & Royals \\\\\n",
       "\t3 & Detroit Pistons & 29 & 46 & [\"Detroit\", \"Pistons\"] & Pistons \\\\\n",
       "\t4 & Minneapolis Lakers & 26 & 49 & [\"Minneapolis\", \"Lakers\"] & Lakers \\\\\n",
       "\t5 & New York Knicks & 27 & 48 & [\"New\", \"York\", \"Knicks\"] & Knicks \\\\\n",
       "\t6 & Philadelphia Warriors & 49 & 26 & [\"Philadelphia\", \"Warriors\"] & Warriors \\\\\n",
       "\t7 & St. Louis Hawks & 46 & 29 & [\"St.\", \"Louis\", \"Hawks\"] & Hawks \\\\\n",
       "\t8 & Syracuse Nationals & 45 & 30 & [\"Syracuse\", \"Nationals\"] & Nationals \\\\\n",
       "\\end{tabular}\n"
      ],
      "text/plain": [
       "\u001b[1m8×5 DataFrame\u001b[0m\n",
       "\u001b[1m Row \u001b[0m│\u001b[1m team                  \u001b[0m\u001b[1m W     \u001b[0m\u001b[1m L     \u001b[0m\u001b[1m tmp_col                           \u001b[0m\u001b[1m\u001b[0m ⋯\n",
       "     │\u001b[90m String                \u001b[0m\u001b[90m Int64 \u001b[0m\u001b[90m Int64 \u001b[0m\u001b[90m Array…                            \u001b[0m\u001b[90m\u001b[0m ⋯\n",
       "─────┼──────────────────────────────────────────────────────────────────────────\n",
       "   1 │ Boston Celtics            59     16  SubString{String}[\"Boston\", \"Cel…  ⋯\n",
       "   2 │ Cincinnati Royals         19     56  SubString{String}[\"Cincinnati\", …\n",
       "   3 │ Detroit Pistons           29     46  SubString{String}[\"Detroit\", \"Pi…\n",
       "   4 │ Minneapolis Lakers        26     49  SubString{String}[\"Minneapolis\",…\n",
       "   5 │ New York Knicks           27     48  SubString{String}[\"New\", \"York\",…  ⋯\n",
       "   6 │ Philadelphia Warriors     49     26  SubString{String}[\"Philadelphia\"…\n",
       "   7 │ St. Louis Hawks           46     29  SubString{String}[\"St.\", \"Louis\"…\n",
       "   8 │ Syracuse Nationals        45     30  SubString{String}[\"Syracuse\", \"N…\n",
       "\u001b[36m                                                                1 column omitted\u001b[0m"
      ]
     },
     "execution_count": 18,
     "metadata": {},
     "output_type": "execute_result"
    }
   ],
   "source": [
    "@chain nba1960 begin\n",
    "  transform(:team => (t->split.(t, \" \")) => :tmp_col)\n",
    "  transform(:tmp_col => (v->string.(last.(v))) => :nickname)\n",
    "end"
   ]
  },
  {
   "cell_type": "markdown",
   "metadata": {},
   "source": [
    "We could then drop the the `tmp_col` column with the `select` function using:"
   ]
  },
  {
   "cell_type": "code",
   "execution_count": 19,
   "metadata": {},
   "outputs": [
    {
     "data": {
      "text/html": [
       "<div><div style = \"float: left;\"><span>8×4 DataFrame</span></div><div style = \"clear: both;\"></div></div><div class = \"data-frame\" style = \"overflow-x: scroll;\"><table class = \"data-frame\" style = \"margin-bottom: 6px;\"><thead><tr class = \"header\"><th class = \"rowNumber\" style = \"font-weight: bold; text-align: right;\">Row</th><th style = \"text-align: left;\">team</th><th style = \"text-align: left;\">W</th><th style = \"text-align: left;\">L</th><th style = \"text-align: left;\">nickname</th></tr><tr class = \"subheader headerLastRow\"><th class = \"rowNumber\" style = \"font-weight: bold; text-align: right;\"></th><th title = \"String\" style = \"text-align: left;\">String</th><th title = \"Int64\" style = \"text-align: left;\">Int64</th><th title = \"Int64\" style = \"text-align: left;\">Int64</th><th title = \"String\" style = \"text-align: left;\">String</th></tr></thead><tbody><tr><td class = \"rowNumber\" style = \"font-weight: bold; text-align: right;\">1</td><td style = \"text-align: left;\">Boston Celtics</td><td style = \"text-align: right;\">59</td><td style = \"text-align: right;\">16</td><td style = \"text-align: left;\">Celtics</td></tr><tr><td class = \"rowNumber\" style = \"font-weight: bold; text-align: right;\">2</td><td style = \"text-align: left;\">Cincinnati Royals</td><td style = \"text-align: right;\">19</td><td style = \"text-align: right;\">56</td><td style = \"text-align: left;\">Royals</td></tr><tr><td class = \"rowNumber\" style = \"font-weight: bold; text-align: right;\">3</td><td style = \"text-align: left;\">Detroit Pistons</td><td style = \"text-align: right;\">29</td><td style = \"text-align: right;\">46</td><td style = \"text-align: left;\">Pistons</td></tr><tr><td class = \"rowNumber\" style = \"font-weight: bold; text-align: right;\">4</td><td style = \"text-align: left;\">Minneapolis Lakers</td><td style = \"text-align: right;\">26</td><td style = \"text-align: right;\">49</td><td style = \"text-align: left;\">Lakers</td></tr><tr><td class = \"rowNumber\" style = \"font-weight: bold; text-align: right;\">5</td><td style = \"text-align: left;\">New York Knicks</td><td style = \"text-align: right;\">27</td><td style = \"text-align: right;\">48</td><td style = \"text-align: left;\">Knicks</td></tr><tr><td class = \"rowNumber\" style = \"font-weight: bold; text-align: right;\">6</td><td style = \"text-align: left;\">Philadelphia Warriors</td><td style = \"text-align: right;\">49</td><td style = \"text-align: right;\">26</td><td style = \"text-align: left;\">Warriors</td></tr><tr><td class = \"rowNumber\" style = \"font-weight: bold; text-align: right;\">7</td><td style = \"text-align: left;\">St. Louis Hawks</td><td style = \"text-align: right;\">46</td><td style = \"text-align: right;\">29</td><td style = \"text-align: left;\">Hawks</td></tr><tr><td class = \"rowNumber\" style = \"font-weight: bold; text-align: right;\">8</td><td style = \"text-align: left;\">Syracuse Nationals</td><td style = \"text-align: right;\">45</td><td style = \"text-align: right;\">30</td><td style = \"text-align: left;\">Nationals</td></tr></tbody></table></div>"
      ],
      "text/latex": [
       "\\begin{tabular}{r|cccc}\n",
       "\t& team & W & L & nickname\\\\\n",
       "\t\\hline\n",
       "\t& String & Int64 & Int64 & String\\\\\n",
       "\t\\hline\n",
       "\t1 & Boston Celtics & 59 & 16 & Celtics \\\\\n",
       "\t2 & Cincinnati Royals & 19 & 56 & Royals \\\\\n",
       "\t3 & Detroit Pistons & 29 & 46 & Pistons \\\\\n",
       "\t4 & Minneapolis Lakers & 26 & 49 & Lakers \\\\\n",
       "\t5 & New York Knicks & 27 & 48 & Knicks \\\\\n",
       "\t6 & Philadelphia Warriors & 49 & 26 & Warriors \\\\\n",
       "\t7 & St. Louis Hawks & 46 & 29 & Hawks \\\\\n",
       "\t8 & Syracuse Nationals & 45 & 30 & Nationals \\\\\n",
       "\\end{tabular}\n"
      ],
      "text/plain": [
       "\u001b[1m8×4 DataFrame\u001b[0m\n",
       "\u001b[1m Row \u001b[0m│\u001b[1m team                  \u001b[0m\u001b[1m W     \u001b[0m\u001b[1m L     \u001b[0m\u001b[1m nickname  \u001b[0m\n",
       "     │\u001b[90m String                \u001b[0m\u001b[90m Int64 \u001b[0m\u001b[90m Int64 \u001b[0m\u001b[90m String    \u001b[0m\n",
       "─────┼────────────────────────────────────────────────\n",
       "   1 │ Boston Celtics            59     16  Celtics\n",
       "   2 │ Cincinnati Royals         19     56  Royals\n",
       "   3 │ Detroit Pistons           29     46  Pistons\n",
       "   4 │ Minneapolis Lakers        26     49  Lakers\n",
       "   5 │ New York Knicks           27     48  Knicks\n",
       "   6 │ Philadelphia Warriors     49     26  Warriors\n",
       "   7 │ St. Louis Hawks           46     29  Hawks\n",
       "   8 │ Syracuse Nationals        45     30  Nationals"
      ]
     },
     "execution_count": 19,
     "metadata": {},
     "output_type": "execute_result"
    }
   ],
   "source": [
    "@chain nba1960 begin\n",
    "  transform(:team => (t->split.(t, \" \")) => :tmp_col)\n",
    "  transform(:tmp_col => (v->string.(last.(v))) => :nickname)\n",
    "  select(Not(:tmp_col))\n",
    "end"
   ]
  },
  {
   "cell_type": "markdown",
   "metadata": {},
   "source": [
    "This can further be simplified using the `ByRow` and `AsTable` methods. We will still split the `team` field but create a named tuple"
   ]
  },
  {
   "cell_type": "code",
   "execution_count": 34,
   "metadata": {},
   "outputs": [
    {
     "data": {
      "text/html": [
       "<div><div style = \"float: left;\"><span>8×4 DataFrame</span></div><div style = \"clear: both;\"></div></div><div class = \"data-frame\" style = \"overflow-x: scroll;\"><table class = \"data-frame\" style = \"margin-bottom: 6px;\"><thead><tr class = \"header\"><th class = \"rowNumber\" style = \"font-weight: bold; text-align: right;\">Row</th><th style = \"text-align: left;\">team</th><th style = \"text-align: left;\">W</th><th style = \"text-align: left;\">L</th><th style = \"text-align: left;\">team_function</th></tr><tr class = \"subheader headerLastRow\"><th class = \"rowNumber\" style = \"font-weight: bold; text-align: right;\"></th><th title = \"String\" style = \"text-align: left;\">String</th><th title = \"Int64\" style = \"text-align: left;\">Int64</th><th title = \"Int64\" style = \"text-align: left;\">Int64</th><th title = \"NamedTuple{(:city, :nickname), Tuple{String, SubString{String}}}\" style = \"text-align: left;\">NamedTup…</th></tr></thead><tbody><tr><td class = \"rowNumber\" style = \"font-weight: bold; text-align: right;\">1</td><td style = \"text-align: left;\">Boston Celtics</td><td style = \"text-align: right;\">59</td><td style = \"text-align: right;\">16</td><td style = \"text-align: left;\">(city = &quot;Boston&quot;, nickname = &quot;Celtics&quot;)</td></tr><tr><td class = \"rowNumber\" style = \"font-weight: bold; text-align: right;\">2</td><td style = \"text-align: left;\">Cincinnati Royals</td><td style = \"text-align: right;\">19</td><td style = \"text-align: right;\">56</td><td style = \"text-align: left;\">(city = &quot;Cincinnati&quot;, nickname = &quot;Royals&quot;)</td></tr><tr><td class = \"rowNumber\" style = \"font-weight: bold; text-align: right;\">3</td><td style = \"text-align: left;\">Detroit Pistons</td><td style = \"text-align: right;\">29</td><td style = \"text-align: right;\">46</td><td style = \"text-align: left;\">(city = &quot;Detroit&quot;, nickname = &quot;Pistons&quot;)</td></tr><tr><td class = \"rowNumber\" style = \"font-weight: bold; text-align: right;\">4</td><td style = \"text-align: left;\">Minneapolis Lakers</td><td style = \"text-align: right;\">26</td><td style = \"text-align: right;\">49</td><td style = \"text-align: left;\">(city = &quot;Minneapolis&quot;, nickname = &quot;Lakers&quot;)</td></tr><tr><td class = \"rowNumber\" style = \"font-weight: bold; text-align: right;\">5</td><td style = \"text-align: left;\">New York Knicks</td><td style = \"text-align: right;\">27</td><td style = \"text-align: right;\">48</td><td style = \"text-align: left;\">(city = &quot;New York&quot;, nickname = &quot;Knicks&quot;)</td></tr><tr><td class = \"rowNumber\" style = \"font-weight: bold; text-align: right;\">6</td><td style = \"text-align: left;\">Philadelphia Warriors</td><td style = \"text-align: right;\">49</td><td style = \"text-align: right;\">26</td><td style = \"text-align: left;\">(city = &quot;Philadelphia&quot;, nickname = &quot;Warriors&quot;)</td></tr><tr><td class = \"rowNumber\" style = \"font-weight: bold; text-align: right;\">7</td><td style = \"text-align: left;\">St. Louis Hawks</td><td style = \"text-align: right;\">46</td><td style = \"text-align: right;\">29</td><td style = \"text-align: left;\">(city = &quot;St. Louis&quot;, nickname = &quot;Hawks&quot;)</td></tr><tr><td class = \"rowNumber\" style = \"font-weight: bold; text-align: right;\">8</td><td style = \"text-align: left;\">Syracuse Nationals</td><td style = \"text-align: right;\">45</td><td style = \"text-align: right;\">30</td><td style = \"text-align: left;\">(city = &quot;Syracuse&quot;, nickname = &quot;Nationals&quot;)</td></tr></tbody></table></div>"
      ],
      "text/latex": [
       "\\begin{tabular}{r|cccc}\n",
       "\t& team & W & L & team\\_function\\\\\n",
       "\t\\hline\n",
       "\t& String & Int64 & Int64 & NamedTup…\\\\\n",
       "\t\\hline\n",
       "\t1 & Boston Celtics & 59 & 16 & (city = \"Boston\", nickname = \"Celtics\") \\\\\n",
       "\t2 & Cincinnati Royals & 19 & 56 & (city = \"Cincinnati\", nickname = \"Royals\") \\\\\n",
       "\t3 & Detroit Pistons & 29 & 46 & (city = \"Detroit\", nickname = \"Pistons\") \\\\\n",
       "\t4 & Minneapolis Lakers & 26 & 49 & (city = \"Minneapolis\", nickname = \"Lakers\") \\\\\n",
       "\t5 & New York Knicks & 27 & 48 & (city = \"New York\", nickname = \"Knicks\") \\\\\n",
       "\t6 & Philadelphia Warriors & 49 & 26 & (city = \"Philadelphia\", nickname = \"Warriors\") \\\\\n",
       "\t7 & St. Louis Hawks & 46 & 29 & (city = \"St. Louis\", nickname = \"Hawks\") \\\\\n",
       "\t8 & Syracuse Nationals & 45 & 30 & (city = \"Syracuse\", nickname = \"Nationals\") \\\\\n",
       "\\end{tabular}\n"
      ],
      "text/plain": [
       "\u001b[1m8×4 DataFrame\u001b[0m\n",
       "\u001b[1m Row \u001b[0m│\u001b[1m team                  \u001b[0m\u001b[1m W     \u001b[0m\u001b[1m L     \u001b[0m\u001b[1m team_function                     \u001b[0m\n",
       "     │\u001b[90m String                \u001b[0m\u001b[90m Int64 \u001b[0m\u001b[90m Int64 \u001b[0m\u001b[90m NamedTuple…                       \u001b[0m\n",
       "─────┼────────────────────────────────────────────────────────────────────────\n",
       "   1 │ Boston Celtics            59     16  (city = \"Boston\", nickname = \"Ce…\n",
       "   2 │ Cincinnati Royals         19     56  (city = \"Cincinnati\", nickname =…\n",
       "   3 │ Detroit Pistons           29     46  (city = \"Detroit\", nickname = \"P…\n",
       "   4 │ Minneapolis Lakers        26     49  (city = \"Minneapolis\", nickname …\n",
       "   5 │ New York Knicks           27     48  (city = \"New York\", nickname = \"…\n",
       "   6 │ Philadelphia Warriors     49     26  (city = \"Philadelphia\", nickname…\n",
       "   7 │ St. Louis Hawks           46     29  (city = \"St. Louis\", nickname = …\n",
       "   8 │ Syracuse Nationals        45     30  (city = \"Syracuse\", nickname = \"…"
      ]
     },
     "execution_count": 34,
     "metadata": {},
     "output_type": "execute_result"
    }
   ],
   "source": [
    "@chain nba1960 begin\n",
    "  transform(:team =>ByRow(t->(city = join(split(t,\" \")[1:end-1],\" \"), nickname = last(split(t,\" \")))))\n",
    "end"
   ]
  },
  {
   "cell_type": "markdown",
   "metadata": {},
   "source": [
    "Note that if we want the full city (like for \"St. Louis\"), we need to pull the first two elements of the split up team string.  This is what `join(split(t,\" \")[1:end-1],\" \")` does.\n",
    "\n",
    "The `ByRow` method applies the function to each element in the row because there is not a way to broadcast this to a vector. Next, the `AsTable` takes the named tuple and creates two new columns with the given names.  We'll then rearrange the columns with the `select`"
   ]
  },
  {
   "cell_type": "code",
   "execution_count": 36,
   "metadata": {},
   "outputs": [
    {
     "data": {
      "text/html": [
       "<div><div style = \"float: left;\"><span>8×4 DataFrame</span></div><div style = \"clear: both;\"></div></div><div class = \"data-frame\" style = \"overflow-x: scroll;\"><table class = \"data-frame\" style = \"margin-bottom: 6px;\"><thead><tr class = \"header\"><th class = \"rowNumber\" style = \"font-weight: bold; text-align: right;\">Row</th><th style = \"text-align: left;\">city</th><th style = \"text-align: left;\">nickname</th><th style = \"text-align: left;\">W</th><th style = \"text-align: left;\">L</th></tr><tr class = \"subheader headerLastRow\"><th class = \"rowNumber\" style = \"font-weight: bold; text-align: right;\"></th><th title = \"String\" style = \"text-align: left;\">String</th><th title = \"SubString{String}\" style = \"text-align: left;\">SubStrin…</th><th title = \"Int64\" style = \"text-align: left;\">Int64</th><th title = \"Int64\" style = \"text-align: left;\">Int64</th></tr></thead><tbody><tr><td class = \"rowNumber\" style = \"font-weight: bold; text-align: right;\">1</td><td style = \"text-align: left;\">Boston</td><td style = \"text-align: left;\">Celtics</td><td style = \"text-align: right;\">59</td><td style = \"text-align: right;\">16</td></tr><tr><td class = \"rowNumber\" style = \"font-weight: bold; text-align: right;\">2</td><td style = \"text-align: left;\">Cincinnati</td><td style = \"text-align: left;\">Royals</td><td style = \"text-align: right;\">19</td><td style = \"text-align: right;\">56</td></tr><tr><td class = \"rowNumber\" style = \"font-weight: bold; text-align: right;\">3</td><td style = \"text-align: left;\">Detroit</td><td style = \"text-align: left;\">Pistons</td><td style = \"text-align: right;\">29</td><td style = \"text-align: right;\">46</td></tr><tr><td class = \"rowNumber\" style = \"font-weight: bold; text-align: right;\">4</td><td style = \"text-align: left;\">Minneapolis</td><td style = \"text-align: left;\">Lakers</td><td style = \"text-align: right;\">26</td><td style = \"text-align: right;\">49</td></tr><tr><td class = \"rowNumber\" style = \"font-weight: bold; text-align: right;\">5</td><td style = \"text-align: left;\">New York</td><td style = \"text-align: left;\">Knicks</td><td style = \"text-align: right;\">27</td><td style = \"text-align: right;\">48</td></tr><tr><td class = \"rowNumber\" style = \"font-weight: bold; text-align: right;\">6</td><td style = \"text-align: left;\">Philadelphia</td><td style = \"text-align: left;\">Warriors</td><td style = \"text-align: right;\">49</td><td style = \"text-align: right;\">26</td></tr><tr><td class = \"rowNumber\" style = \"font-weight: bold; text-align: right;\">7</td><td style = \"text-align: left;\">St. Louis</td><td style = \"text-align: left;\">Hawks</td><td style = \"text-align: right;\">46</td><td style = \"text-align: right;\">29</td></tr><tr><td class = \"rowNumber\" style = \"font-weight: bold; text-align: right;\">8</td><td style = \"text-align: left;\">Syracuse</td><td style = \"text-align: left;\">Nationals</td><td style = \"text-align: right;\">45</td><td style = \"text-align: right;\">30</td></tr></tbody></table></div>"
      ],
      "text/latex": [
       "\\begin{tabular}{r|cccc}\n",
       "\t& city & nickname & W & L\\\\\n",
       "\t\\hline\n",
       "\t& String & SubStrin… & Int64 & Int64\\\\\n",
       "\t\\hline\n",
       "\t1 & Boston & Celtics & 59 & 16 \\\\\n",
       "\t2 & Cincinnati & Royals & 19 & 56 \\\\\n",
       "\t3 & Detroit & Pistons & 29 & 46 \\\\\n",
       "\t4 & Minneapolis & Lakers & 26 & 49 \\\\\n",
       "\t5 & New York & Knicks & 27 & 48 \\\\\n",
       "\t6 & Philadelphia & Warriors & 49 & 26 \\\\\n",
       "\t7 & St. Louis & Hawks & 46 & 29 \\\\\n",
       "\t8 & Syracuse & Nationals & 45 & 30 \\\\\n",
       "\\end{tabular}\n"
      ],
      "text/plain": [
       "\u001b[1m8×4 DataFrame\u001b[0m\n",
       "\u001b[1m Row \u001b[0m│\u001b[1m city         \u001b[0m\u001b[1m nickname  \u001b[0m\u001b[1m W     \u001b[0m\u001b[1m L     \u001b[0m\n",
       "     │\u001b[90m String       \u001b[0m\u001b[90m SubStrin… \u001b[0m\u001b[90m Int64 \u001b[0m\u001b[90m Int64 \u001b[0m\n",
       "─────┼───────────────────────────────────────\n",
       "   1 │ Boston        Celtics       59     16\n",
       "   2 │ Cincinnati    Royals        19     56\n",
       "   3 │ Detroit       Pistons       29     46\n",
       "   4 │ Minneapolis   Lakers        26     49\n",
       "   5 │ New York      Knicks        27     48\n",
       "   6 │ Philadelphia  Warriors      49     26\n",
       "   7 │ St. Louis     Hawks         46     29\n",
       "   8 │ Syracuse      Nationals     45     30"
      ]
     },
     "execution_count": 36,
     "metadata": {},
     "output_type": "execute_result"
    }
   ],
   "source": [
    "@chain nba1960 begin\n",
    "  transform(:team =>ByRow(t->(city = join(split(t,\" \")[1:end-1],\" \"), nickname = last(split(t,\" \")))) => AsTable)\n",
    "  select(:city, :nickname, :W, :L)\n",
    "end"
   ]
  },
  {
   "cell_type": "markdown",
   "metadata": {},
   "source": [
    "Often, when working with a Dataframe, you need to figure out what the resulting DataFrame should look like.  It then often takes multiple steps to get to the result, but `@chain` allows you to see step-by-step how to get there. \n",
    "\n",
    "Troubleshooting/Understanding help.  The `#` character is the comment character in Julia. Put that at the beginning of a line inside of a set of commands in the `@chain` block and you can see step-by-step what each line does."
   ]
  },
  {
   "cell_type": "markdown",
   "metadata": {},
   "source": [
    "### Summarizing a DataFrame\n",
    "\n",
    "The last key idea that we will present here with a DataFrame is that of summarizing a DataFrame.  This generally take a DataFrame and finds mins/maxs/means, etc. \n",
    "\n",
    "The first way to do this is with the `describe` function that automatically finds the mean, min, median and max of each column.  the result is another DataFrame with each summarized column on a row. If we do this on the original `nba1960` DataFrame we get:"
   ]
  },
  {
   "cell_type": "code",
   "execution_count": 37,
   "metadata": {},
   "outputs": [
    {
     "data": {
      "text/html": [
       "<div><div style = \"float: left;\"><span>3×7 DataFrame</span></div><div style = \"clear: both;\"></div></div><div class = \"data-frame\" style = \"overflow-x: scroll;\"><table class = \"data-frame\" style = \"margin-bottom: 6px;\"><thead><tr class = \"header\"><th class = \"rowNumber\" style = \"font-weight: bold; text-align: right;\">Row</th><th style = \"text-align: left;\">variable</th><th style = \"text-align: left;\">mean</th><th style = \"text-align: left;\">min</th><th style = \"text-align: left;\">median</th><th style = \"text-align: left;\">max</th><th style = \"text-align: left;\">nmissing</th><th style = \"text-align: left;\">eltype</th></tr><tr class = \"subheader headerLastRow\"><th class = \"rowNumber\" style = \"font-weight: bold; text-align: right;\"></th><th title = \"Symbol\" style = \"text-align: left;\">Symbol</th><th title = \"Union{Nothing, Float64}\" style = \"text-align: left;\">Union…</th><th title = \"Any\" style = \"text-align: left;\">Any</th><th title = \"Union{Nothing, Float64}\" style = \"text-align: left;\">Union…</th><th title = \"Any\" style = \"text-align: left;\">Any</th><th title = \"Int64\" style = \"text-align: left;\">Int64</th><th title = \"DataType\" style = \"text-align: left;\">DataType</th></tr></thead><tbody><tr><td class = \"rowNumber\" style = \"font-weight: bold; text-align: right;\">1</td><td style = \"text-align: left;\">team</td><td style = \"font-style: italic; text-align: left;\"></td><td style = \"text-align: left;\">Boston Celtics</td><td style = \"font-style: italic; text-align: left;\"></td><td style = \"text-align: left;\">Syracuse Nationals</td><td style = \"text-align: right;\">0</td><td style = \"text-align: left;\">String</td></tr><tr><td class = \"rowNumber\" style = \"font-weight: bold; text-align: right;\">2</td><td style = \"text-align: left;\">W</td><td style = \"text-align: left;\">37.5</td><td style = \"text-align: left;\">19</td><td style = \"text-align: left;\">37.0</td><td style = \"text-align: left;\">59</td><td style = \"text-align: right;\">0</td><td style = \"text-align: left;\">Int64</td></tr><tr><td class = \"rowNumber\" style = \"font-weight: bold; text-align: right;\">3</td><td style = \"text-align: left;\">L</td><td style = \"text-align: left;\">37.5</td><td style = \"text-align: left;\">16</td><td style = \"text-align: left;\">38.0</td><td style = \"text-align: left;\">56</td><td style = \"text-align: right;\">0</td><td style = \"text-align: left;\">Int64</td></tr></tbody></table></div>"
      ],
      "text/latex": [
       "\\begin{tabular}{r|ccccccc}\n",
       "\t& variable & mean & min & median & max & nmissing & eltype\\\\\n",
       "\t\\hline\n",
       "\t& Symbol & Union… & Any & Union… & Any & Int64 & DataType\\\\\n",
       "\t\\hline\n",
       "\t1 & team &  & Boston Celtics &  & Syracuse Nationals & 0 & String \\\\\n",
       "\t2 & W & 37.5 & 19 & 37.0 & 59 & 0 & Int64 \\\\\n",
       "\t3 & L & 37.5 & 16 & 38.0 & 56 & 0 & Int64 \\\\\n",
       "\\end{tabular}\n"
      ],
      "text/plain": [
       "\u001b[1m3×7 DataFrame\u001b[0m\n",
       "\u001b[1m Row \u001b[0m│\u001b[1m variable \u001b[0m\u001b[1m mean   \u001b[0m\u001b[1m min            \u001b[0m\u001b[1m median \u001b[0m\u001b[1m max                \u001b[0m\u001b[1m nmissing \u001b[0m\u001b[1m\u001b[0m ⋯\n",
       "     │\u001b[90m Symbol   \u001b[0m\u001b[90m Union… \u001b[0m\u001b[90m Any            \u001b[0m\u001b[90m Union… \u001b[0m\u001b[90m Any                \u001b[0m\u001b[90m Int64    \u001b[0m\u001b[90m\u001b[0m ⋯\n",
       "─────┼──────────────────────────────────────────────────────────────────────────\n",
       "   1 │ team     \u001b[90m        \u001b[0m Boston Celtics \u001b[90m        \u001b[0m Syracuse Nationals         0  ⋯\n",
       "   2 │ W         37.5    19              37.0    59                         0\n",
       "   3 │ L         37.5    16              38.0    56                         0\n",
       "\u001b[36m                                                                1 column omitted\u001b[0m"
      ]
     },
     "execution_count": 37,
     "metadata": {},
     "output_type": "execute_result"
    }
   ],
   "source": [
    "describe(nba1960)"
   ]
  },
  {
   "cell_type": "markdown",
   "metadata": {},
   "source": [
    "Notice that the `team` column is a string and therefore numerical values like mean and median don't make sense, but `min` and `max` are listed lexicographically. \n",
    "\n",
    "We can also add `describe` to the end of a `@chain` like: "
   ]
  },
  {
   "cell_type": "code",
   "execution_count": 38,
   "metadata": {},
   "outputs": [
    {
     "data": {
      "text/html": [
       "<div><div style = \"float: left;\"><span>4×7 DataFrame</span></div><div style = \"clear: both;\"></div></div><div class = \"data-frame\" style = \"overflow-x: scroll;\"><table class = \"data-frame\" style = \"margin-bottom: 6px;\"><thead><tr class = \"header\"><th class = \"rowNumber\" style = \"font-weight: bold; text-align: right;\">Row</th><th style = \"text-align: left;\">variable</th><th style = \"text-align: left;\">mean</th><th style = \"text-align: left;\">min</th><th style = \"text-align: left;\">median</th><th style = \"text-align: left;\">max</th><th style = \"text-align: left;\">nmissing</th><th style = \"text-align: left;\">eltype</th></tr><tr class = \"subheader headerLastRow\"><th class = \"rowNumber\" style = \"font-weight: bold; text-align: right;\"></th><th title = \"Symbol\" style = \"text-align: left;\">Symbol</th><th title = \"Union{Nothing, Float64}\" style = \"text-align: left;\">Union…</th><th title = \"Any\" style = \"text-align: left;\">Any</th><th title = \"Union{Nothing, Float64}\" style = \"text-align: left;\">Union…</th><th title = \"Any\" style = \"text-align: left;\">Any</th><th title = \"Int64\" style = \"text-align: left;\">Int64</th><th title = \"DataType\" style = \"text-align: left;\">DataType</th></tr></thead><tbody><tr><td class = \"rowNumber\" style = \"font-weight: bold; text-align: right;\">1</td><td style = \"text-align: left;\">city</td><td style = \"font-style: italic; text-align: left;\"></td><td style = \"text-align: left;\">Boston</td><td style = \"font-style: italic; text-align: left;\"></td><td style = \"text-align: left;\">Syracuse</td><td style = \"text-align: right;\">0</td><td style = \"text-align: left;\">String</td></tr><tr><td class = \"rowNumber\" style = \"font-weight: bold; text-align: right;\">2</td><td style = \"text-align: left;\">nickname</td><td style = \"font-style: italic; text-align: left;\"></td><td style = \"text-align: left;\">Celtics</td><td style = \"font-style: italic; text-align: left;\"></td><td style = \"text-align: left;\">Warriors</td><td style = \"text-align: right;\">0</td><td style = \"text-align: left;\">SubString{String}</td></tr><tr><td class = \"rowNumber\" style = \"font-weight: bold; text-align: right;\">3</td><td style = \"text-align: left;\">W</td><td style = \"text-align: left;\">37.5</td><td style = \"text-align: left;\">19</td><td style = \"text-align: left;\">37.0</td><td style = \"text-align: left;\">59</td><td style = \"text-align: right;\">0</td><td style = \"text-align: left;\">Int64</td></tr><tr><td class = \"rowNumber\" style = \"font-weight: bold; text-align: right;\">4</td><td style = \"text-align: left;\">L</td><td style = \"text-align: left;\">37.5</td><td style = \"text-align: left;\">16</td><td style = \"text-align: left;\">38.0</td><td style = \"text-align: left;\">56</td><td style = \"text-align: right;\">0</td><td style = \"text-align: left;\">Int64</td></tr></tbody></table></div>"
      ],
      "text/latex": [
       "\\begin{tabular}{r|ccccccc}\n",
       "\t& variable & mean & min & median & max & nmissing & eltype\\\\\n",
       "\t\\hline\n",
       "\t& Symbol & Union… & Any & Union… & Any & Int64 & DataType\\\\\n",
       "\t\\hline\n",
       "\t1 & city &  & Boston &  & Syracuse & 0 & String \\\\\n",
       "\t2 & nickname &  & Celtics &  & Warriors & 0 & SubString\\{String\\} \\\\\n",
       "\t3 & W & 37.5 & 19 & 37.0 & 59 & 0 & Int64 \\\\\n",
       "\t4 & L & 37.5 & 16 & 38.0 & 56 & 0 & Int64 \\\\\n",
       "\\end{tabular}\n"
      ],
      "text/plain": [
       "\u001b[1m4×7 DataFrame\u001b[0m\n",
       "\u001b[1m Row \u001b[0m│\u001b[1m variable \u001b[0m\u001b[1m mean   \u001b[0m\u001b[1m min     \u001b[0m\u001b[1m median \u001b[0m\u001b[1m max      \u001b[0m\u001b[1m nmissing \u001b[0m\u001b[1m eltype          \u001b[0m ⋯\n",
       "     │\u001b[90m Symbol   \u001b[0m\u001b[90m Union… \u001b[0m\u001b[90m Any     \u001b[0m\u001b[90m Union… \u001b[0m\u001b[90m Any      \u001b[0m\u001b[90m Int64    \u001b[0m\u001b[90m DataType        \u001b[0m ⋯\n",
       "─────┼──────────────────────────────────────────────────────────────────────────\n",
       "   1 │ city     \u001b[90m        \u001b[0m Boston  \u001b[90m        \u001b[0m Syracuse         0  String           ⋯\n",
       "   2 │ nickname \u001b[90m        \u001b[0m Celtics \u001b[90m        \u001b[0m Warriors         0  SubString{String\n",
       "   3 │ W         37.5    19       37.0    59               0  Int64\n",
       "   4 │ L         37.5    16       38.0    56               0  Int64\n",
       "\u001b[36m                                                                1 column omitted\u001b[0m"
      ]
     },
     "execution_count": 38,
     "metadata": {},
     "output_type": "execute_result"
    }
   ],
   "source": [
    "@chain nba1960 begin\n",
    "  transform(:team =>ByRow(t->(city = join(split(t,\" \")[1:end-1],\" \"), nickname = last(split(t,\" \")))) => AsTable)\n",
    "  select(:city, :nickname, :W, :L)\n",
    "  describe()\n",
    "end"
   ]
  },
  {
   "cell_type": "markdown",
   "metadata": {},
   "source": [
    "We can also summarize in a more custom way with the `combine` function.  We can summarize the original `nba1960` DataFrame by including the first and 3rd quartile using the `quantile` function, which is defined in the `Statistics` package that we load with:"
   ]
  },
  {
   "cell_type": "code",
   "execution_count": 25,
   "metadata": {},
   "outputs": [],
   "source": [
    "using Statistics"
   ]
  },
  {
   "cell_type": "markdown",
   "metadata": {},
   "source": [
    "The following will do some summarizing of the wins and losse, by finding the quartiles and medians of the wins and losses."
   ]
  },
  {
   "cell_type": "code",
   "execution_count": 40,
   "metadata": {},
   "outputs": [
    {
     "data": {
      "text/html": [
       "<div><div style = \"float: left;\"><span>1×6 DataFrame</span></div><div style = \"clear: both;\"></div></div><div class = \"data-frame\" style = \"overflow-x: scroll;\"><table class = \"data-frame\" style = \"margin-bottom: 6px;\"><thead><tr class = \"header\"><th class = \"rowNumber\" style = \"font-weight: bold; text-align: right;\">Row</th><th style = \"text-align: left;\">W_Q1</th><th style = \"text-align: left;\">W_median</th><th style = \"text-align: left;\">W_Q3</th><th style = \"text-align: left;\">L_Q1</th><th style = \"text-align: left;\">L_median</th><th style = \"text-align: left;\">L_Q3</th></tr><tr class = \"subheader headerLastRow\"><th class = \"rowNumber\" style = \"font-weight: bold; text-align: right;\"></th><th title = \"Float64\" style = \"text-align: left;\">Float64</th><th title = \"Float64\" style = \"text-align: left;\">Float64</th><th title = \"Float64\" style = \"text-align: left;\">Float64</th><th title = \"Float64\" style = \"text-align: left;\">Float64</th><th title = \"Float64\" style = \"text-align: left;\">Float64</th><th title = \"Float64\" style = \"text-align: left;\">Float64</th></tr></thead><tbody><tr><td class = \"rowNumber\" style = \"font-weight: bold; text-align: right;\">1</td><td style = \"text-align: right;\">26.75</td><td style = \"text-align: right;\">37.0</td><td style = \"text-align: right;\">46.75</td><td style = \"text-align: right;\">28.25</td><td style = \"text-align: right;\">38.0</td><td style = \"text-align: right;\">48.25</td></tr></tbody></table></div>"
      ],
      "text/latex": [
       "\\begin{tabular}{r|cccccc}\n",
       "\t& W\\_Q1 & W\\_median & W\\_Q3 & L\\_Q1 & L\\_median & L\\_Q3\\\\\n",
       "\t\\hline\n",
       "\t& Float64 & Float64 & Float64 & Float64 & Float64 & Float64\\\\\n",
       "\t\\hline\n",
       "\t1 & 26.75 & 37.0 & 46.75 & 28.25 & 38.0 & 48.25 \\\\\n",
       "\\end{tabular}\n"
      ],
      "text/plain": [
       "\u001b[1m1×6 DataFrame\u001b[0m\n",
       "\u001b[1m Row \u001b[0m│\u001b[1m W_Q1    \u001b[0m\u001b[1m W_median \u001b[0m\u001b[1m W_Q3    \u001b[0m\u001b[1m L_Q1    \u001b[0m\u001b[1m L_median \u001b[0m\u001b[1m L_Q3    \u001b[0m\n",
       "     │\u001b[90m Float64 \u001b[0m\u001b[90m Float64  \u001b[0m\u001b[90m Float64 \u001b[0m\u001b[90m Float64 \u001b[0m\u001b[90m Float64  \u001b[0m\u001b[90m Float64 \u001b[0m\n",
       "─────┼────────────────────────────────────────────────────────\n",
       "   1 │   26.75      37.0    46.75    28.25      38.0    48.25"
      ]
     },
     "execution_count": 40,
     "metadata": {},
     "output_type": "execute_result"
    }
   ],
   "source": [
    "@chain nba1960 begin\n",
    "  combine(\n",
    "    :W => (w->quantile(w,0.25)) => :W_Q1, \n",
    "    :W => (w->quantile(w,0.50)) => :W_median,\n",
    "    :W => (w->quantile(w,0.75)) => :W_Q3,\n",
    "    :L => (l->quantile(l,0.25)) => :L_Q1, \n",
    "    :L => (l->quantile(l,0.50)) => :L_median,\n",
    "    :L => (l->quantile(l,0.75)) => :L_Q3 \n",
    "  )\n",
    "end"
   ]
  },
  {
   "cell_type": "markdown",
   "metadata": {},
   "source": [
    "In terms of syntax, there is just one combine function, since we want all of the summarized variables in the same resultant dataframe. Also, each of the summarized variables are put on their own line for readability--they could be on a single line.\n",
    "\n",
    "We could also add the `combine` to the end of a number of `@chain` such as"
   ]
  },
  {
   "cell_type": "code",
   "execution_count": 27,
   "metadata": {},
   "outputs": [
    {
     "data": {
      "text/html": [
       "<div><div style = \"float: left;\"><span>1×8 DataFrame</span></div><div style = \"clear: both;\"></div></div><div class = \"data-frame\" style = \"overflow-x: scroll;\"><table class = \"data-frame\" style = \"margin-bottom: 6px;\"><thead><tr class = \"header\"><th class = \"rowNumber\" style = \"font-weight: bold; text-align: right;\">Row</th><th style = \"text-align: left;\">W_Q1</th><th style = \"text-align: left;\">W_median</th><th style = \"text-align: left;\">W_Q3</th><th style = \"text-align: left;\">L_Q1</th><th style = \"text-align: left;\">L_median</th><th style = \"text-align: left;\">L_Q3</th><th style = \"text-align: left;\">city_length_mean</th><th style = \"text-align: left;\">nrow</th></tr><tr class = \"subheader headerLastRow\"><th class = \"rowNumber\" style = \"font-weight: bold; text-align: right;\"></th><th title = \"Float64\" style = \"text-align: left;\">Float64</th><th title = \"Float64\" style = \"text-align: left;\">Float64</th><th title = \"Float64\" style = \"text-align: left;\">Float64</th><th title = \"Float64\" style = \"text-align: left;\">Float64</th><th title = \"Float64\" style = \"text-align: left;\">Float64</th><th title = \"Float64\" style = \"text-align: left;\">Float64</th><th title = \"Float64\" style = \"text-align: left;\">Float64</th><th title = \"Int64\" style = \"text-align: left;\">Int64</th></tr></thead><tbody><tr><td class = \"rowNumber\" style = \"font-weight: bold; text-align: right;\">1</td><td style = \"text-align: right;\">26.75</td><td style = \"text-align: right;\">37.0</td><td style = \"text-align: right;\">46.75</td><td style = \"text-align: right;\">28.25</td><td style = \"text-align: right;\">38.0</td><td style = \"text-align: right;\">48.25</td><td style = \"text-align: right;\">8.875</td><td style = \"text-align: right;\">8</td></tr></tbody></table></div>"
      ],
      "text/latex": [
       "\\begin{tabular}{r|cccccccc}\n",
       "\t& W\\_Q1 & W\\_median & W\\_Q3 & L\\_Q1 & L\\_median & L\\_Q3 & city\\_length\\_mean & nrow\\\\\n",
       "\t\\hline\n",
       "\t& Float64 & Float64 & Float64 & Float64 & Float64 & Float64 & Float64 & Int64\\\\\n",
       "\t\\hline\n",
       "\t1 & 26.75 & 37.0 & 46.75 & 28.25 & 38.0 & 48.25 & 8.875 & 8 \\\\\n",
       "\\end{tabular}\n"
      ],
      "text/plain": [
       "\u001b[1m1×8 DataFrame\u001b[0m\n",
       "\u001b[1m Row \u001b[0m│\u001b[1m W_Q1    \u001b[0m\u001b[1m W_median \u001b[0m\u001b[1m W_Q3    \u001b[0m\u001b[1m L_Q1    \u001b[0m\u001b[1m L_median \u001b[0m\u001b[1m L_Q3    \u001b[0m\u001b[1m city_length_mea\u001b[0m ⋯\n",
       "     │\u001b[90m Float64 \u001b[0m\u001b[90m Float64  \u001b[0m\u001b[90m Float64 \u001b[0m\u001b[90m Float64 \u001b[0m\u001b[90m Float64  \u001b[0m\u001b[90m Float64 \u001b[0m\u001b[90m Float64        \u001b[0m ⋯\n",
       "─────┼──────────────────────────────────────────────────────────────────────────\n",
       "   1 │   26.75      37.0    46.75    28.25      38.0    48.25             8.87 ⋯\n",
       "\u001b[36m                                                               2 columns omitted\u001b[0m"
      ]
     },
     "execution_count": 41,
     "metadata": {},
     "output_type": "execute_result"
    }
   ],
   "source": [
    "@chain nba1960 begin\n",
    "  transform(:team =>ByRow(t->(city = join(split(t,\" \")[1:end-1],\" \"), nickname = last(split(t,\" \")))) => AsTable)\n",
    "  select(:city, :nickname, :W, :L)\n",
    "  combine(\n",
    "    :W => (w->quantile(w,0.25)) => :W_Q1, \n",
    "    :W => (w->quantile(w,0.50)) => :W_median,\n",
    "    :W => (w->quantile(w,0.75)) => :W_Q3,\n",
    "    :L => (l->quantile(l,0.25)) => :L_Q1, \n",
    "    :L => (l->quantile(l,0.50)) => :L_median,\n",
    "    :L => (l->quantile(l,0.75)) => :L_Q3,\n",
    "    :city => (c->mean(length.(c))) => :city_length_mean,\n",
    "    nrow\n",
    "  )\n",
    "end"
   ]
  },
  {
   "cell_type": "markdown",
   "metadata": {},
   "source": [
    "where the mean length of the city is given. One needs to be careful with this.  We need to broadcast the `length` function to get the number of characters in each city.  We then take the mean of this vector.  If you drop the `.` from the `length`, then one will get 8 just because there are 8 rows in this data set. \n",
    "\n",
    "Also, we have added the `nrow` to the `combine` which just lists the number of rows in the dataset. "
   ]
  },
  {
   "cell_type": "markdown",
   "metadata": {},
   "source": [
    "### More about DataFrames\n",
    "\n",
    "This just touches the tip of the iceberg of the `DataFrames` module.  You should take a look at the [standard documentation](https://dataframes.juliadata.org/stable/) or there are many good YouTube videos, especially those from Bogumił Kamiński, one of the main contributor to `DataFrames.jl`. A recent deep dive was [given at JuliaCon 2022](https://www.youtube.com/watch?v=SXF4BawX-hs)"
   ]
  }
 ],
 "metadata": {
  "kernelspec": {
   "display_name": "Julia 1.9.0-beta3",
   "language": "julia",
   "name": "julia-1.9"
  },
  "language_info": {
   "file_extension": ".jl",
   "mimetype": "application/julia",
   "name": "julia",
   "version": "1.9.0"
  }
 },
 "nbformat": 4,
 "nbformat_minor": 4
}
