{
 "cells": [
  {
   "cell_type": "markdown",
   "id": "14d45bff-a7c5-473a-9ad5-fbb69464a779",
   "metadata": {},
   "source": [
    "# The Data\n",
    "\n",
    "This notebook explains the data for this project.  All NBA games from 1951 to 2020.  For each game, the score of each team, the home/away teams, the number of overtimes and whether or not it was a playoff game.  There are 63,863 games collected.  \n",
    "\n",
    "## Source of the Data\n",
    "\n",
    "All of the game data was collected from [basketball-reference.com](https://www.basketball-reference.com). Because these are in nested webpages, a script was built to scrape the website and download the data. \n",
    "\n",
    "### The Script\n",
    "\n",
    "The available julia script `parse-NBA-data.jl` was written to aid in the collection.  This script has a number of options, but in short fetches data for a given span of years and then either writes the data to a sqlite database (recommended) or to CSV files.  Here are the options on the script\n",
    "\n",
    "```\n",
    "USAGE: julia parse-NBA-data.jl [--help] \n",
    "\n",
    "    --create-csv:\n",
    "        Rebuild the CSV files\n",
    "\n",
    "    --csv-dir: String\n",
    "        Directory to store the CSV files\n",
    "\n",
    "    --db-name: String\n",
    "        Database file name\n",
    "\n",
    "    --html-dir: String\n",
    "        Directory where the raw HTML files are.\n",
    "\n",
    "    --rebuild-db:\n",
    "        rebuild the SQLite database\n",
    "\n",
    "    --verbose:\n",
    "        Turn on verbosity\n",
    "\n",
    "    --years: [Ints]\n",
    "        Years for the rebuild\n",
    "```\n",
    "\n",
    "#### Working with a script\n",
    "\n",
    "If you haven't done much with any kind of script, you'll need to open a terminal window (Terminal on MacOS or PowerShell on Windows).  If you are running jupyter lab, you can access one of these by clicking the launcher (+ button in the upper left corner) then select \"terminal\" on the lower row of buttons. \n",
    "\n",
    "You should see a prompt.  An example on MacOS is:\n",
    "```\n",
    "➜  bb-streaks git:(main) ✗  \n",
    "```\n",
    "\n",
    "Hopefully the launcher puts you in the correct directory. For all of these scripts you should be in the top of the `bb-streaks` directory.  If not you may need to change directory (`cd`) to the correct directory. \n",
    "\n",
    "\n",
    "#### Fetching the Data\n",
    "\n",
    "To fetch the data for some given years (1960 to 1969) and store into the folder `nba-raw-html`, \n",
    "```bash\n",
    "julia parse-NBA-data.jl --verbose --html-dir=nba-raw-html --years=1960..1969 --fetch-data\n",
    "```\n",
    "\n",
    "This will take a bit of time mainly due to internet connection speed.  Also, the site `basketball-reference.com` has a limit of number of requests made.  From practice you can download about 5-10 years of data before you get an error.  It appears that you'll need to wait another to download another batch. \n",
    "\n",
    "\n",
    "#### Putting the data into CSV files\n",
    "\n",
    "In order to effectively use the data, the data must be converted from HTML files to either CSV files or to a sqlite database (recommended).  Running scripts will be faster using the latter method.  The advantage to the CSV files is that they can be examined using any text editor or spreadsheet programs like Microsoft Excel. \n",
    "\n",
    "To create CSV files for the 1955 to 2020 seasons and place the results in the directory `nba_csv`, enter\n",
    "```bash\n",
    "julia parse-NBA-data.pl --verbose --html-dir=nba-raw-html --years=1955..2020 --create_csv --csv_dir=nba_csv\n",
    "```\n",
    "\n",
    "This requires that all of the data is in the directory `nba-raw-html` or you will get an error. \n",
    "\n",
    "#### Putting the data into a database\n",
    "\n",
    "An alternative to putting the data into CSV files, you can put all of the data in a database and this script uses a SQLite database.  Note: you will need to download the freely available `sqlite` for your platform. \n",
    "\n",
    "To put all seasons 1955 to 2020 into the database stored as `nba.sqlite`, enter\n",
    "```bash\n",
    "julia parse-nba-data.jl --verbose --rebuild-db --database-name=nba.sqlite --html-dir nba-raw-html-new --years=1955..2020\n",
    "```\n",
    "\n",
    "This takes about 15 minutes or so to run completely.  It is parsing hundreds of HTML files which is not a trivial thing to do and then puts the data into a database. \n",
    "\n",
    "Note: although it is a little more complicated to use a database, it is recommended in that the desired data can be easily pulled out of the database.  Also, there are functions to do this in the `NBA.jl` module, and another notebook is provided to explain those functions."
   ]
  },
  {
   "cell_type": "markdown",
   "id": "416d7b12-a7f3-478b-8c86-c776cbb56a15",
   "metadata": {},
   "source": [
    "### Using CSV files\n",
    "\n",
    "To load in a CSV file, you'll need to load the `CSV` package (and may need to install it if you get an error).  We'll use the `DataFrames` and `Chain` packages as well.  You should also read the `getting_started` notebook before this.\n",
    "\n",
    "Note, the `ENV[\"DATAFRAMES_ROWS\"]=10` tells julia to just show 10 rows of a dataframe."
   ]
  },
  {
   "cell_type": "code",
   "execution_count": 1,
   "id": "45e18aba-0310-4cae-8094-15cfc0b08482",
   "metadata": {},
   "outputs": [
    {
     "data": {
      "text/plain": [
       "10"
      ]
     },
     "execution_count": 1,
     "metadata": {},
     "output_type": "execute_result"
    }
   ],
   "source": [
    "using CSV, DataFrames, Chain\n",
    "ENV[\"DATAFRAMES_ROWS\"] = 10"
   ]
  },
  {
   "cell_type": "markdown",
   "id": "588523a9-d722-4281-8877-51a6578aca58",
   "metadata": {},
   "source": [
    "And then the following reads in a file and outputs it as a `DataFrame`.  This is the entire 2020 season.  Note: relative to this jupyter notebook, the data is up a directory (..) and then in the `nba_csv` directory. "
   ]
  },
  {
   "cell_type": "code",
   "execution_count": 4,
   "id": "964d2937-1dab-4416-8c72-95931198dbf1",
   "metadata": {},
   "outputs": [
    {
     "data": {
      "text/html": [
       "<div><div style = \"float: left;\"><span>1143×8 DataFrame</span></div><div style = \"float: right;\"><span style = \"font-style: italic;\">1133 rows omitted</span></div><div style = \"clear: both;\"></div></div><div class = \"data-frame\" style = \"overflow-x: scroll;\"><table class = \"data-frame\" style = \"margin-bottom: 6px;\"><thead><tr class = \"header\"><th class = \"rowNumber\" style = \"font-weight: bold; text-align: right;\">Row</th><th style = \"text-align: left;\">DATE</th><th style = \"text-align: left;\">SEASON</th><th style = \"text-align: left;\">VISITOR_TEAM</th><th style = \"text-align: left;\">VISITOR_SCORE</th><th style = \"text-align: left;\">HOME_TEAM</th><th style = \"text-align: left;\">HOME_SCORE</th><th style = \"text-align: left;\">OTS</th><th style = \"text-align: left;\">PLAYOFF</th></tr><tr class = \"subheader headerLastRow\"><th class = \"rowNumber\" style = \"font-weight: bold; text-align: right;\"></th><th title = \"Dates.Date\" style = \"text-align: left;\">Date</th><th title = \"Int64\" style = \"text-align: left;\">Int64</th><th title = \"String31\" style = \"text-align: left;\">String31</th><th title = \"Int64\" style = \"text-align: left;\">Int64</th><th title = \"String31\" style = \"text-align: left;\">String31</th><th title = \"Int64\" style = \"text-align: left;\">Int64</th><th title = \"Int64\" style = \"text-align: left;\">Int64</th><th title = \"String1\" style = \"text-align: left;\">String1</th></tr></thead><tbody><tr><td class = \"rowNumber\" style = \"font-weight: bold; text-align: right;\">1</td><td style = \"text-align: left;\">2019-10-22</td><td style = \"text-align: right;\">2020</td><td style = \"text-align: left;\">New Orleans Pelicans</td><td style = \"text-align: right;\">122</td><td style = \"text-align: left;\">Toronto Raptors</td><td style = \"text-align: right;\">130</td><td style = \"text-align: right;\">1</td><td style = \"text-align: left;\">N</td></tr><tr><td class = \"rowNumber\" style = \"font-weight: bold; text-align: right;\">2</td><td style = \"text-align: left;\">2019-10-22</td><td style = \"text-align: right;\">2020</td><td style = \"text-align: left;\">Los Angeles Lakers</td><td style = \"text-align: right;\">102</td><td style = \"text-align: left;\">Los Angeles Clippers</td><td style = \"text-align: right;\">112</td><td style = \"text-align: right;\">0</td><td style = \"text-align: left;\">N</td></tr><tr><td class = \"rowNumber\" style = \"font-weight: bold; text-align: right;\">3</td><td style = \"text-align: left;\">2019-10-23</td><td style = \"text-align: right;\">2020</td><td style = \"text-align: left;\">Chicago Bulls</td><td style = \"text-align: right;\">125</td><td style = \"text-align: left;\">Charlotte Hornets</td><td style = \"text-align: right;\">126</td><td style = \"text-align: right;\">0</td><td style = \"text-align: left;\">N</td></tr><tr><td class = \"rowNumber\" style = \"font-weight: bold; text-align: right;\">4</td><td style = \"text-align: left;\">2019-10-23</td><td style = \"text-align: right;\">2020</td><td style = \"text-align: left;\">Detroit Pistons</td><td style = \"text-align: right;\">119</td><td style = \"text-align: left;\">Indiana Pacers</td><td style = \"text-align: right;\">110</td><td style = \"text-align: right;\">0</td><td style = \"text-align: left;\">N</td></tr><tr><td class = \"rowNumber\" style = \"font-weight: bold; text-align: right;\">5</td><td style = \"text-align: left;\">2019-10-23</td><td style = \"text-align: right;\">2020</td><td style = \"text-align: left;\">Cleveland Cavaliers</td><td style = \"text-align: right;\">85</td><td style = \"text-align: left;\">Orlando Magic</td><td style = \"text-align: right;\">94</td><td style = \"text-align: right;\">0</td><td style = \"text-align: left;\">N</td></tr><tr><td style = \"text-align: right;\">&vellip;</td><td style = \"text-align: right;\">&vellip;</td><td style = \"text-align: right;\">&vellip;</td><td style = \"text-align: right;\">&vellip;</td><td style = \"text-align: right;\">&vellip;</td><td style = \"text-align: right;\">&vellip;</td><td style = \"text-align: right;\">&vellip;</td><td style = \"text-align: right;\">&vellip;</td><td style = \"text-align: right;\">&vellip;</td></tr><tr><td class = \"rowNumber\" style = \"font-weight: bold; text-align: right;\">1139</td><td style = \"text-align: left;\">2020-10-02</td><td style = \"text-align: right;\">2020</td><td style = \"text-align: left;\">Miami Heat</td><td style = \"text-align: right;\">114</td><td style = \"text-align: left;\">Los Angeles Lakers</td><td style = \"text-align: right;\">124</td><td style = \"text-align: right;\">0</td><td style = \"text-align: left;\">Y</td></tr><tr><td class = \"rowNumber\" style = \"font-weight: bold; text-align: right;\">1140</td><td style = \"text-align: left;\">2020-10-04</td><td style = \"text-align: right;\">2020</td><td style = \"text-align: left;\">Los Angeles Lakers</td><td style = \"text-align: right;\">104</td><td style = \"text-align: left;\">Miami Heat</td><td style = \"text-align: right;\">115</td><td style = \"text-align: right;\">0</td><td style = \"text-align: left;\">Y</td></tr><tr><td class = \"rowNumber\" style = \"font-weight: bold; text-align: right;\">1141</td><td style = \"text-align: left;\">2020-10-06</td><td style = \"text-align: right;\">2020</td><td style = \"text-align: left;\">Los Angeles Lakers</td><td style = \"text-align: right;\">102</td><td style = \"text-align: left;\">Miami Heat</td><td style = \"text-align: right;\">96</td><td style = \"text-align: right;\">0</td><td style = \"text-align: left;\">Y</td></tr><tr><td class = \"rowNumber\" style = \"font-weight: bold; text-align: right;\">1142</td><td style = \"text-align: left;\">2020-10-09</td><td style = \"text-align: right;\">2020</td><td style = \"text-align: left;\">Miami Heat</td><td style = \"text-align: right;\">111</td><td style = \"text-align: left;\">Los Angeles Lakers</td><td style = \"text-align: right;\">108</td><td style = \"text-align: right;\">0</td><td style = \"text-align: left;\">Y</td></tr><tr><td class = \"rowNumber\" style = \"font-weight: bold; text-align: right;\">1143</td><td style = \"text-align: left;\">2020-10-11</td><td style = \"text-align: right;\">2020</td><td style = \"text-align: left;\">Los Angeles Lakers</td><td style = \"text-align: right;\">106</td><td style = \"text-align: left;\">Miami Heat</td><td style = \"text-align: right;\">93</td><td style = \"text-align: right;\">0</td><td style = \"text-align: left;\">Y</td></tr></tbody></table></div>"
      ],
      "text/latex": [
       "\\begin{tabular}{r|cccccc}\n",
       "\t& DATE & SEASON & VISITOR\\_TEAM & VISITOR\\_SCORE & HOME\\_TEAM & \\\\\n",
       "\t\\hline\n",
       "\t& Date & Int64 & String31 & Int64 & String31 & \\\\\n",
       "\t\\hline\n",
       "\t1 & 2019-10-22 & 2020 & New Orleans Pelicans & 122 & Toronto Raptors & $\\dots$ \\\\\n",
       "\t2 & 2019-10-22 & 2020 & Los Angeles Lakers & 102 & Los Angeles Clippers & $\\dots$ \\\\\n",
       "\t3 & 2019-10-23 & 2020 & Chicago Bulls & 125 & Charlotte Hornets & $\\dots$ \\\\\n",
       "\t4 & 2019-10-23 & 2020 & Detroit Pistons & 119 & Indiana Pacers & $\\dots$ \\\\\n",
       "\t5 & 2019-10-23 & 2020 & Cleveland Cavaliers & 85 & Orlando Magic & $\\dots$ \\\\\n",
       "\t6 & 2019-10-23 & 2020 & Minnesota Timberwolves & 127 & Brooklyn Nets & $\\dots$ \\\\\n",
       "\t7 & 2019-10-23 & 2020 & Memphis Grizzlies & 101 & Miami Heat & $\\dots$ \\\\\n",
       "\t8 & 2019-10-23 & 2020 & Boston Celtics & 93 & Philadelphia 76ers & $\\dots$ \\\\\n",
       "\t9 & 2019-10-23 & 2020 & Washington Wizards & 100 & Dallas Mavericks & $\\dots$ \\\\\n",
       "\t10 & 2019-10-23 & 2020 & New York Knicks & 111 & San Antonio Spurs & $\\dots$ \\\\\n",
       "\t11 & 2019-10-23 & 2020 & Oklahoma City Thunder & 95 & Utah Jazz & $\\dots$ \\\\\n",
       "\t12 & 2019-10-23 & 2020 & Sacramento Kings & 95 & Phoenix Suns & $\\dots$ \\\\\n",
       "\t13 & 2019-10-23 & 2020 & Denver Nuggets & 108 & Portland Trail Blazers & $\\dots$ \\\\\n",
       "\t14 & 2019-10-24 & 2020 & Atlanta Hawks & 117 & Detroit Pistons & $\\dots$ \\\\\n",
       "\t15 & 2019-10-24 & 2020 & Milwaukee Bucks & 117 & Houston Rockets & $\\dots$ \\\\\n",
       "\t16 & 2019-10-24 & 2020 & Los Angeles Clippers & 141 & Golden State Warriors & $\\dots$ \\\\\n",
       "\t17 & 2019-10-25 & 2020 & Toronto Raptors & 106 & Boston Celtics & $\\dots$ \\\\\n",
       "\t18 & 2019-10-25 & 2020 & Minnesota Timberwolves & 121 & Charlotte Hornets & $\\dots$ \\\\\n",
       "\t19 & 2019-10-25 & 2020 & New York Knicks & 109 & Brooklyn Nets & $\\dots$ \\\\\n",
       "\t20 & 2019-10-25 & 2020 & Chicago Bulls & 110 & Memphis Grizzlies & $\\dots$ \\\\\n",
       "\t21 & 2019-10-25 & 2020 & Dallas Mavericks & 123 & New Orleans Pelicans & $\\dots$ \\\\\n",
       "\t22 & 2019-10-25 & 2020 & Washington Wizards & 97 & Oklahoma City Thunder & $\\dots$ \\\\\n",
       "\t23 & 2019-10-25 & 2020 & Phoenix Suns & 107 & Denver Nuggets & $\\dots$ \\\\\n",
       "\t24 & 2019-10-25 & 2020 & Portland Trail Blazers & 122 & Sacramento Kings & $\\dots$ \\\\\n",
       "\t25 & 2019-10-25 & 2020 & Utah Jazz & 86 & Los Angeles Lakers & $\\dots$ \\\\\n",
       "\t26 & 2019-10-26 & 2020 & Miami Heat & 131 & Milwaukee Bucks & $\\dots$ \\\\\n",
       "\t27 & 2019-10-26 & 2020 & Philadelphia 76ers & 117 & Detroit Pistons & $\\dots$ \\\\\n",
       "\t28 & 2019-10-26 & 2020 & Orlando Magic & 99 & Atlanta Hawks & $\\dots$ \\\\\n",
       "\t29 & 2019-10-26 & 2020 & Boston Celtics & 118 & New York Knicks & $\\dots$ \\\\\n",
       "\t30 & 2019-10-26 & 2020 & Toronto Raptors & 108 & Chicago Bulls & $\\dots$ \\\\\n",
       "\t$\\dots$ & $\\dots$ & $\\dots$ & $\\dots$ & $\\dots$ & $\\dots$ &  \\\\\n",
       "\\end{tabular}\n"
      ],
      "text/plain": [
       "\u001b[1m1143×8 DataFrame\u001b[0m\n",
       "\u001b[1m  Row \u001b[0m│\u001b[1m DATE       \u001b[0m\u001b[1m SEASON \u001b[0m\u001b[1m VISITOR_TEAM           \u001b[0m\u001b[1m VISITOR_SCORE \u001b[0m\u001b[1m HOME_TEAM  \u001b[0m ⋯\n",
       "      │\u001b[90m Date       \u001b[0m\u001b[90m Int64  \u001b[0m\u001b[90m String31               \u001b[0m\u001b[90m Int64         \u001b[0m\u001b[90m String31   \u001b[0m ⋯\n",
       "──────┼─────────────────────────────────────────────────────────────────────────\n",
       "    1 │ 2019-10-22    2020  New Orleans Pelicans              122  Toronto Rap ⋯\n",
       "    2 │ 2019-10-22    2020  Los Angeles Lakers                102  Los Angeles\n",
       "    3 │ 2019-10-23    2020  Chicago Bulls                     125  Charlotte H\n",
       "    4 │ 2019-10-23    2020  Detroit Pistons                   119  Indiana Pac\n",
       "    5 │ 2019-10-23    2020  Cleveland Cavaliers                85  Orlando Mag ⋯\n",
       "    6 │ 2019-10-23    2020  Minnesota Timberwolves            127  Brooklyn Ne\n",
       "    7 │ 2019-10-23    2020  Memphis Grizzlies                 101  Miami Heat\n",
       "    8 │ 2019-10-23    2020  Boston Celtics                     93  Philadelphi\n",
       "    9 │ 2019-10-23    2020  Washington Wizards                100  Dallas Mave ⋯\n",
       "   10 │ 2019-10-23    2020  New York Knicks                   111  San Antonio\n",
       "   11 │ 2019-10-23    2020  Oklahoma City Thunder              95  Utah Jazz\n",
       "  ⋮   │     ⋮         ⋮               ⋮                   ⋮                  ⋮ ⋱\n",
       " 1134 │ 2020-09-24    2020  Los Angeles Lakers                114  Denver Nugg\n",
       " 1135 │ 2020-09-25    2020  Miami Heat                        108  Boston Celt ⋯\n",
       " 1136 │ 2020-09-26    2020  Denver Nuggets                    107  Los Angeles\n",
       " 1137 │ 2020-09-27    2020  Boston Celtics                    113  Miami Heat\n",
       " 1138 │ 2020-09-30    2020  Miami Heat                         98  Los Angeles\n",
       " 1139 │ 2020-10-02    2020  Miami Heat                        114  Los Angeles ⋯\n",
       " 1140 │ 2020-10-04    2020  Los Angeles Lakers                104  Miami Heat\n",
       " 1141 │ 2020-10-06    2020  Los Angeles Lakers                102  Miami Heat\n",
       " 1142 │ 2020-10-09    2020  Miami Heat                        111  Los Angeles\n",
       " 1143 │ 2020-10-11    2020  Los Angeles Lakers                106  Miami Heat  ⋯\n",
       "\u001b[36m                                                 4 columns and 1122 rows omitted\u001b[0m"
      ]
     },
     "execution_count": 4,
     "metadata": {},
     "output_type": "execute_result"
    }
   ],
   "source": [
    "nba2020 = CSV.read(\"../nba_csv/2020.csv\", DataFrame)"
   ]
  },
  {
   "cell_type": "markdown",
   "id": "519b13c6-b977-410e-9022-9191b95dd027",
   "metadata": {},
   "source": [
    "If we want the regular season for one team, we will filter with the subset function (See the `getting_started` notebook for more explanation):"
   ]
  },
  {
   "cell_type": "code",
   "execution_count": 7,
   "id": "8dfaa5a4-1dc5-4575-adde-a022483810cb",
   "metadata": {},
   "outputs": [
    {
     "data": {
      "text/html": [
       "<div><div style = \"float: left;\"><span>73×8 DataFrame</span></div><div style = \"float: right;\"><span style = \"font-style: italic;\">63 rows omitted</span></div><div style = \"clear: both;\"></div></div><div class = \"data-frame\" style = \"overflow-x: scroll;\"><table class = \"data-frame\" style = \"margin-bottom: 6px;\"><thead><tr class = \"header\"><th class = \"rowNumber\" style = \"font-weight: bold; text-align: right;\">Row</th><th style = \"text-align: left;\">DATE</th><th style = \"text-align: left;\">SEASON</th><th style = \"text-align: left;\">VISITOR_TEAM</th><th style = \"text-align: left;\">VISITOR_SCORE</th><th style = \"text-align: left;\">HOME_TEAM</th><th style = \"text-align: left;\">HOME_SCORE</th><th style = \"text-align: left;\">OTS</th><th style = \"text-align: left;\">PLAYOFF</th></tr><tr class = \"subheader headerLastRow\"><th class = \"rowNumber\" style = \"font-weight: bold; text-align: right;\"></th><th title = \"Dates.Date\" style = \"text-align: left;\">Date</th><th title = \"Int64\" style = \"text-align: left;\">Int64</th><th title = \"String31\" style = \"text-align: left;\">String31</th><th title = \"Int64\" style = \"text-align: left;\">Int64</th><th title = \"String31\" style = \"text-align: left;\">String31</th><th title = \"Int64\" style = \"text-align: left;\">Int64</th><th title = \"Int64\" style = \"text-align: left;\">Int64</th><th title = \"String1\" style = \"text-align: left;\">String1</th></tr></thead><tbody><tr><td class = \"rowNumber\" style = \"font-weight: bold; text-align: right;\">1</td><td style = \"text-align: left;\">2019-10-23</td><td style = \"text-align: right;\">2020</td><td style = \"text-align: left;\">Memphis Grizzlies</td><td style = \"text-align: right;\">101</td><td style = \"text-align: left;\">Miami Heat</td><td style = \"text-align: right;\">120</td><td style = \"text-align: right;\">0</td><td style = \"text-align: left;\">N</td></tr><tr><td class = \"rowNumber\" style = \"font-weight: bold; text-align: right;\">2</td><td style = \"text-align: left;\">2019-10-26</td><td style = \"text-align: right;\">2020</td><td style = \"text-align: left;\">Miami Heat</td><td style = \"text-align: right;\">131</td><td style = \"text-align: left;\">Milwaukee Bucks</td><td style = \"text-align: right;\">126</td><td style = \"text-align: right;\">1</td><td style = \"text-align: left;\">N</td></tr><tr><td class = \"rowNumber\" style = \"font-weight: bold; text-align: right;\">3</td><td style = \"text-align: left;\">2019-10-27</td><td style = \"text-align: right;\">2020</td><td style = \"text-align: left;\">Miami Heat</td><td style = \"text-align: right;\">109</td><td style = \"text-align: left;\">Minnesota Timberwolves</td><td style = \"text-align: right;\">116</td><td style = \"text-align: right;\">0</td><td style = \"text-align: left;\">N</td></tr><tr><td class = \"rowNumber\" style = \"font-weight: bold; text-align: right;\">4</td><td style = \"text-align: left;\">2019-10-29</td><td style = \"text-align: right;\">2020</td><td style = \"text-align: left;\">Atlanta Hawks</td><td style = \"text-align: right;\">97</td><td style = \"text-align: left;\">Miami Heat</td><td style = \"text-align: right;\">112</td><td style = \"text-align: right;\">0</td><td style = \"text-align: left;\">N</td></tr><tr><td class = \"rowNumber\" style = \"font-weight: bold; text-align: right;\">5</td><td style = \"text-align: left;\">2019-10-31</td><td style = \"text-align: right;\">2020</td><td style = \"text-align: left;\">Miami Heat</td><td style = \"text-align: right;\">106</td><td style = \"text-align: left;\">Atlanta Hawks</td><td style = \"text-align: right;\">97</td><td style = \"text-align: right;\">0</td><td style = \"text-align: left;\">N</td></tr><tr><td style = \"text-align: right;\">&vellip;</td><td style = \"text-align: right;\">&vellip;</td><td style = \"text-align: right;\">&vellip;</td><td style = \"text-align: right;\">&vellip;</td><td style = \"text-align: right;\">&vellip;</td><td style = \"text-align: right;\">&vellip;</td><td style = \"text-align: right;\">&vellip;</td><td style = \"text-align: right;\">&vellip;</td><td style = \"text-align: right;\">&vellip;</td></tr><tr><td class = \"rowNumber\" style = \"font-weight: bold; text-align: right;\">69</td><td style = \"text-align: left;\">2020-08-06</td><td style = \"text-align: right;\">2020</td><td style = \"text-align: left;\">Miami Heat</td><td style = \"text-align: right;\">116</td><td style = \"text-align: left;\">Milwaukee Bucks</td><td style = \"text-align: right;\">130</td><td style = \"text-align: right;\">0</td><td style = \"text-align: left;\">N</td></tr><tr><td class = \"rowNumber\" style = \"font-weight: bold; text-align: right;\">70</td><td style = \"text-align: left;\">2020-08-08</td><td style = \"text-align: right;\">2020</td><td style = \"text-align: left;\">Phoenix Suns</td><td style = \"text-align: right;\">119</td><td style = \"text-align: left;\">Miami Heat</td><td style = \"text-align: right;\">112</td><td style = \"text-align: right;\">0</td><td style = \"text-align: left;\">N</td></tr><tr><td class = \"rowNumber\" style = \"font-weight: bold; text-align: right;\">71</td><td style = \"text-align: left;\">2020-08-10</td><td style = \"text-align: right;\">2020</td><td style = \"text-align: left;\">Indiana Pacers</td><td style = \"text-align: right;\">92</td><td style = \"text-align: left;\">Miami Heat</td><td style = \"text-align: right;\">114</td><td style = \"text-align: right;\">0</td><td style = \"text-align: left;\">N</td></tr><tr><td class = \"rowNumber\" style = \"font-weight: bold; text-align: right;\">72</td><td style = \"text-align: left;\">2020-08-12</td><td style = \"text-align: right;\">2020</td><td style = \"text-align: left;\">Miami Heat</td><td style = \"text-align: right;\">115</td><td style = \"text-align: left;\">Oklahoma City Thunder</td><td style = \"text-align: right;\">116</td><td style = \"text-align: right;\">0</td><td style = \"text-align: left;\">N</td></tr><tr><td class = \"rowNumber\" style = \"font-weight: bold; text-align: right;\">73</td><td style = \"text-align: left;\">2020-08-14</td><td style = \"text-align: right;\">2020</td><td style = \"text-align: left;\">Miami Heat</td><td style = \"text-align: right;\">92</td><td style = \"text-align: left;\">Indiana Pacers</td><td style = \"text-align: right;\">109</td><td style = \"text-align: right;\">0</td><td style = \"text-align: left;\">N</td></tr></tbody></table></div>"
      ],
      "text/latex": [
       "\\begin{tabular}{r|cccccc}\n",
       "\t& DATE & SEASON & VISITOR\\_TEAM & VISITOR\\_SCORE & HOME\\_TEAM & \\\\\n",
       "\t\\hline\n",
       "\t& Date & Int64 & String31 & Int64 & String31 & \\\\\n",
       "\t\\hline\n",
       "\t1 & 2019-10-23 & 2020 & Memphis Grizzlies & 101 & Miami Heat & $\\dots$ \\\\\n",
       "\t2 & 2019-10-26 & 2020 & Miami Heat & 131 & Milwaukee Bucks & $\\dots$ \\\\\n",
       "\t3 & 2019-10-27 & 2020 & Miami Heat & 109 & Minnesota Timberwolves & $\\dots$ \\\\\n",
       "\t4 & 2019-10-29 & 2020 & Atlanta Hawks & 97 & Miami Heat & $\\dots$ \\\\\n",
       "\t5 & 2019-10-31 & 2020 & Miami Heat & 106 & Atlanta Hawks & $\\dots$ \\\\\n",
       "\t6 & 2019-11-03 & 2020 & Houston Rockets & 100 & Miami Heat & $\\dots$ \\\\\n",
       "\t7 & 2019-11-05 & 2020 & Miami Heat & 89 & Denver Nuggets & $\\dots$ \\\\\n",
       "\t8 & 2019-11-07 & 2020 & Miami Heat & 124 & Phoenix Suns & $\\dots$ \\\\\n",
       "\t9 & 2019-11-08 & 2020 & Miami Heat & 80 & Los Angeles Lakers & $\\dots$ \\\\\n",
       "\t10 & 2019-11-12 & 2020 & Detroit Pistons & 108 & Miami Heat & $\\dots$ \\\\\n",
       "\t11 & 2019-11-14 & 2020 & Miami Heat & 108 & Cleveland Cavaliers & $\\dots$ \\\\\n",
       "\t12 & 2019-11-16 & 2020 & New Orleans Pelicans & 94 & Miami Heat & $\\dots$ \\\\\n",
       "\t13 & 2019-11-20 & 2020 & Cleveland Cavaliers & 100 & Miami Heat & $\\dots$ \\\\\n",
       "\t14 & 2019-11-22 & 2020 & Miami Heat & 116 & Chicago Bulls & $\\dots$ \\\\\n",
       "\t15 & 2019-11-23 & 2020 & Miami Heat & 86 & Philadelphia 76ers & $\\dots$ \\\\\n",
       "\t16 & 2019-11-25 & 2020 & Charlotte Hornets & 100 & Miami Heat & $\\dots$ \\\\\n",
       "\t17 & 2019-11-27 & 2020 & Miami Heat & 108 & Houston Rockets & $\\dots$ \\\\\n",
       "\t18 & 2019-11-29 & 2020 & Golden State Warriors & 105 & Miami Heat & $\\dots$ \\\\\n",
       "\t19 & 2019-12-01 & 2020 & Miami Heat & 109 & Brooklyn Nets & $\\dots$ \\\\\n",
       "\t20 & 2019-12-03 & 2020 & Miami Heat & 121 & Toronto Raptors & $\\dots$ \\\\\n",
       "\t21 & 2019-12-04 & 2020 & Miami Heat & 93 & Boston Celtics & $\\dots$ \\\\\n",
       "\t22 & 2019-12-06 & 2020 & Washington Wizards & 103 & Miami Heat & $\\dots$ \\\\\n",
       "\t23 & 2019-12-08 & 2020 & Chicago Bulls & 105 & Miami Heat & $\\dots$ \\\\\n",
       "\t24 & 2019-12-10 & 2020 & Atlanta Hawks & 121 & Miami Heat & $\\dots$ \\\\\n",
       "\t25 & 2019-12-13 & 2020 & Los Angeles Lakers & 113 & Miami Heat & $\\dots$ \\\\\n",
       "\t26 & 2019-12-14 & 2020 & Miami Heat & 122 & Dallas Mavericks & $\\dots$ \\\\\n",
       "\t27 & 2019-12-16 & 2020 & Miami Heat & 111 & Memphis Grizzlies & $\\dots$ \\\\\n",
       "\t28 & 2019-12-18 & 2020 & Miami Heat & 108 & Philadelphia 76ers & $\\dots$ \\\\\n",
       "\t29 & 2019-12-20 & 2020 & New York Knicks & 114 & Miami Heat & $\\dots$ \\\\\n",
       "\t30 & 2019-12-23 & 2020 & Utah Jazz & 104 & Miami Heat & $\\dots$ \\\\\n",
       "\t$\\dots$ & $\\dots$ & $\\dots$ & $\\dots$ & $\\dots$ & $\\dots$ &  \\\\\n",
       "\\end{tabular}\n"
      ],
      "text/plain": [
       "\u001b[1m73×8 DataFrame\u001b[0m\n",
       "\u001b[1m Row \u001b[0m│\u001b[1m DATE       \u001b[0m\u001b[1m SEASON \u001b[0m\u001b[1m VISITOR_TEAM         \u001b[0m\u001b[1m VISITOR_SCORE \u001b[0m\u001b[1m HOME_TEAM     \u001b[0m ⋯\n",
       "     │\u001b[90m Date       \u001b[0m\u001b[90m Int64  \u001b[0m\u001b[90m String31             \u001b[0m\u001b[90m Int64         \u001b[0m\u001b[90m String31      \u001b[0m ⋯\n",
       "─────┼──────────────────────────────────────────────────────────────────────────\n",
       "   1 │ 2019-10-23    2020  Memphis Grizzlies               101  Miami Heat     ⋯\n",
       "   2 │ 2019-10-26    2020  Miami Heat                      131  Milwaukee Buck\n",
       "   3 │ 2019-10-27    2020  Miami Heat                      109  Minnesota Timb\n",
       "   4 │ 2019-10-29    2020  Atlanta Hawks                    97  Miami Heat\n",
       "   5 │ 2019-10-31    2020  Miami Heat                      106  Atlanta Hawks  ⋯\n",
       "   6 │ 2019-11-03    2020  Houston Rockets                 100  Miami Heat\n",
       "   7 │ 2019-11-05    2020  Miami Heat                       89  Denver Nuggets\n",
       "   8 │ 2019-11-07    2020  Miami Heat                      124  Phoenix Suns\n",
       "   9 │ 2019-11-08    2020  Miami Heat                       80  Los Angeles La ⋯\n",
       "  10 │ 2019-11-12    2020  Detroit Pistons                 108  Miami Heat\n",
       "  11 │ 2019-11-14    2020  Miami Heat                      108  Cleveland Cava\n",
       "  ⋮  │     ⋮         ⋮              ⋮                  ⋮                  ⋮    ⋱\n",
       "  64 │ 2020-03-08    2020  Miami Heat                      100  Washington Wiz\n",
       "  65 │ 2020-03-11    2020  Charlotte Hornets               109  Miami Heat     ⋯\n",
       "  66 │ 2020-08-01    2020  Miami Heat                      125  Denver Nuggets\n",
       "  67 │ 2020-08-03    2020  Toronto Raptors                 107  Miami Heat\n",
       "  68 │ 2020-08-04    2020  Boston Celtics                  106  Miami Heat\n",
       "  69 │ 2020-08-06    2020  Miami Heat                      116  Milwaukee Buck ⋯\n",
       "  70 │ 2020-08-08    2020  Phoenix Suns                    119  Miami Heat\n",
       "  71 │ 2020-08-10    2020  Indiana Pacers                   92  Miami Heat\n",
       "  72 │ 2020-08-12    2020  Miami Heat                      115  Oklahoma City\n",
       "  73 │ 2020-08-14    2020  Miami Heat                       92  Indiana Pacers ⋯\n",
       "\u001b[36m                                                   4 columns and 52 rows omitted\u001b[0m"
      ]
     },
     "execution_count": 7,
     "metadata": {},
     "output_type": "execute_result"
    }
   ],
   "source": [
    "@chain nba2020 begin\n",
    "  subset([:VISITOR_TEAM, :HOME_TEAM, :PLAYOFF] => (a,h,p) -> (a .== \"Miami Heat\" .|| h .== \"Miami Heat\") .&& p .== \"N\")\n",
    "end"
   ]
  },
  {
   "cell_type": "markdown",
   "id": "ace628cf-0a46-4965-b1c2-229514202824",
   "metadata": {},
   "source": [
    "which gets the regular season games for the Miami Heat in 2020.  Miami only had 73 regular season games in the shorted 2020 season due to COVID.\n",
    "\n",
    "Although this seems fairly straightforward, if you use CSV files, each season is in a separate file and combining over multiple seasons can be burdensome.  Therefore, for this project we used a database and the simplest data is a SQLITE as we will need in the next section."
   ]
  },
  {
   "cell_type": "markdown",
   "id": "1f8df31d-6874-4c4b-9138-06b77d57da13",
   "metadata": {},
   "source": [
    "### Getting the Data into a SQLITE database\n",
    "\n",
    "Although CSV files are well supported and are more familiar to most people, it is advantageous to use a database to store the data.  The reasons are many, but speed, storage size are among two of them.  The script `parse-NBA-data.pl` has an option to fill a sqlite database with the data in a certain format.  Additionally, there are many Julia functions in the module NBA.jl to retrieve data from the database.  Another file will go over these.\n",
    "\n",
    "We will use the module/package SQLite to access the database directly.  Note: you may need to download/install this before using it."
   ]
  },
  {
   "cell_type": "code",
   "execution_count": 8,
   "id": "1b381702-ec59-4f15-a8d5-f5575bb7b1f8",
   "metadata": {},
   "outputs": [],
   "source": [
    "using SQLite"
   ]
  },
  {
   "cell_type": "markdown",
   "id": "ccfb72e1-5e2c-48ce-9803-1c846338b72b",
   "metadata": {},
   "source": [
    "The following will load the database that is store in the file `nba.sqlite` in the folder above the current one."
   ]
  },
  {
   "cell_type": "code",
   "execution_count": 9,
   "id": "f8777192-b66f-420a-953b-2aaf387916ec",
   "metadata": {},
   "outputs": [
    {
     "data": {
      "text/plain": [
       "SQLite.DB(\"../nba.sqlite\")"
      ]
     },
     "execution_count": 9,
     "metadata": {},
     "output_type": "execute_result"
    }
   ],
   "source": [
    "db = SQLite.DB(\"../nba.sqlite\")"
   ]
  },
  {
   "cell_type": "markdown",
   "id": "46e64bc7-210d-4a75-964e-ceefc49a166c",
   "metadata": {},
   "source": [
    "The following will load the 2000 season:"
   ]
  },
  {
   "cell_type": "code",
   "execution_count": 10,
   "id": "0fca76a1-185c-4edb-857e-68b982adbe3f",
   "metadata": {},
   "outputs": [
    {
     "data": {
      "text/html": [
       "<div><div style = \"float: left;\"><span>1264×11 DataFrame</span></div><div style = \"float: right;\"><span style = \"font-style: italic;\">1254 rows omitted</span></div><div style = \"clear: both;\"></div></div><div class = \"data-frame\" style = \"overflow-x: scroll;\"><table class = \"data-frame\" style = \"margin-bottom: 6px;\"><thead><tr class = \"header\"><th class = \"rowNumber\" style = \"font-weight: bold; text-align: right;\">Row</th><th style = \"text-align: left;\">GAME_ID</th><th style = \"text-align: left;\">DATE_ID</th><th style = \"text-align: left;\">VISITOR_ID</th><th style = \"text-align: left;\">VISITOR_SCORE</th><th style = \"text-align: left;\">HOME_ID</th><th style = \"text-align: left;\">HOME_SCORE</th><th style = \"text-align: left;\">OTS</th><th style = \"text-align: left;\">PLAYOFF</th><th style = \"text-align: left;\">DATE_ID_1</th><th style = \"text-align: left;\">DATE</th><th style = \"text-align: left;\">SEASON</th></tr><tr class = \"subheader headerLastRow\"><th class = \"rowNumber\" style = \"font-weight: bold; text-align: right;\"></th><th title = \"Int64\" style = \"text-align: left;\">Int64</th><th title = \"Int64\" style = \"text-align: left;\">Int64</th><th title = \"Int64\" style = \"text-align: left;\">Int64</th><th title = \"Int64\" style = \"text-align: left;\">Int64</th><th title = \"Int64\" style = \"text-align: left;\">Int64</th><th title = \"Int64\" style = \"text-align: left;\">Int64</th><th title = \"Int64\" style = \"text-align: left;\">Int64</th><th title = \"String\" style = \"text-align: left;\">String</th><th title = \"Int64\" style = \"text-align: left;\">Int64</th><th title = \"String\" style = \"text-align: left;\">String</th><th title = \"Int64\" style = \"text-align: left;\">Int64</th></tr></thead><tbody><tr><td class = \"rowNumber\" style = \"font-weight: bold; text-align: right;\">1</td><td style = \"text-align: right;\">35469</td><td style = \"text-align: right;\">35469</td><td style = \"text-align: right;\">70937</td><td style = \"text-align: right;\">86</td><td style = \"text-align: right;\">70938</td><td style = \"text-align: right;\">100</td><td style = \"text-align: right;\">0</td><td style = \"text-align: left;\">N</td><td style = \"text-align: right;\">35469</td><td style = \"text-align: left;\">1999-11-02</td><td style = \"text-align: right;\">2000</td></tr><tr><td class = \"rowNumber\" style = \"font-weight: bold; text-align: right;\">2</td><td style = \"text-align: right;\">35470</td><td style = \"text-align: right;\">35469</td><td style = \"text-align: right;\">70939</td><td style = \"text-align: right;\">96</td><td style = \"text-align: right;\">70940</td><td style = \"text-align: right;\">108</td><td style = \"text-align: right;\">0</td><td style = \"text-align: left;\">N</td><td style = \"text-align: right;\">35469</td><td style = \"text-align: left;\">1999-11-02</td><td style = \"text-align: right;\">2000</td></tr><tr><td class = \"rowNumber\" style = \"font-weight: bold; text-align: right;\">3</td><td style = \"text-align: right;\">35471</td><td style = \"text-align: right;\">35469</td><td style = \"text-align: right;\">70941</td><td style = \"text-align: right;\">102</td><td style = \"text-align: right;\">70942</td><td style = \"text-align: right;\">107</td><td style = \"text-align: right;\">1</td><td style = \"text-align: left;\">N</td><td style = \"text-align: right;\">35469</td><td style = \"text-align: left;\">1999-11-02</td><td style = \"text-align: right;\">2000</td></tr><tr><td class = \"rowNumber\" style = \"font-weight: bold; text-align: right;\">4</td><td style = \"text-align: right;\">35472</td><td style = \"text-align: right;\">35469</td><td style = \"text-align: right;\">70943</td><td style = \"text-align: right;\">98</td><td style = \"text-align: right;\">70944</td><td style = \"text-align: right;\">93</td><td style = \"text-align: right;\">0</td><td style = \"text-align: left;\">N</td><td style = \"text-align: right;\">35469</td><td style = \"text-align: left;\">1999-11-02</td><td style = \"text-align: right;\">2000</td></tr><tr><td class = \"rowNumber\" style = \"font-weight: bold; text-align: right;\">5</td><td style = \"text-align: right;\">35473</td><td style = \"text-align: right;\">35469</td><td style = \"text-align: right;\">70945</td><td style = \"text-align: right;\">104</td><td style = \"text-align: right;\">70946</td><td style = \"text-align: right;\">92</td><td style = \"text-align: right;\">0</td><td style = \"text-align: left;\">N</td><td style = \"text-align: right;\">35469</td><td style = \"text-align: left;\">1999-11-02</td><td style = \"text-align: right;\">2000</td></tr><tr><td style = \"text-align: right;\">&vellip;</td><td style = \"text-align: right;\">&vellip;</td><td style = \"text-align: right;\">&vellip;</td><td style = \"text-align: right;\">&vellip;</td><td style = \"text-align: right;\">&vellip;</td><td style = \"text-align: right;\">&vellip;</td><td style = \"text-align: right;\">&vellip;</td><td style = \"text-align: right;\">&vellip;</td><td style = \"text-align: right;\">&vellip;</td><td style = \"text-align: right;\">&vellip;</td><td style = \"text-align: right;\">&vellip;</td><td style = \"text-align: right;\">&vellip;</td></tr><tr><td class = \"rowNumber\" style = \"font-weight: bold; text-align: right;\">1260</td><td style = \"text-align: right;\">36728</td><td style = \"text-align: right;\">36728</td><td style = \"text-align: right;\">70949</td><td style = \"text-align: right;\">104</td><td style = \"text-align: right;\">70957</td><td style = \"text-align: right;\">111</td><td style = \"text-align: right;\">0</td><td style = \"text-align: left;\">Y</td><td style = \"text-align: right;\">36728</td><td style = \"text-align: left;\">2000-06-09</td><td style = \"text-align: right;\">2000</td></tr><tr><td class = \"rowNumber\" style = \"font-weight: bold; text-align: right;\">1261</td><td style = \"text-align: right;\">36729</td><td style = \"text-align: right;\">36729</td><td style = \"text-align: right;\">70957</td><td style = \"text-align: right;\">91</td><td style = \"text-align: right;\">70949</td><td style = \"text-align: right;\">100</td><td style = \"text-align: right;\">0</td><td style = \"text-align: left;\">Y</td><td style = \"text-align: right;\">36729</td><td style = \"text-align: left;\">2000-06-11</td><td style = \"text-align: right;\">2000</td></tr><tr><td class = \"rowNumber\" style = \"font-weight: bold; text-align: right;\">1262</td><td style = \"text-align: right;\">36730</td><td style = \"text-align: right;\">36730</td><td style = \"text-align: right;\">70957</td><td style = \"text-align: right;\">120</td><td style = \"text-align: right;\">70949</td><td style = \"text-align: right;\">118</td><td style = \"text-align: right;\">1</td><td style = \"text-align: left;\">Y</td><td style = \"text-align: right;\">36730</td><td style = \"text-align: left;\">2000-06-14</td><td style = \"text-align: right;\">2000</td></tr><tr><td class = \"rowNumber\" style = \"font-weight: bold; text-align: right;\">1263</td><td style = \"text-align: right;\">36731</td><td style = \"text-align: right;\">36731</td><td style = \"text-align: right;\">70957</td><td style = \"text-align: right;\">87</td><td style = \"text-align: right;\">70949</td><td style = \"text-align: right;\">120</td><td style = \"text-align: right;\">0</td><td style = \"text-align: left;\">Y</td><td style = \"text-align: right;\">36731</td><td style = \"text-align: left;\">2000-06-16</td><td style = \"text-align: right;\">2000</td></tr><tr><td class = \"rowNumber\" style = \"font-weight: bold; text-align: right;\">1264</td><td style = \"text-align: right;\">36732</td><td style = \"text-align: right;\">36732</td><td style = \"text-align: right;\">70949</td><td style = \"text-align: right;\">111</td><td style = \"text-align: right;\">70957</td><td style = \"text-align: right;\">116</td><td style = \"text-align: right;\">0</td><td style = \"text-align: left;\">Y</td><td style = \"text-align: right;\">36732</td><td style = \"text-align: left;\">2000-06-19</td><td style = \"text-align: right;\">2000</td></tr></tbody></table></div>"
      ],
      "text/latex": [
       "\\begin{tabular}{r|ccccccccc}\n",
       "\t& GAME\\_ID & DATE\\_ID & VISITOR\\_ID & VISITOR\\_SCORE & HOME\\_ID & HOME\\_SCORE & OTS & PLAYOFF & \\\\\n",
       "\t\\hline\n",
       "\t& Int64 & Int64 & Int64 & Int64 & Int64 & Int64 & Int64 & String & \\\\\n",
       "\t\\hline\n",
       "\t1 & 35469 & 35469 & 70937 & 86 & 70938 & 100 & 0 & N & $\\dots$ \\\\\n",
       "\t2 & 35470 & 35469 & 70939 & 96 & 70940 & 108 & 0 & N & $\\dots$ \\\\\n",
       "\t3 & 35471 & 35469 & 70941 & 102 & 70942 & 107 & 1 & N & $\\dots$ \\\\\n",
       "\t4 & 35472 & 35469 & 70943 & 98 & 70944 & 93 & 0 & N & $\\dots$ \\\\\n",
       "\t5 & 35473 & 35469 & 70945 & 104 & 70946 & 92 & 0 & N & $\\dots$ \\\\\n",
       "\t6 & 35474 & 35469 & 70947 & 122 & 70948 & 128 & 2 & N & $\\dots$ \\\\\n",
       "\t7 & 35475 & 35469 & 70949 & 119 & 70950 & 112 & 0 & N & $\\dots$ \\\\\n",
       "\t8 & 35476 & 35469 & 70951 & 84 & 70952 & 92 & 0 & N & $\\dots$ \\\\\n",
       "\t9 & 35477 & 35469 & 70953 & 76 & 70954 & 89 & 0 & N & $\\dots$ \\\\\n",
       "\t10 & 35478 & 35469 & 70955 & 103 & 70956 & 90 & 0 & N & $\\dots$ \\\\\n",
       "\t11 & 35479 & 35469 & 70957 & 91 & 70958 & 84 & 0 & N & $\\dots$ \\\\\n",
       "\t12 & 35480 & 35469 & 70959 & 106 & 70960 & 86 & 0 & N & $\\dots$ \\\\\n",
       "\t13 & 35481 & 35469 & 70961 & 87 & 70962 & 94 & 0 & N & $\\dots$ \\\\\n",
       "\t14 & 35482 & 35482 & 70962 & 101 & 70955 & 112 & 0 & N & $\\dots$ \\\\\n",
       "\t15 & 35483 & 35482 & 70952 & 84 & 70966 & 74 & 0 & N & $\\dots$ \\\\\n",
       "\t16 & 35484 & 35482 & 70950 & 90 & 70951 & 97 & 0 & N & $\\dots$ \\\\\n",
       "\t17 & 35485 & 35482 & 70960 & 88 & 70957 & 103 & 0 & N & $\\dots$ \\\\\n",
       "\t18 & 35486 & 35482 & 70947 & 94 & 70937 & 103 & 0 & N & $\\dots$ \\\\\n",
       "\t19 & 35487 & 35482 & 70946 & 98 & 70959 & 121 & 0 & N & $\\dots$ \\\\\n",
       "\t20 & 35488 & 35488 & 70943 & 119 & 70961 & 109 & 0 & N & $\\dots$ \\\\\n",
       "\t21 & 35489 & 35488 & 70949 & 89 & 70938 & 98 & 0 & N & $\\dots$ \\\\\n",
       "\t22 & 35490 & 35488 & 70953 & 80 & 70941 & 84 & 0 & N & $\\dots$ \\\\\n",
       "\t23 & 35491 & 35488 & 70939 & 81 & 70954 & 104 & 0 & N & $\\dots$ \\\\\n",
       "\t24 & 35492 & 35488 & 70940 & 96 & 70945 & 106 & 0 & N & $\\dots$ \\\\\n",
       "\t25 & 35493 & 35488 & 70948 & 86 & 70956 & 97 & 0 & N & $\\dots$ \\\\\n",
       "\t26 & 35494 & 35488 & 70944 & 82 & 70958 & 98 & 0 & N & $\\dots$ \\\\\n",
       "\t27 & 35495 & 35495 & 70938 & 100 & 70955 & 103 & 0 & N & $\\dots$ \\\\\n",
       "\t28 & 35496 & 35495 & 70948 & 105 & 70966 & 87 & 0 & N & $\\dots$ \\\\\n",
       "\t29 & 35497 & 35495 & 70952 & 103 & 70947 & 91 & 0 & N & $\\dots$ \\\\\n",
       "\t30 & 35498 & 35495 & 70954 & 95 & 70944 & 85 & 0 & N & $\\dots$ \\\\\n",
       "\t$\\dots$ & $\\dots$ & $\\dots$ & $\\dots$ & $\\dots$ & $\\dots$ & $\\dots$ & $\\dots$ & $\\dots$ &  \\\\\n",
       "\\end{tabular}\n"
      ],
      "text/plain": [
       "\u001b[1m1264×11 DataFrame\u001b[0m\n",
       "\u001b[1m  Row \u001b[0m│\u001b[1m GAME_ID \u001b[0m\u001b[1m DATE_ID \u001b[0m\u001b[1m VISITOR_ID \u001b[0m\u001b[1m VISITOR_SCORE \u001b[0m\u001b[1m HOME_ID \u001b[0m\u001b[1m HOME_SCORE \u001b[0m\u001b[1m OTS \u001b[0m ⋯\n",
       "      │\u001b[90m Int64   \u001b[0m\u001b[90m Int64   \u001b[0m\u001b[90m Int64      \u001b[0m\u001b[90m Int64         \u001b[0m\u001b[90m Int64   \u001b[0m\u001b[90m Int64      \u001b[0m\u001b[90m Int6\u001b[0m ⋯\n",
       "──────┼─────────────────────────────────────────────────────────────────────────\n",
       "    1 │   35469    35469       70937             86    70938         100       ⋯\n",
       "    2 │   35470    35469       70939             96    70940         108\n",
       "    3 │   35471    35469       70941            102    70942         107\n",
       "    4 │   35472    35469       70943             98    70944          93\n",
       "    5 │   35473    35469       70945            104    70946          92       ⋯\n",
       "    6 │   35474    35469       70947            122    70948         128\n",
       "    7 │   35475    35469       70949            119    70950         112\n",
       "    8 │   35476    35469       70951             84    70952          92\n",
       "    9 │   35477    35469       70953             76    70954          89       ⋯\n",
       "   10 │   35478    35469       70955            103    70956          90\n",
       "   11 │   35479    35469       70957             91    70958          84\n",
       "  ⋮   │    ⋮        ⋮         ⋮             ⋮           ⋮         ⋮         ⋮  ⋱\n",
       " 1255 │   36723    36723       70952             79    70949          88\n",
       " 1256 │   36724    36724       70949             93    70952          80       ⋯\n",
       " 1257 │   36725    36724       70957             93    70959         103\n",
       " 1258 │   36726    36726       70959             84    70957          89\n",
       " 1259 │   36727    36727       70949             87    70957         104\n",
       " 1260 │   36728    36728       70949            104    70957         111       ⋯\n",
       " 1261 │   36729    36729       70957             91    70949         100\n",
       " 1262 │   36730    36730       70957            120    70949         118\n",
       " 1263 │   36731    36731       70957             87    70949         120\n",
       " 1264 │   36732    36732       70949            111    70957         116       ⋯\n",
       "\u001b[36m                                                 5 columns and 1243 rows omitted\u001b[0m"
      ]
     },
     "execution_count": 10,
     "metadata": {},
     "output_type": "execute_result"
    }
   ],
   "source": [
    "nba2000db = DataFrame(DBInterface.execute(db,\"SELECT * FROM NBA_SCORES JOIN NBA_GAME_DATES on NBA_SCORES.DATE_ID= NBA_GAME_DATES.DATE_ID WHERE SEASON=2000\"))"
   ]
  },
  {
   "cell_type": "markdown",
   "id": "6a7e273d-85f1-4934-bf8b-450bf1a700d0",
   "metadata": {},
   "source": [
    "The string that fetches out of the database is a bit complicated in that we chose to split the database up into different tables for efficiency.  To pull a season out, we need to join two tables, then filter (with the `WHERE` command).  \n",
    "\n",
    "As you may notice, there are columns labelled `_ID` which are ids to games, dates, teams, not directly the strings representing them. \n",
    "\n",
    "If we have all of the data in a sqlite database, we can do any database calls to extract or manipulate the database.  For example, instead of using team ids and game ids, we can join the other tables to make a more readable table.  For example: \n"
   ]
  },
  {
   "cell_type": "code",
   "execution_count": 11,
   "id": "a6af60ab-3957-4676-bd5a-4734c0a53fdc",
   "metadata": {},
   "outputs": [
    {
     "data": {
      "text/html": [
       "<div><div style = \"float: left;\"><span>1264×8 DataFrame</span></div><div style = \"float: right;\"><span style = \"font-style: italic;\">1254 rows omitted</span></div><div style = \"clear: both;\"></div></div><div class = \"data-frame\" style = \"overflow-x: scroll;\"><table class = \"data-frame\" style = \"margin-bottom: 6px;\"><thead><tr class = \"header\"><th class = \"rowNumber\" style = \"font-weight: bold; text-align: right;\">Row</th><th style = \"text-align: left;\">DATE</th><th style = \"text-align: left;\">SEASON</th><th style = \"text-align: left;\">VISITOR_TEAM</th><th style = \"text-align: left;\">VISITOR_SCORE</th><th style = \"text-align: left;\">HOME_TEAM</th><th style = \"text-align: left;\">HOME_SCORE</th><th style = \"text-align: left;\">OTS</th><th style = \"text-align: left;\">PLAYOFF</th></tr><tr class = \"subheader headerLastRow\"><th class = \"rowNumber\" style = \"font-weight: bold; text-align: right;\"></th><th title = \"String\" style = \"text-align: left;\">String</th><th title = \"Int64\" style = \"text-align: left;\">Int64</th><th title = \"String\" style = \"text-align: left;\">String</th><th title = \"Int64\" style = \"text-align: left;\">Int64</th><th title = \"String\" style = \"text-align: left;\">String</th><th title = \"Int64\" style = \"text-align: left;\">Int64</th><th title = \"Int64\" style = \"text-align: left;\">Int64</th><th title = \"String\" style = \"text-align: left;\">String</th></tr></thead><tbody><tr><td class = \"rowNumber\" style = \"font-weight: bold; text-align: right;\">1</td><td style = \"text-align: left;\">1999-11-02</td><td style = \"text-align: right;\">2000</td><td style = \"text-align: left;\">Orlando Magic</td><td style = \"text-align: right;\">86</td><td style = \"text-align: left;\">Charlotte Hornets</td><td style = \"text-align: right;\">100</td><td style = \"text-align: right;\">0</td><td style = \"text-align: left;\">N</td></tr><tr><td class = \"rowNumber\" style = \"font-weight: bold; text-align: right;\">2</td><td style = \"text-align: left;\">1999-11-02</td><td style = \"text-align: right;\">2000</td><td style = \"text-align: left;\">Golden State Warriors</td><td style = \"text-align: right;\">96</td><td style = \"text-align: left;\">Dallas Mavericks</td><td style = \"text-align: right;\">108</td><td style = \"text-align: right;\">0</td><td style = \"text-align: left;\">N</td></tr><tr><td class = \"rowNumber\" style = \"font-weight: bold; text-align: right;\">3</td><td style = \"text-align: left;\">1999-11-02</td><td style = \"text-align: right;\">2000</td><td style = \"text-align: left;\">Phoenix Suns</td><td style = \"text-align: right;\">102</td><td style = \"text-align: left;\">Denver Nuggets</td><td style = \"text-align: right;\">107</td><td style = \"text-align: right;\">1</td><td style = \"text-align: left;\">N</td></tr><tr><td class = \"rowNumber\" style = \"font-weight: bold; text-align: right;\">4</td><td style = \"text-align: left;\">1999-11-02</td><td style = \"text-align: right;\">2000</td><td style = \"text-align: left;\">Milwaukee Bucks</td><td style = \"text-align: right;\">98</td><td style = \"text-align: left;\">Houston Rockets</td><td style = \"text-align: right;\">93</td><td style = \"text-align: right;\">0</td><td style = \"text-align: left;\">N</td></tr><tr><td class = \"rowNumber\" style = \"font-weight: bold; text-align: right;\">5</td><td style = \"text-align: left;\">1999-11-02</td><td style = \"text-align: right;\">2000</td><td style = \"text-align: left;\">Seattle SuperSonics</td><td style = \"text-align: right;\">104</td><td style = \"text-align: left;\">Los Angeles Clippers</td><td style = \"text-align: right;\">92</td><td style = \"text-align: right;\">0</td><td style = \"text-align: left;\">N</td></tr><tr><td style = \"text-align: right;\">&vellip;</td><td style = \"text-align: right;\">&vellip;</td><td style = \"text-align: right;\">&vellip;</td><td style = \"text-align: right;\">&vellip;</td><td style = \"text-align: right;\">&vellip;</td><td style = \"text-align: right;\">&vellip;</td><td style = \"text-align: right;\">&vellip;</td><td style = \"text-align: right;\">&vellip;</td><td style = \"text-align: right;\">&vellip;</td></tr><tr><td class = \"rowNumber\" style = \"font-weight: bold; text-align: right;\">1260</td><td style = \"text-align: left;\">2000-06-09</td><td style = \"text-align: right;\">2000</td><td style = \"text-align: left;\">Indiana Pacers</td><td style = \"text-align: right;\">104</td><td style = \"text-align: left;\">Los Angeles Lakers</td><td style = \"text-align: right;\">111</td><td style = \"text-align: right;\">0</td><td style = \"text-align: left;\">Y</td></tr><tr><td class = \"rowNumber\" style = \"font-weight: bold; text-align: right;\">1261</td><td style = \"text-align: left;\">2000-06-11</td><td style = \"text-align: right;\">2000</td><td style = \"text-align: left;\">Los Angeles Lakers</td><td style = \"text-align: right;\">91</td><td style = \"text-align: left;\">Indiana Pacers</td><td style = \"text-align: right;\">100</td><td style = \"text-align: right;\">0</td><td style = \"text-align: left;\">Y</td></tr><tr><td class = \"rowNumber\" style = \"font-weight: bold; text-align: right;\">1262</td><td style = \"text-align: left;\">2000-06-14</td><td style = \"text-align: right;\">2000</td><td style = \"text-align: left;\">Los Angeles Lakers</td><td style = \"text-align: right;\">120</td><td style = \"text-align: left;\">Indiana Pacers</td><td style = \"text-align: right;\">118</td><td style = \"text-align: right;\">1</td><td style = \"text-align: left;\">Y</td></tr><tr><td class = \"rowNumber\" style = \"font-weight: bold; text-align: right;\">1263</td><td style = \"text-align: left;\">2000-06-16</td><td style = \"text-align: right;\">2000</td><td style = \"text-align: left;\">Los Angeles Lakers</td><td style = \"text-align: right;\">87</td><td style = \"text-align: left;\">Indiana Pacers</td><td style = \"text-align: right;\">120</td><td style = \"text-align: right;\">0</td><td style = \"text-align: left;\">Y</td></tr><tr><td class = \"rowNumber\" style = \"font-weight: bold; text-align: right;\">1264</td><td style = \"text-align: left;\">2000-06-19</td><td style = \"text-align: right;\">2000</td><td style = \"text-align: left;\">Indiana Pacers</td><td style = \"text-align: right;\">111</td><td style = \"text-align: left;\">Los Angeles Lakers</td><td style = \"text-align: right;\">116</td><td style = \"text-align: right;\">0</td><td style = \"text-align: left;\">Y</td></tr></tbody></table></div>"
      ],
      "text/latex": [
       "\\begin{tabular}{r|cccccc}\n",
       "\t& DATE & SEASON & VISITOR\\_TEAM & VISITOR\\_SCORE & HOME\\_TEAM & \\\\\n",
       "\t\\hline\n",
       "\t& String & Int64 & String & Int64 & String & \\\\\n",
       "\t\\hline\n",
       "\t1 & 1999-11-02 & 2000 & Orlando Magic & 86 & Charlotte Hornets & $\\dots$ \\\\\n",
       "\t2 & 1999-11-02 & 2000 & Golden State Warriors & 96 & Dallas Mavericks & $\\dots$ \\\\\n",
       "\t3 & 1999-11-02 & 2000 & Phoenix Suns & 102 & Denver Nuggets & $\\dots$ \\\\\n",
       "\t4 & 1999-11-02 & 2000 & Milwaukee Bucks & 98 & Houston Rockets & $\\dots$ \\\\\n",
       "\t5 & 1999-11-02 & 2000 & Seattle SuperSonics & 104 & Los Angeles Clippers & $\\dots$ \\\\\n",
       "\t6 & 1999-11-02 & 2000 & Detroit Pistons & 122 & Miami Heat & $\\dots$ \\\\\n",
       "\t7 & 1999-11-02 & 2000 & Indiana Pacers & 119 & New Jersey Nets & $\\dots$ \\\\\n",
       "\t8 & 1999-11-02 & 2000 & Cleveland Cavaliers & 84 & New York Knicks & $\\dots$ \\\\\n",
       "\t9 & 1999-11-02 & 2000 & Philadelphia 76ers & 76 & San Antonio Spurs & $\\dots$ \\\\\n",
       "\t10 & 1999-11-02 & 2000 & Boston Celtics & 103 & Toronto Raptors & $\\dots$ \\\\\n",
       "\t11 & 1999-11-02 & 2000 & Los Angeles Lakers & 91 & Utah Jazz & $\\dots$ \\\\\n",
       "\t12 & 1999-11-02 & 2000 & Portland Trail Blazers & 106 & Vancouver Grizzlies & $\\dots$ \\\\\n",
       "\t13 & 1999-11-02 & 2000 & Atlanta Hawks & 87 & Washington Wizards & $\\dots$ \\\\\n",
       "\t14 & 1999-11-03 & 2000 & Washington Wizards & 101 & Boston Celtics & $\\dots$ \\\\\n",
       "\t15 & 1999-11-03 & 2000 & New York Knicks & 84 & Chicago Bulls & $\\dots$ \\\\\n",
       "\t16 & 1999-11-03 & 2000 & New Jersey Nets & 90 & Cleveland Cavaliers & $\\dots$ \\\\\n",
       "\t17 & 1999-11-03 & 2000 & Vancouver Grizzlies & 88 & Los Angeles Lakers & $\\dots$ \\\\\n",
       "\t18 & 1999-11-03 & 2000 & Detroit Pistons & 94 & Orlando Magic & $\\dots$ \\\\\n",
       "\t19 & 1999-11-03 & 2000 & Los Angeles Clippers & 98 & Portland Trail Blazers & $\\dots$ \\\\\n",
       "\t20 & 1999-11-04 & 2000 & Milwaukee Bucks & 119 & Atlanta Hawks & $\\dots$ \\\\\n",
       "\t21 & 1999-11-04 & 2000 & Indiana Pacers & 89 & Charlotte Hornets & $\\dots$ \\\\\n",
       "\t22 & 1999-11-04 & 2000 & Philadelphia 76ers & 80 & Phoenix Suns & $\\dots$ \\\\\n",
       "\t23 & 1999-11-04 & 2000 & Golden State Warriors & 81 & San Antonio Spurs & $\\dots$ \\\\\n",
       "\t24 & 1999-11-04 & 2000 & Dallas Mavericks & 96 & Seattle SuperSonics & $\\dots$ \\\\\n",
       "\t25 & 1999-11-04 & 2000 & Miami Heat & 86 & Toronto Raptors & $\\dots$ \\\\\n",
       "\t26 & 1999-11-04 & 2000 & Houston Rockets & 82 & Utah Jazz & $\\dots$ \\\\\n",
       "\t27 & 1999-11-05 & 2000 & Charlotte Hornets & 100 & Boston Celtics & $\\dots$ \\\\\n",
       "\t28 & 1999-11-05 & 2000 & Miami Heat & 105 & Chicago Bulls & $\\dots$ \\\\\n",
       "\t29 & 1999-11-05 & 2000 & New York Knicks & 103 & Detroit Pistons & $\\dots$ \\\\\n",
       "\t30 & 1999-11-05 & 2000 & San Antonio Spurs & 95 & Houston Rockets & $\\dots$ \\\\\n",
       "\t$\\dots$ & $\\dots$ & $\\dots$ & $\\dots$ & $\\dots$ & $\\dots$ &  \\\\\n",
       "\\end{tabular}\n"
      ],
      "text/plain": [
       "\u001b[1m1264×8 DataFrame\u001b[0m\n",
       "\u001b[1m  Row \u001b[0m│\u001b[1m DATE       \u001b[0m\u001b[1m SEASON \u001b[0m\u001b[1m VISITOR_TEAM           \u001b[0m\u001b[1m VISITOR_SCORE \u001b[0m\u001b[1m HOME_TEAM  \u001b[0m ⋯\n",
       "      │\u001b[90m String     \u001b[0m\u001b[90m Int64  \u001b[0m\u001b[90m String                 \u001b[0m\u001b[90m Int64         \u001b[0m\u001b[90m String     \u001b[0m ⋯\n",
       "──────┼─────────────────────────────────────────────────────────────────────────\n",
       "    1 │ 1999-11-02    2000  Orlando Magic                      86  Charlotte H ⋯\n",
       "    2 │ 1999-11-02    2000  Golden State Warriors              96  Dallas Mave\n",
       "    3 │ 1999-11-02    2000  Phoenix Suns                      102  Denver Nugg\n",
       "    4 │ 1999-11-02    2000  Milwaukee Bucks                    98  Houston Roc\n",
       "    5 │ 1999-11-02    2000  Seattle SuperSonics               104  Los Angeles ⋯\n",
       "    6 │ 1999-11-02    2000  Detroit Pistons                   122  Miami Heat\n",
       "    7 │ 1999-11-02    2000  Indiana Pacers                    119  New Jersey\n",
       "    8 │ 1999-11-02    2000  Cleveland Cavaliers                84  New York Kn\n",
       "    9 │ 1999-11-02    2000  Philadelphia 76ers                 76  San Antonio ⋯\n",
       "   10 │ 1999-11-02    2000  Boston Celtics                    103  Toronto Rap\n",
       "   11 │ 1999-11-02    2000  Los Angeles Lakers                 91  Utah Jazz\n",
       "  ⋮   │     ⋮         ⋮               ⋮                   ⋮                  ⋮ ⋱\n",
       " 1255 │ 2000-05-31    2000  New York Knicks                    79  Indiana Pac\n",
       " 1256 │ 2000-06-02    2000  Indiana Pacers                     93  New York Kn ⋯\n",
       " 1257 │ 2000-06-02    2000  Los Angeles Lakers                 93  Portland Tr\n",
       " 1258 │ 2000-06-04    2000  Portland Trail Blazers             84  Los Angeles\n",
       " 1259 │ 2000-06-07    2000  Indiana Pacers                     87  Los Angeles\n",
       " 1260 │ 2000-06-09    2000  Indiana Pacers                    104  Los Angeles ⋯\n",
       " 1261 │ 2000-06-11    2000  Los Angeles Lakers                 91  Indiana Pac\n",
       " 1262 │ 2000-06-14    2000  Los Angeles Lakers                120  Indiana Pac\n",
       " 1263 │ 2000-06-16    2000  Los Angeles Lakers                 87  Indiana Pac\n",
       " 1264 │ 2000-06-19    2000  Indiana Pacers                    111  Los Angeles ⋯\n",
       "\u001b[36m                                                 4 columns and 1243 rows omitted\u001b[0m"
      ]
     },
     "execution_count": 11,
     "metadata": {},
     "output_type": "execute_result"
    }
   ],
   "source": [
    "nba2000reg = DataFrame(DBInterface.execute(db,\n",
    "    \"\"\"SELECT NBA_GAME_DATES.DATE, NBA_GAME_DATES.SEASON, VTN.NAME AS VISITOR_TEAM, VISITOR_SCORE, HTN.NAME AS HOME_TEAM, HOME_SCORE, OTS, PLAYOFF FROM NBA_SCORES \n",
    "      JOIN NBA_GAME_DATES ON NBA_SCORES.DATE_ID = NBA_GAME_DATES.DATE_ID \n",
    "      JOIN NBA_TEAM_NAMES as VTN ON NBA_SCORES.VISITOR_ID = VTN.TEAM_ID\n",
    "      JOIN NBA_TEAM_NAMES AS HTN ON NBA_SCORES.HOME_ID = HTN.TEAM_ID\n",
    "      WHERE NBA_GAME_DATES.SEASON=2000\"\"\"))"
   ]
  },
  {
   "cell_type": "markdown",
   "id": "9616febb-f084-4518-b97d-cf96f108e935",
   "metadata": {},
   "source": [
    "You probably agree that writing the commands to create the 2000 season was a bit crazy and we won't have to do this. \n",
    "\n",
    "As we will see in the next jupyter notebook, many of the standard database calls have been put into functions for ease.  Note that once we have a DataFrame though, we can maninpulate it using many of the techniques we saw in the getting_started notebook.  \n",
    "\n",
    "The following pulls just the regular season"
   ]
  },
  {
   "cell_type": "code",
   "execution_count": 12,
   "id": "fb18e6dc-c27f-427d-8459-0c96b7c7d00b",
   "metadata": {},
   "outputs": [
    {
     "data": {
      "text/html": [
       "<div><div style = \"float: left;\"><span>1189×8 DataFrame</span></div><div style = \"float: right;\"><span style = \"font-style: italic;\">1179 rows omitted</span></div><div style = \"clear: both;\"></div></div><div class = \"data-frame\" style = \"overflow-x: scroll;\"><table class = \"data-frame\" style = \"margin-bottom: 6px;\"><thead><tr class = \"header\"><th class = \"rowNumber\" style = \"font-weight: bold; text-align: right;\">Row</th><th style = \"text-align: left;\">DATE</th><th style = \"text-align: left;\">SEASON</th><th style = \"text-align: left;\">VISITOR_TEAM</th><th style = \"text-align: left;\">VISITOR_SCORE</th><th style = \"text-align: left;\">HOME_TEAM</th><th style = \"text-align: left;\">HOME_SCORE</th><th style = \"text-align: left;\">OTS</th><th style = \"text-align: left;\">PLAYOFF</th></tr><tr class = \"subheader headerLastRow\"><th class = \"rowNumber\" style = \"font-weight: bold; text-align: right;\"></th><th title = \"String\" style = \"text-align: left;\">String</th><th title = \"Int64\" style = \"text-align: left;\">Int64</th><th title = \"String\" style = \"text-align: left;\">String</th><th title = \"Int64\" style = \"text-align: left;\">Int64</th><th title = \"String\" style = \"text-align: left;\">String</th><th title = \"Int64\" style = \"text-align: left;\">Int64</th><th title = \"Int64\" style = \"text-align: left;\">Int64</th><th title = \"String\" style = \"text-align: left;\">String</th></tr></thead><tbody><tr><td class = \"rowNumber\" style = \"font-weight: bold; text-align: right;\">1</td><td style = \"text-align: left;\">1999-11-02</td><td style = \"text-align: right;\">2000</td><td style = \"text-align: left;\">Orlando Magic</td><td style = \"text-align: right;\">86</td><td style = \"text-align: left;\">Charlotte Hornets</td><td style = \"text-align: right;\">100</td><td style = \"text-align: right;\">0</td><td style = \"text-align: left;\">N</td></tr><tr><td class = \"rowNumber\" style = \"font-weight: bold; text-align: right;\">2</td><td style = \"text-align: left;\">1999-11-02</td><td style = \"text-align: right;\">2000</td><td style = \"text-align: left;\">Golden State Warriors</td><td style = \"text-align: right;\">96</td><td style = \"text-align: left;\">Dallas Mavericks</td><td style = \"text-align: right;\">108</td><td style = \"text-align: right;\">0</td><td style = \"text-align: left;\">N</td></tr><tr><td class = \"rowNumber\" style = \"font-weight: bold; text-align: right;\">3</td><td style = \"text-align: left;\">1999-11-02</td><td style = \"text-align: right;\">2000</td><td style = \"text-align: left;\">Phoenix Suns</td><td style = \"text-align: right;\">102</td><td style = \"text-align: left;\">Denver Nuggets</td><td style = \"text-align: right;\">107</td><td style = \"text-align: right;\">1</td><td style = \"text-align: left;\">N</td></tr><tr><td class = \"rowNumber\" style = \"font-weight: bold; text-align: right;\">4</td><td style = \"text-align: left;\">1999-11-02</td><td style = \"text-align: right;\">2000</td><td style = \"text-align: left;\">Milwaukee Bucks</td><td style = \"text-align: right;\">98</td><td style = \"text-align: left;\">Houston Rockets</td><td style = \"text-align: right;\">93</td><td style = \"text-align: right;\">0</td><td style = \"text-align: left;\">N</td></tr><tr><td class = \"rowNumber\" style = \"font-weight: bold; text-align: right;\">5</td><td style = \"text-align: left;\">1999-11-02</td><td style = \"text-align: right;\">2000</td><td style = \"text-align: left;\">Seattle SuperSonics</td><td style = \"text-align: right;\">104</td><td style = \"text-align: left;\">Los Angeles Clippers</td><td style = \"text-align: right;\">92</td><td style = \"text-align: right;\">0</td><td style = \"text-align: left;\">N</td></tr><tr><td style = \"text-align: right;\">&vellip;</td><td style = \"text-align: right;\">&vellip;</td><td style = \"text-align: right;\">&vellip;</td><td style = \"text-align: right;\">&vellip;</td><td style = \"text-align: right;\">&vellip;</td><td style = \"text-align: right;\">&vellip;</td><td style = \"text-align: right;\">&vellip;</td><td style = \"text-align: right;\">&vellip;</td><td style = \"text-align: right;\">&vellip;</td></tr><tr><td class = \"rowNumber\" style = \"font-weight: bold; text-align: right;\">1185</td><td style = \"text-align: left;\">2000-04-19</td><td style = \"text-align: right;\">2000</td><td style = \"text-align: left;\">Toronto Raptors</td><td style = \"text-align: right;\">100</td><td style = \"text-align: left;\">Orlando Magic</td><td style = \"text-align: right;\">106</td><td style = \"text-align: right;\">0</td><td style = \"text-align: left;\">N</td></tr><tr><td class = \"rowNumber\" style = \"font-weight: bold; text-align: right;\">1186</td><td style = \"text-align: left;\">2000-04-19</td><td style = \"text-align: right;\">2000</td><td style = \"text-align: left;\">Denver Nuggets</td><td style = \"text-align: right;\">96</td><td style = \"text-align: left;\">Portland Trail Blazers</td><td style = \"text-align: right;\">95</td><td style = \"text-align: right;\">0</td><td style = \"text-align: left;\">N</td></tr><tr><td class = \"rowNumber\" style = \"font-weight: bold; text-align: right;\">1187</td><td style = \"text-align: left;\">2000-04-19</td><td style = \"text-align: right;\">2000</td><td style = \"text-align: left;\">Los Angeles Lakers</td><td style = \"text-align: right;\">98</td><td style = \"text-align: left;\">San Antonio Spurs</td><td style = \"text-align: right;\">103</td><td style = \"text-align: right;\">1</td><td style = \"text-align: left;\">N</td></tr><tr><td class = \"rowNumber\" style = \"font-weight: bold; text-align: right;\">1188</td><td style = \"text-align: left;\">2000-04-19</td><td style = \"text-align: right;\">2000</td><td style = \"text-align: left;\">Los Angeles Clippers</td><td style = \"text-align: right;\">114</td><td style = \"text-align: left;\">Seattle SuperSonics</td><td style = \"text-align: right;\">106</td><td style = \"text-align: right;\">0</td><td style = \"text-align: left;\">N</td></tr><tr><td class = \"rowNumber\" style = \"font-weight: bold; text-align: right;\">1189</td><td style = \"text-align: left;\">2000-04-19</td><td style = \"text-align: right;\">2000</td><td style = \"text-align: left;\">Sacramento Kings</td><td style = \"text-align: right;\">86</td><td style = \"text-align: left;\">Utah Jazz</td><td style = \"text-align: right;\">95</td><td style = \"text-align: right;\">0</td><td style = \"text-align: left;\">N</td></tr></tbody></table></div>"
      ],
      "text/latex": [
       "\\begin{tabular}{r|cccccc}\n",
       "\t& DATE & SEASON & VISITOR\\_TEAM & VISITOR\\_SCORE & HOME\\_TEAM & \\\\\n",
       "\t\\hline\n",
       "\t& String & Int64 & String & Int64 & String & \\\\\n",
       "\t\\hline\n",
       "\t1 & 1999-11-02 & 2000 & Orlando Magic & 86 & Charlotte Hornets & $\\dots$ \\\\\n",
       "\t2 & 1999-11-02 & 2000 & Golden State Warriors & 96 & Dallas Mavericks & $\\dots$ \\\\\n",
       "\t3 & 1999-11-02 & 2000 & Phoenix Suns & 102 & Denver Nuggets & $\\dots$ \\\\\n",
       "\t4 & 1999-11-02 & 2000 & Milwaukee Bucks & 98 & Houston Rockets & $\\dots$ \\\\\n",
       "\t5 & 1999-11-02 & 2000 & Seattle SuperSonics & 104 & Los Angeles Clippers & $\\dots$ \\\\\n",
       "\t6 & 1999-11-02 & 2000 & Detroit Pistons & 122 & Miami Heat & $\\dots$ \\\\\n",
       "\t7 & 1999-11-02 & 2000 & Indiana Pacers & 119 & New Jersey Nets & $\\dots$ \\\\\n",
       "\t8 & 1999-11-02 & 2000 & Cleveland Cavaliers & 84 & New York Knicks & $\\dots$ \\\\\n",
       "\t9 & 1999-11-02 & 2000 & Philadelphia 76ers & 76 & San Antonio Spurs & $\\dots$ \\\\\n",
       "\t10 & 1999-11-02 & 2000 & Boston Celtics & 103 & Toronto Raptors & $\\dots$ \\\\\n",
       "\t11 & 1999-11-02 & 2000 & Los Angeles Lakers & 91 & Utah Jazz & $\\dots$ \\\\\n",
       "\t12 & 1999-11-02 & 2000 & Portland Trail Blazers & 106 & Vancouver Grizzlies & $\\dots$ \\\\\n",
       "\t13 & 1999-11-02 & 2000 & Atlanta Hawks & 87 & Washington Wizards & $\\dots$ \\\\\n",
       "\t14 & 1999-11-03 & 2000 & Washington Wizards & 101 & Boston Celtics & $\\dots$ \\\\\n",
       "\t15 & 1999-11-03 & 2000 & New York Knicks & 84 & Chicago Bulls & $\\dots$ \\\\\n",
       "\t16 & 1999-11-03 & 2000 & New Jersey Nets & 90 & Cleveland Cavaliers & $\\dots$ \\\\\n",
       "\t17 & 1999-11-03 & 2000 & Vancouver Grizzlies & 88 & Los Angeles Lakers & $\\dots$ \\\\\n",
       "\t18 & 1999-11-03 & 2000 & Detroit Pistons & 94 & Orlando Magic & $\\dots$ \\\\\n",
       "\t19 & 1999-11-03 & 2000 & Los Angeles Clippers & 98 & Portland Trail Blazers & $\\dots$ \\\\\n",
       "\t20 & 1999-11-04 & 2000 & Milwaukee Bucks & 119 & Atlanta Hawks & $\\dots$ \\\\\n",
       "\t21 & 1999-11-04 & 2000 & Indiana Pacers & 89 & Charlotte Hornets & $\\dots$ \\\\\n",
       "\t22 & 1999-11-04 & 2000 & Philadelphia 76ers & 80 & Phoenix Suns & $\\dots$ \\\\\n",
       "\t23 & 1999-11-04 & 2000 & Golden State Warriors & 81 & San Antonio Spurs & $\\dots$ \\\\\n",
       "\t24 & 1999-11-04 & 2000 & Dallas Mavericks & 96 & Seattle SuperSonics & $\\dots$ \\\\\n",
       "\t25 & 1999-11-04 & 2000 & Miami Heat & 86 & Toronto Raptors & $\\dots$ \\\\\n",
       "\t26 & 1999-11-04 & 2000 & Houston Rockets & 82 & Utah Jazz & $\\dots$ \\\\\n",
       "\t27 & 1999-11-05 & 2000 & Charlotte Hornets & 100 & Boston Celtics & $\\dots$ \\\\\n",
       "\t28 & 1999-11-05 & 2000 & Miami Heat & 105 & Chicago Bulls & $\\dots$ \\\\\n",
       "\t29 & 1999-11-05 & 2000 & New York Knicks & 103 & Detroit Pistons & $\\dots$ \\\\\n",
       "\t30 & 1999-11-05 & 2000 & San Antonio Spurs & 95 & Houston Rockets & $\\dots$ \\\\\n",
       "\t$\\dots$ & $\\dots$ & $\\dots$ & $\\dots$ & $\\dots$ & $\\dots$ &  \\\\\n",
       "\\end{tabular}\n"
      ],
      "text/plain": [
       "\u001b[1m1189×8 DataFrame\u001b[0m\n",
       "\u001b[1m  Row \u001b[0m│\u001b[1m DATE       \u001b[0m\u001b[1m SEASON \u001b[0m\u001b[1m VISITOR_TEAM           \u001b[0m\u001b[1m VISITOR_SCORE \u001b[0m\u001b[1m HOME_TEAM  \u001b[0m ⋯\n",
       "      │\u001b[90m String     \u001b[0m\u001b[90m Int64  \u001b[0m\u001b[90m String                 \u001b[0m\u001b[90m Int64         \u001b[0m\u001b[90m String     \u001b[0m ⋯\n",
       "──────┼─────────────────────────────────────────────────────────────────────────\n",
       "    1 │ 1999-11-02    2000  Orlando Magic                      86  Charlotte H ⋯\n",
       "    2 │ 1999-11-02    2000  Golden State Warriors              96  Dallas Mave\n",
       "    3 │ 1999-11-02    2000  Phoenix Suns                      102  Denver Nugg\n",
       "    4 │ 1999-11-02    2000  Milwaukee Bucks                    98  Houston Roc\n",
       "    5 │ 1999-11-02    2000  Seattle SuperSonics               104  Los Angeles ⋯\n",
       "    6 │ 1999-11-02    2000  Detroit Pistons                   122  Miami Heat\n",
       "    7 │ 1999-11-02    2000  Indiana Pacers                    119  New Jersey\n",
       "    8 │ 1999-11-02    2000  Cleveland Cavaliers                84  New York Kn\n",
       "    9 │ 1999-11-02    2000  Philadelphia 76ers                 76  San Antonio ⋯\n",
       "   10 │ 1999-11-02    2000  Boston Celtics                    103  Toronto Rap\n",
       "   11 │ 1999-11-02    2000  Los Angeles Lakers                 91  Utah Jazz\n",
       "  ⋮   │     ⋮         ⋮               ⋮                   ⋮                  ⋮ ⋱\n",
       " 1180 │ 2000-04-19    2000  Vancouver Grizzlies                96  Houston Roc\n",
       " 1181 │ 2000-04-19    2000  Atlanta Hawks                      92  Indiana Pac ⋯\n",
       " 1182 │ 2000-04-19    2000  Washington Wizards                105  Milwaukee B\n",
       " 1183 │ 2000-04-19    2000  Dallas Mavericks                  113  Minnesota T\n",
       " 1184 │ 2000-04-19    2000  Cleveland Cavaliers               111  New Jersey\n",
       " 1185 │ 2000-04-19    2000  Toronto Raptors                   100  Orlando Mag ⋯\n",
       " 1186 │ 2000-04-19    2000  Denver Nuggets                     96  Portland Tr\n",
       " 1187 │ 2000-04-19    2000  Los Angeles Lakers                 98  San Antonio\n",
       " 1188 │ 2000-04-19    2000  Los Angeles Clippers              114  Seattle Sup\n",
       " 1189 │ 2000-04-19    2000  Sacramento Kings                   86  Utah Jazz   ⋯\n",
       "\u001b[36m                                                 4 columns and 1168 rows omitted\u001b[0m"
      ]
     },
     "execution_count": 12,
     "metadata": {},
     "output_type": "execute_result"
    }
   ],
   "source": [
    "@chain nba2000reg begin\n",
    "  subset(:PLAYOFF => p-> p .== \"N\")\n",
    "end"
   ]
  },
  {
   "cell_type": "markdown",
   "id": "c4915128-4533-4e91-8a00-8ffdbda38bb9",
   "metadata": {},
   "source": [
    "And the following is the regular season games for the Charlotte Hornets:"
   ]
  },
  {
   "cell_type": "code",
   "execution_count": 13,
   "id": "434bc668-8bbd-4e5e-941b-fd5243b7469f",
   "metadata": {},
   "outputs": [
    {
     "data": {
      "text/html": [
       "<div><div style = \"float: left;\"><span>82×8 DataFrame</span></div><div style = \"float: right;\"><span style = \"font-style: italic;\">72 rows omitted</span></div><div style = \"clear: both;\"></div></div><div class = \"data-frame\" style = \"overflow-x: scroll;\"><table class = \"data-frame\" style = \"margin-bottom: 6px;\"><thead><tr class = \"header\"><th class = \"rowNumber\" style = \"font-weight: bold; text-align: right;\">Row</th><th style = \"text-align: left;\">DATE</th><th style = \"text-align: left;\">SEASON</th><th style = \"text-align: left;\">VISITOR_TEAM</th><th style = \"text-align: left;\">VISITOR_SCORE</th><th style = \"text-align: left;\">HOME_TEAM</th><th style = \"text-align: left;\">HOME_SCORE</th><th style = \"text-align: left;\">OTS</th><th style = \"text-align: left;\">PLAYOFF</th></tr><tr class = \"subheader headerLastRow\"><th class = \"rowNumber\" style = \"font-weight: bold; text-align: right;\"></th><th title = \"String\" style = \"text-align: left;\">String</th><th title = \"Int64\" style = \"text-align: left;\">Int64</th><th title = \"String\" style = \"text-align: left;\">String</th><th title = \"Int64\" style = \"text-align: left;\">Int64</th><th title = \"String\" style = \"text-align: left;\">String</th><th title = \"Int64\" style = \"text-align: left;\">Int64</th><th title = \"Int64\" style = \"text-align: left;\">Int64</th><th title = \"String\" style = \"text-align: left;\">String</th></tr></thead><tbody><tr><td class = \"rowNumber\" style = \"font-weight: bold; text-align: right;\">1</td><td style = \"text-align: left;\">1999-11-02</td><td style = \"text-align: right;\">2000</td><td style = \"text-align: left;\">Orlando Magic</td><td style = \"text-align: right;\">86</td><td style = \"text-align: left;\">Charlotte Hornets</td><td style = \"text-align: right;\">100</td><td style = \"text-align: right;\">0</td><td style = \"text-align: left;\">N</td></tr><tr><td class = \"rowNumber\" style = \"font-weight: bold; text-align: right;\">2</td><td style = \"text-align: left;\">1999-11-04</td><td style = \"text-align: right;\">2000</td><td style = \"text-align: left;\">Indiana Pacers</td><td style = \"text-align: right;\">89</td><td style = \"text-align: left;\">Charlotte Hornets</td><td style = \"text-align: right;\">98</td><td style = \"text-align: right;\">0</td><td style = \"text-align: left;\">N</td></tr><tr><td class = \"rowNumber\" style = \"font-weight: bold; text-align: right;\">3</td><td style = \"text-align: left;\">1999-11-05</td><td style = \"text-align: right;\">2000</td><td style = \"text-align: left;\">Charlotte Hornets</td><td style = \"text-align: right;\">100</td><td style = \"text-align: left;\">Boston Celtics</td><td style = \"text-align: right;\">103</td><td style = \"text-align: right;\">0</td><td style = \"text-align: left;\">N</td></tr><tr><td class = \"rowNumber\" style = \"font-weight: bold; text-align: right;\">4</td><td style = \"text-align: left;\">1999-11-07</td><td style = \"text-align: right;\">2000</td><td style = \"text-align: left;\">Charlotte Hornets</td><td style = \"text-align: right;\">99</td><td style = \"text-align: left;\">Toronto Raptors</td><td style = \"text-align: right;\">109</td><td style = \"text-align: right;\">0</td><td style = \"text-align: left;\">N</td></tr><tr><td class = \"rowNumber\" style = \"font-weight: bold; text-align: right;\">5</td><td style = \"text-align: left;\">1999-11-10</td><td style = \"text-align: right;\">2000</td><td style = \"text-align: left;\">Milwaukee Bucks</td><td style = \"text-align: right;\">111</td><td style = \"text-align: left;\">Charlotte Hornets</td><td style = \"text-align: right;\">117</td><td style = \"text-align: right;\">0</td><td style = \"text-align: left;\">N</td></tr><tr><td style = \"text-align: right;\">&vellip;</td><td style = \"text-align: right;\">&vellip;</td><td style = \"text-align: right;\">&vellip;</td><td style = \"text-align: right;\">&vellip;</td><td style = \"text-align: right;\">&vellip;</td><td style = \"text-align: right;\">&vellip;</td><td style = \"text-align: right;\">&vellip;</td><td style = \"text-align: right;\">&vellip;</td><td style = \"text-align: right;\">&vellip;</td></tr><tr><td class = \"rowNumber\" style = \"font-weight: bold; text-align: right;\">78</td><td style = \"text-align: left;\">2000-04-12</td><td style = \"text-align: right;\">2000</td><td style = \"text-align: left;\">Atlanta Hawks</td><td style = \"text-align: right;\">87</td><td style = \"text-align: left;\">Charlotte Hornets</td><td style = \"text-align: right;\">119</td><td style = \"text-align: right;\">0</td><td style = \"text-align: left;\">N</td></tr><tr><td class = \"rowNumber\" style = \"font-weight: bold; text-align: right;\">79</td><td style = \"text-align: left;\">2000-04-14</td><td style = \"text-align: right;\">2000</td><td style = \"text-align: left;\">Charlotte Hornets</td><td style = \"text-align: right;\">109</td><td style = \"text-align: left;\">Milwaukee Bucks</td><td style = \"text-align: right;\">106</td><td style = \"text-align: right;\">1</td><td style = \"text-align: left;\">N</td></tr><tr><td class = \"rowNumber\" style = \"font-weight: bold; text-align: right;\">80</td><td style = \"text-align: left;\">2000-04-16</td><td style = \"text-align: right;\">2000</td><td style = \"text-align: left;\">Charlotte Hornets</td><td style = \"text-align: right;\">105</td><td style = \"text-align: left;\">Boston Celtics</td><td style = \"text-align: right;\">102</td><td style = \"text-align: right;\">0</td><td style = \"text-align: left;\">N</td></tr><tr><td class = \"rowNumber\" style = \"font-weight: bold; text-align: right;\">81</td><td style = \"text-align: left;\">2000-04-18</td><td style = \"text-align: right;\">2000</td><td style = \"text-align: left;\">Charlotte Hornets</td><td style = \"text-align: right;\">103</td><td style = \"text-align: left;\">Cleveland Cavaliers</td><td style = \"text-align: right;\">88</td><td style = \"text-align: right;\">0</td><td style = \"text-align: left;\">N</td></tr><tr><td class = \"rowNumber\" style = \"font-weight: bold; text-align: right;\">82</td><td style = \"text-align: left;\">2000-04-19</td><td style = \"text-align: right;\">2000</td><td style = \"text-align: left;\">Miami Heat</td><td style = \"text-align: right;\">73</td><td style = \"text-align: left;\">Charlotte Hornets</td><td style = \"text-align: right;\">83</td><td style = \"text-align: right;\">0</td><td style = \"text-align: left;\">N</td></tr></tbody></table></div>"
      ],
      "text/latex": [
       "\\begin{tabular}{r|cccccc}\n",
       "\t& DATE & SEASON & VISITOR\\_TEAM & VISITOR\\_SCORE & HOME\\_TEAM & \\\\\n",
       "\t\\hline\n",
       "\t& String & Int64 & String & Int64 & String & \\\\\n",
       "\t\\hline\n",
       "\t1 & 1999-11-02 & 2000 & Orlando Magic & 86 & Charlotte Hornets & $\\dots$ \\\\\n",
       "\t2 & 1999-11-04 & 2000 & Indiana Pacers & 89 & Charlotte Hornets & $\\dots$ \\\\\n",
       "\t3 & 1999-11-05 & 2000 & Charlotte Hornets & 100 & Boston Celtics & $\\dots$ \\\\\n",
       "\t4 & 1999-11-07 & 2000 & Charlotte Hornets & 99 & Toronto Raptors & $\\dots$ \\\\\n",
       "\t5 & 1999-11-10 & 2000 & Milwaukee Bucks & 111 & Charlotte Hornets & $\\dots$ \\\\\n",
       "\t6 & 1999-11-12 & 2000 & New Jersey Nets & 92 & Charlotte Hornets & $\\dots$ \\\\\n",
       "\t7 & 1999-11-13 & 2000 & Charlotte Hornets & 79 & San Antonio Spurs & $\\dots$ \\\\\n",
       "\t8 & 1999-11-16 & 2000 & Charlotte Hornets & 98 & Atlanta Hawks & $\\dots$ \\\\\n",
       "\t9 & 1999-11-17 & 2000 & Dallas Mavericks & 99 & Charlotte Hornets & $\\dots$ \\\\\n",
       "\t10 & 1999-11-19 & 2000 & Charlotte Hornets & 103 & Orlando Magic & $\\dots$ \\\\\n",
       "\t11 & 1999-11-20 & 2000 & Portland Trail Blazers & 100 & Charlotte Hornets & $\\dots$ \\\\\n",
       "\t12 & 1999-11-24 & 2000 & Vancouver Grizzlies & 73 & Charlotte Hornets & $\\dots$ \\\\\n",
       "\t13 & 1999-11-26 & 2000 & Washington Wizards & 85 & Charlotte Hornets & $\\dots$ \\\\\n",
       "\t14 & 1999-11-27 & 2000 & Charlotte Hornets & 89 & Cleveland Cavaliers & $\\dots$ \\\\\n",
       "\t15 & 1999-12-01 & 2000 & Charlotte Hornets & 90 & Portland Trail Blazers & $\\dots$ \\\\\n",
       "\t16 & 1999-12-03 & 2000 & Charlotte Hornets & 113 & Vancouver Grizzlies & $\\dots$ \\\\\n",
       "\t17 & 1999-12-05 & 2000 & Charlotte Hornets & 103 & Seattle SuperSonics & $\\dots$ \\\\\n",
       "\t18 & 1999-12-08 & 2000 & Golden State Warriors & 106 & Charlotte Hornets & $\\dots$ \\\\\n",
       "\t19 & 1999-12-10 & 2000 & Denver Nuggets & 99 & Charlotte Hornets & $\\dots$ \\\\\n",
       "\t20 & 1999-12-11 & 2000 & Charlotte Hornets & 106 & Philadelphia 76ers & $\\dots$ \\\\\n",
       "\t21 & 1999-12-15 & 2000 & Minnesota Timberwolves & 98 & Charlotte Hornets & $\\dots$ \\\\\n",
       "\t22 & 1999-12-17 & 2000 & Cleveland Cavaliers & 86 & Charlotte Hornets & $\\dots$ \\\\\n",
       "\t23 & 1999-12-18 & 2000 & Charlotte Hornets & 106 & Miami Heat & $\\dots$ \\\\\n",
       "\t24 & 1999-12-20 & 2000 & Charlotte Hornets & 109 & New York Knicks & $\\dots$ \\\\\n",
       "\t25 & 1999-12-23 & 2000 & Orlando Magic & 110 & Charlotte Hornets & $\\dots$ \\\\\n",
       "\t26 & 1999-12-26 & 2000 & Charlotte Hornets & 96 & Detroit Pistons & $\\dots$ \\\\\n",
       "\t27 & 1999-12-27 & 2000 & Atlanta Hawks & 104 & Charlotte Hornets & $\\dots$ \\\\\n",
       "\t28 & 1999-12-29 & 2000 & Milwaukee Bucks & 105 & Charlotte Hornets & $\\dots$ \\\\\n",
       "\t29 & 1999-12-30 & 2000 & Charlotte Hornets & 99 & Indiana Pacers & $\\dots$ \\\\\n",
       "\t30 & 2000-01-04 & 2000 & Charlotte Hornets & 80 & Phoenix Suns & $\\dots$ \\\\\n",
       "\t$\\dots$ & $\\dots$ & $\\dots$ & $\\dots$ & $\\dots$ & $\\dots$ &  \\\\\n",
       "\\end{tabular}\n"
      ],
      "text/plain": [
       "\u001b[1m82×8 DataFrame\u001b[0m\n",
       "\u001b[1m Row \u001b[0m│\u001b[1m DATE       \u001b[0m\u001b[1m SEASON \u001b[0m\u001b[1m VISITOR_TEAM           \u001b[0m\u001b[1m VISITOR_SCORE \u001b[0m\u001b[1m HOME_TEAM   \u001b[0m ⋯\n",
       "     │\u001b[90m String     \u001b[0m\u001b[90m Int64  \u001b[0m\u001b[90m String                 \u001b[0m\u001b[90m Int64         \u001b[0m\u001b[90m String      \u001b[0m ⋯\n",
       "─────┼──────────────────────────────────────────────────────────────────────────\n",
       "   1 │ 1999-11-02    2000  Orlando Magic                      86  Charlotte Ho ⋯\n",
       "   2 │ 1999-11-04    2000  Indiana Pacers                     89  Charlotte Ho\n",
       "   3 │ 1999-11-05    2000  Charlotte Hornets                 100  Boston Celti\n",
       "   4 │ 1999-11-07    2000  Charlotte Hornets                  99  Toronto Rapt\n",
       "   5 │ 1999-11-10    2000  Milwaukee Bucks                   111  Charlotte Ho ⋯\n",
       "   6 │ 1999-11-12    2000  New Jersey Nets                    92  Charlotte Ho\n",
       "   7 │ 1999-11-13    2000  Charlotte Hornets                  79  San Antonio\n",
       "   8 │ 1999-11-16    2000  Charlotte Hornets                  98  Atlanta Hawk\n",
       "   9 │ 1999-11-17    2000  Dallas Mavericks                   99  Charlotte Ho ⋯\n",
       "  10 │ 1999-11-19    2000  Charlotte Hornets                 103  Orlando Magi\n",
       "  11 │ 1999-11-20    2000  Portland Trail Blazers            100  Charlotte Ho\n",
       "  ⋮  │     ⋮         ⋮               ⋮                   ⋮                 ⋮   ⋱\n",
       "  73 │ 2000-04-04    2000  Boston Celtics                    105  Charlotte Ho\n",
       "  74 │ 2000-04-06    2000  Charlotte Hornets                  70  Miami Heat   ⋯\n",
       "  75 │ 2000-04-07    2000  Detroit Pistons                    97  Charlotte Ho\n",
       "  76 │ 2000-04-09    2000  Indiana Pacers                     80  Charlotte Ho\n",
       "  77 │ 2000-04-10    2000  Charlotte Hornets                 107  Washington W\n",
       "  78 │ 2000-04-12    2000  Atlanta Hawks                      87  Charlotte Ho ⋯\n",
       "  79 │ 2000-04-14    2000  Charlotte Hornets                 109  Milwaukee Bu\n",
       "  80 │ 2000-04-16    2000  Charlotte Hornets                 105  Boston Celti\n",
       "  81 │ 2000-04-18    2000  Charlotte Hornets                 103  Cleveland Ca\n",
       "  82 │ 2000-04-19    2000  Miami Heat                         73  Charlotte Ho ⋯\n",
       "\u001b[36m                                                   4 columns and 61 rows omitted\u001b[0m"
      ]
     },
     "execution_count": 13,
     "metadata": {},
     "output_type": "execute_result"
    }
   ],
   "source": [
    "@chain nba2000reg begin\n",
    "  subset([:PLAYOFF, :VISITOR_TEAM, :HOME_TEAM] => (p,v,h)-> p .== \"N\" .&& (v .== \"Charlotte Hornets\" .|| h .== \"Charlotte Hornets\"))\n",
    "end"
   ]
  },
  {
   "cell_type": "markdown",
   "id": "9cbe637b-c6c9-4032-a3c1-ceb071f35c47",
   "metadata": {},
   "source": [
    "Since the sql commands to pull info out of the databases is a bit complicated, these will be placed into a separate module that will make it easy to pull out.  See the `NBA_module` notebook for help getting started with this."
   ]
  }
 ],
 "metadata": {
  "kernelspec": {
   "display_name": "Julia 1.9.0-beta3",
   "language": "julia",
   "name": "julia-1.9"
  },
  "language_info": {
   "file_extension": ".jl",
   "mimetype": "application/julia",
   "name": "julia",
   "version": "1.9.0"
  }
 },
 "nbformat": 4,
 "nbformat_minor": 5
}
